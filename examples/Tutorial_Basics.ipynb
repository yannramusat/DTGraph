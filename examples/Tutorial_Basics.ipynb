{
 "cells": [
  {
   "cell_type": "markdown",
   "id": "8b71b784-13c0-4a1d-aec3-7c0829943b10",
   "metadata": {},
   "source": [
    "# Tutorial: An introduction to property graph transformations\n",
    "\n",
    "In this tutorial, you will learn the key concepts related to our property graph transformations:\n",
    "* How to specify transformations of property graph with this framework (i.e., Understanding how we make use of Skolem functions to construct new property graphs.)\n",
    "* How the rules in a single transformation interact with each other (i.e., How content of output elements can be jointly specified in several rules.)\n",
    "* Understand the notion of *conflicts*, and how to deal with them.\n",
    "* How this framework integrates with openCypher (i.e., How the rules are compiled into openCypher scripts and in which context they are executed.)\n",
    "* What property graph transformations can do (i.e., The kind of constructs that can be expressed.) and their limitations.\n",
    "\n",
    "## 1. Preliminaries\n",
    "\n",
    "By default this notebook is configured to connect to a local **Neo4j** instance running inside a **Docker container**. This [notebook](./Tutorial_Connecting_Neo4j_Docker.ipynb) will guide you through the process of setting up a local Docker container and connecting to it."
   ]
  },
  {
   "cell_type": "code",
   "execution_count": 2,
   "id": "1bc030c8-7ad4-4e73-90af-c8dd609edc54",
   "metadata": {},
   "outputs": [],
   "source": [
    "from dtgraph import Neo4jGraph, Rule, Transformation\n",
    "hostname = \"localhost\"\n",
    "password = \"\"\n",
    "uri = f\"bolt://{hostname}:7687\"\n",
    "graph = Neo4jGraph(uri, database=\"neo4j\", username=\"\", password=password)"
   ]
  },
  {
   "cell_type": "markdown",
   "id": "3a97760c-ab85-454f-a93b-dbeef1241c70",
   "metadata": {},
   "source": [
    "For this tutorial, we will use the [Movies dataset](https://neo4j.com/docs/getting-started/appendix/example-data/) from Neo4j, which can be loaded into the database using the following command."
   ]
  },
  {
   "cell_type": "code",
   "execution_count": 3,
   "id": "fdc326e0-4c9e-4cb4-8760-4db2f92c1d09",
   "metadata": {},
   "outputs": [
    {
     "name": "stderr",
     "output_type": "stream",
     "text": [
      "Transaction failed and will be retried in 1.0505740342720233s (The allocation of an extra 2,0 MiB would use more than the limit 5,5 GiB. Currently using 5,5 GiB. dbms.memory.transaction.total.max threshold reached)\n",
      "Transaction failed and will be retried in 2.1491119495673487s (The allocation of an extra 2,0 MiB would use more than the limit 5,5 GiB. Currently using 5,5 GiB. dbms.memory.transaction.total.max threshold reached)\n"
     ]
    },
    {
     "ename": "TransientError",
     "evalue": "{code: Neo.TransientError.General.MemoryPoolOutOfMemoryError} {message: The allocation of an extra 2,0 MiB would use more than the limit 5,5 GiB. Currently using 5,5 GiB. dbms.memory.transaction.total.max threshold reached}",
     "output_type": "error",
     "traceback": [
      "\u001b[0;31m---------------------------------------------------------------------------\u001b[0m",
      "\u001b[0;31mTransientError\u001b[0m                            Traceback (most recent call last)",
      "Cell \u001b[0;32mIn[3], line 2\u001b[0m\n\u001b[1;32m      1\u001b[0m \u001b[38;5;28;01mfrom\u001b[39;00m \u001b[38;5;21;01mdtgraph\u001b[39;00m\u001b[38;5;21;01m.\u001b[39;00m\u001b[38;5;21;01mscenarios\u001b[39;00m\u001b[38;5;21;01m.\u001b[39;00m\u001b[38;5;21;01mmovies\u001b[39;00m \u001b[38;5;28;01mimport\u001b[39;00m Movies\n\u001b[0;32m----> 2\u001b[0m \u001b[43mMovies\u001b[49m\u001b[38;5;241;43m.\u001b[39;49m\u001b[43mload\u001b[49m\u001b[43m(\u001b[49m\u001b[43mgraph\u001b[49m\u001b[43m)\u001b[49m\n",
      "File \u001b[0;32m~/research/DTGraph/dtgraph/scenarios/movies.py:516\u001b[0m, in \u001b[0;36mMovies.load\u001b[0;34m(graph, size)\u001b[0m\n\u001b[1;32m      4\u001b[0m \u001b[38;5;129m@staticmethod\u001b[39m\n\u001b[1;32m      5\u001b[0m \u001b[38;5;28;01mdef\u001b[39;00m \u001b[38;5;21mload\u001b[39m(graph, size \u001b[38;5;241m=\u001b[39m \u001b[38;5;28;01mNone\u001b[39;00m):\n\u001b[1;32m      6\u001b[0m     script \u001b[38;5;241m=\u001b[39m \u001b[38;5;124m\"\"\"\u001b[39m\n\u001b[1;32m      7\u001b[0m \u001b[38;5;124m        CREATE (TheMatrix:Movie \u001b[39m\u001b[38;5;124m{\u001b[39m\u001b[38;5;124mtitle:\u001b[39m\u001b[38;5;124m'\u001b[39m\u001b[38;5;124mThe Matrix\u001b[39m\u001b[38;5;124m'\u001b[39m\u001b[38;5;124m, released:1999, tagline:\u001b[39m\u001b[38;5;124m'\u001b[39m\u001b[38;5;124mWelcome to the Real World\u001b[39m\u001b[38;5;124m'\u001b[39m\u001b[38;5;124m})\u001b[39m\n\u001b[1;32m      8\u001b[0m \u001b[38;5;124m        CREATE (Keanu:Person \u001b[39m\u001b[38;5;124m{\u001b[39m\u001b[38;5;124mname:\u001b[39m\u001b[38;5;124m'\u001b[39m\u001b[38;5;124mKeanu Reeves\u001b[39m\u001b[38;5;124m'\u001b[39m\u001b[38;5;124m, born:1964})\u001b[39m\n\u001b[0;32m   (...)\u001b[0m\n\u001b[1;32m    514\u001b[0m \u001b[38;5;124m        MATCH (a)-[:ACTED_IN]->(m)<-[:DIRECTED]-(d) RETURN a,m,d LIMIT 10;\u001b[39m\n\u001b[1;32m    515\u001b[0m \u001b[38;5;124m    \u001b[39m\u001b[38;5;124m\"\"\"\u001b[39m\n\u001b[0;32m--> 516\u001b[0m     \u001b[43mgraph\u001b[49m\u001b[38;5;241;43m.\u001b[39;49m\u001b[43mflush_database\u001b[49m\u001b[43m(\u001b[49m\u001b[43m)\u001b[49m\n\u001b[1;32m    517\u001b[0m     _ \u001b[38;5;241m=\u001b[39m graph\u001b[38;5;241m.\u001b[39mload_scenario_script(script, stats\u001b[38;5;241m=\u001b[39m\u001b[38;5;28;01mTrue\u001b[39;00m)\n",
      "File \u001b[0;32m~/research/DTGraph/dtgraph/backend/neo4j/graph.py:35\u001b[0m, in \u001b[0;36mNeo4jGraph.flush_database\u001b[0;34m(self)\u001b[0m\n\u001b[1;32m     31\u001b[0m \u001b[38;5;28;01mdef\u001b[39;00m \u001b[38;5;21mflush_database\u001b[39m(\u001b[38;5;28mself\u001b[39m):\n\u001b[1;32m     32\u001b[0m     flush_query \u001b[38;5;241m=\u001b[39m \u001b[38;5;124m\"\"\"\u001b[39m\n\u001b[1;32m     33\u001b[0m \u001b[38;5;124m    MATCH (n) DETACH DELETE(n)\u001b[39m\n\u001b[1;32m     34\u001b[0m \u001b[38;5;124m    \u001b[39m\u001b[38;5;124m\"\"\"\u001b[39m\n\u001b[0;32m---> 35\u001b[0m     records, summary, keys \u001b[38;5;241m=\u001b[39m \u001b[38;5;28;43mself\u001b[39;49m\u001b[38;5;241;43m.\u001b[39;49m\u001b[43mdriver\u001b[49m\u001b[38;5;241;43m.\u001b[39;49m\u001b[43mexecute_query\u001b[49m\u001b[43m(\u001b[49m\n\u001b[1;32m     36\u001b[0m \u001b[43m        \u001b[49m\u001b[43mflush_query\u001b[49m\u001b[43m,\u001b[49m\n\u001b[1;32m     37\u001b[0m \u001b[43m        \u001b[49m\u001b[43mdatabase\u001b[49m\u001b[38;5;241;43m=\u001b[39;49m\u001b[38;5;28;43mself\u001b[39;49m\u001b[38;5;241;43m.\u001b[39;49m\u001b[43mdatabase\u001b[49m\u001b[43m)\u001b[49m\n\u001b[1;32m     38\u001b[0m     \u001b[38;5;28;01mif\u001b[39;00m(\u001b[38;5;28mself\u001b[39m\u001b[38;5;241m.\u001b[39mverbose):\n\u001b[1;32m     39\u001b[0m         \u001b[38;5;28mself\u001b[39m\u001b[38;5;241m.\u001b[39mprint_query_stats(records, summary, keys)\n",
      "File \u001b[0;32m~/research/DTGraph/venv/lib/python3.11/site-packages/neo4j/_sync/driver.py:902\u001b[0m, in \u001b[0;36mDriver.execute_query\u001b[0;34m(self, query_, parameters_, routing_, database_, impersonated_user_, bookmark_manager_, auth_, result_transformer_, **kwargs)\u001b[0m\n\u001b[1;32m    899\u001b[0m     \u001b[38;5;28;01mraise\u001b[39;00m \u001b[38;5;167;01mValueError\u001b[39;00m(\u001b[38;5;124m\"\u001b[39m\u001b[38;5;124mInvalid routing control value: \u001b[39m\u001b[38;5;132;01m%r\u001b[39;00m\u001b[38;5;124m\"\u001b[39m\n\u001b[1;32m    900\u001b[0m                      \u001b[38;5;241m%\u001b[39m routing_)\n\u001b[1;32m    901\u001b[0m \u001b[38;5;28;01mwith\u001b[39;00m session\u001b[38;5;241m.\u001b[39m_pipelined_begin:\n\u001b[0;32m--> 902\u001b[0m     \u001b[38;5;28;01mreturn\u001b[39;00m \u001b[43msession\u001b[49m\u001b[38;5;241;43m.\u001b[39;49m\u001b[43m_run_transaction\u001b[49m\u001b[43m(\u001b[49m\n\u001b[1;32m    903\u001b[0m \u001b[43m        \u001b[49m\u001b[43maccess_mode\u001b[49m\u001b[43m,\u001b[49m\u001b[43m \u001b[49m\u001b[43mTelemetryAPI\u001b[49m\u001b[38;5;241;43m.\u001b[39;49m\u001b[43mDRIVER\u001b[49m\u001b[43m,\u001b[49m\n\u001b[1;32m    904\u001b[0m \u001b[43m        \u001b[49m\u001b[43mwork\u001b[49m\u001b[43m,\u001b[49m\u001b[43m \u001b[49m\u001b[43m(\u001b[49m\u001b[43mquery_str\u001b[49m\u001b[43m,\u001b[49m\u001b[43m \u001b[49m\u001b[43mparameters\u001b[49m\u001b[43m,\u001b[49m\u001b[43m \u001b[49m\u001b[43mresult_transformer_\u001b[49m\u001b[43m)\u001b[49m\u001b[43m,\u001b[49m\u001b[43m \u001b[49m\u001b[43m{\u001b[49m\u001b[43m}\u001b[49m\n\u001b[1;32m    905\u001b[0m \u001b[43m    \u001b[49m\u001b[43m)\u001b[49m\n",
      "File \u001b[0;32m~/research/DTGraph/venv/lib/python3.11/site-packages/neo4j/_sync/work/session.py:588\u001b[0m, in \u001b[0;36mSession._run_transaction\u001b[0;34m(self, access_mode, api, transaction_function, args, kwargs)\u001b[0m\n\u001b[1;32m    585\u001b[0m         \u001b[38;5;28;01mraise\u001b[39;00m\n\u001b[1;32m    587\u001b[0m \u001b[38;5;28;01mif\u001b[39;00m errors:\n\u001b[0;32m--> 588\u001b[0m     \u001b[38;5;28;01mraise\u001b[39;00m errors[\u001b[38;5;241m-\u001b[39m\u001b[38;5;241m1\u001b[39m]\n\u001b[1;32m    589\u001b[0m \u001b[38;5;28;01melse\u001b[39;00m:\n\u001b[1;32m    590\u001b[0m     \u001b[38;5;28;01mraise\u001b[39;00m ServiceUnavailable(\u001b[38;5;124m\"\u001b[39m\u001b[38;5;124mTransaction failed\u001b[39m\u001b[38;5;124m\"\u001b[39m)\n",
      "File \u001b[0;32m~/research/DTGraph/venv/lib/python3.11/site-packages/neo4j/_sync/work/session.py:564\u001b[0m, in \u001b[0;36mSession._run_transaction\u001b[0;34m(self, access_mode, api, transaction_function, args, kwargs)\u001b[0m\n\u001b[1;32m    562\u001b[0m         \u001b[38;5;28;01mraise\u001b[39;00m\n\u001b[1;32m    563\u001b[0m     \u001b[38;5;28;01melse\u001b[39;00m:\n\u001b[0;32m--> 564\u001b[0m         \u001b[43mtx\u001b[49m\u001b[38;5;241;43m.\u001b[39;49m\u001b[43m_commit\u001b[49m\u001b[43m(\u001b[49m\u001b[43m)\u001b[49m\n\u001b[1;32m    565\u001b[0m \u001b[38;5;28;01mexcept\u001b[39;00m (DriverError, Neo4jError) \u001b[38;5;28;01mas\u001b[39;00m error:\n\u001b[1;32m    566\u001b[0m     \u001b[38;5;28mself\u001b[39m\u001b[38;5;241m.\u001b[39m_disconnect()\n",
      "File \u001b[0;32m~/research/DTGraph/venv/lib/python3.11/site-packages/neo4j/_sync/work/transaction.py:191\u001b[0m, in \u001b[0;36mTransactionBase._commit\u001b[0;34m(self)\u001b[0m\n\u001b[1;32m    189\u001b[0m \u001b[38;5;28mself\u001b[39m\u001b[38;5;241m.\u001b[39m_connection\u001b[38;5;241m.\u001b[39mcommit(on_success\u001b[38;5;241m=\u001b[39mmetadata\u001b[38;5;241m.\u001b[39mupdate)\n\u001b[1;32m    190\u001b[0m \u001b[38;5;28mself\u001b[39m\u001b[38;5;241m.\u001b[39m_connection\u001b[38;5;241m.\u001b[39msend_all()\n\u001b[0;32m--> 191\u001b[0m \u001b[38;5;28;43mself\u001b[39;49m\u001b[38;5;241;43m.\u001b[39;49m\u001b[43m_connection\u001b[49m\u001b[38;5;241;43m.\u001b[39;49m\u001b[43mfetch_all\u001b[49m\u001b[43m(\u001b[49m\u001b[43m)\u001b[49m\n\u001b[1;32m    192\u001b[0m \u001b[38;5;28mself\u001b[39m\u001b[38;5;241m.\u001b[39m_bookmark \u001b[38;5;241m=\u001b[39m metadata\u001b[38;5;241m.\u001b[39mget(\u001b[38;5;124m\"\u001b[39m\u001b[38;5;124mbookmark\u001b[39m\u001b[38;5;124m\"\u001b[39m)\n\u001b[1;32m    193\u001b[0m \u001b[38;5;28mself\u001b[39m\u001b[38;5;241m.\u001b[39m_database \u001b[38;5;241m=\u001b[39m metadata\u001b[38;5;241m.\u001b[39mget(\u001b[38;5;124m\"\u001b[39m\u001b[38;5;124mdb\u001b[39m\u001b[38;5;124m\"\u001b[39m, \u001b[38;5;28mself\u001b[39m\u001b[38;5;241m.\u001b[39m_database)\n",
      "File \u001b[0;32m~/research/DTGraph/venv/lib/python3.11/site-packages/neo4j/_sync/io/_bolt.py:863\u001b[0m, in \u001b[0;36mBolt.fetch_all\u001b[0;34m(self)\u001b[0m\n\u001b[1;32m    861\u001b[0m response \u001b[38;5;241m=\u001b[39m \u001b[38;5;28mself\u001b[39m\u001b[38;5;241m.\u001b[39mresponses[\u001b[38;5;241m0\u001b[39m]\n\u001b[1;32m    862\u001b[0m \u001b[38;5;28;01mwhile\u001b[39;00m \u001b[38;5;129;01mnot\u001b[39;00m response\u001b[38;5;241m.\u001b[39mcomplete:\n\u001b[0;32m--> 863\u001b[0m     detail_delta, summary_delta \u001b[38;5;241m=\u001b[39m \u001b[38;5;28;43mself\u001b[39;49m\u001b[38;5;241;43m.\u001b[39;49m\u001b[43mfetch_message\u001b[49m\u001b[43m(\u001b[49m\u001b[43m)\u001b[49m\n\u001b[1;32m    864\u001b[0m     detail_count \u001b[38;5;241m+\u001b[39m\u001b[38;5;241m=\u001b[39m detail_delta\n\u001b[1;32m    865\u001b[0m     summary_count \u001b[38;5;241m+\u001b[39m\u001b[38;5;241m=\u001b[39m summary_delta\n",
      "File \u001b[0;32m~/research/DTGraph/venv/lib/python3.11/site-packages/neo4j/_sync/io/_bolt.py:849\u001b[0m, in \u001b[0;36mBolt.fetch_message\u001b[0;34m(self)\u001b[0m\n\u001b[1;32m    845\u001b[0m \u001b[38;5;66;03m# Receive exactly one message\u001b[39;00m\n\u001b[1;32m    846\u001b[0m tag, fields \u001b[38;5;241m=\u001b[39m \u001b[38;5;28mself\u001b[39m\u001b[38;5;241m.\u001b[39minbox\u001b[38;5;241m.\u001b[39mpop(\n\u001b[1;32m    847\u001b[0m     hydration_hooks\u001b[38;5;241m=\u001b[39m\u001b[38;5;28mself\u001b[39m\u001b[38;5;241m.\u001b[39mresponses[\u001b[38;5;241m0\u001b[39m]\u001b[38;5;241m.\u001b[39mhydration_hooks\n\u001b[1;32m    848\u001b[0m )\n\u001b[0;32m--> 849\u001b[0m res \u001b[38;5;241m=\u001b[39m \u001b[38;5;28;43mself\u001b[39;49m\u001b[38;5;241;43m.\u001b[39;49m\u001b[43m_process_message\u001b[49m\u001b[43m(\u001b[49m\u001b[43mtag\u001b[49m\u001b[43m,\u001b[49m\u001b[43m \u001b[49m\u001b[43mfields\u001b[49m\u001b[43m)\u001b[49m\n\u001b[1;32m    850\u001b[0m \u001b[38;5;28mself\u001b[39m\u001b[38;5;241m.\u001b[39midle_since \u001b[38;5;241m=\u001b[39m monotonic()\n\u001b[1;32m    851\u001b[0m \u001b[38;5;28;01mreturn\u001b[39;00m res\n",
      "File \u001b[0;32m~/research/DTGraph/venv/lib/python3.11/site-packages/neo4j/_sync/io/_bolt5.py:369\u001b[0m, in \u001b[0;36mBolt5x0._process_message\u001b[0;34m(self, tag, fields)\u001b[0m\n\u001b[1;32m    367\u001b[0m \u001b[38;5;28mself\u001b[39m\u001b[38;5;241m.\u001b[39m_server_state_manager\u001b[38;5;241m.\u001b[39mstate \u001b[38;5;241m=\u001b[39m \u001b[38;5;28mself\u001b[39m\u001b[38;5;241m.\u001b[39mbolt_states\u001b[38;5;241m.\u001b[39mFAILED\n\u001b[1;32m    368\u001b[0m \u001b[38;5;28;01mtry\u001b[39;00m:\n\u001b[0;32m--> 369\u001b[0m     \u001b[43mresponse\u001b[49m\u001b[38;5;241;43m.\u001b[39;49m\u001b[43mon_failure\u001b[49m\u001b[43m(\u001b[49m\u001b[43msummary_metadata\u001b[49m\u001b[43m \u001b[49m\u001b[38;5;129;43;01mor\u001b[39;49;00m\u001b[43m \u001b[49m\u001b[43m{\u001b[49m\u001b[43m}\u001b[49m\u001b[43m)\u001b[49m\n\u001b[1;32m    370\u001b[0m \u001b[38;5;28;01mexcept\u001b[39;00m (ServiceUnavailable, DatabaseUnavailable):\n\u001b[1;32m    371\u001b[0m     \u001b[38;5;28;01mif\u001b[39;00m \u001b[38;5;28mself\u001b[39m\u001b[38;5;241m.\u001b[39mpool:\n",
      "File \u001b[0;32m~/research/DTGraph/venv/lib/python3.11/site-packages/neo4j/_sync/io/_common.py:245\u001b[0m, in \u001b[0;36mResponse.on_failure\u001b[0;34m(self, metadata)\u001b[0m\n\u001b[1;32m    243\u001b[0m handler \u001b[38;5;241m=\u001b[39m \u001b[38;5;28mself\u001b[39m\u001b[38;5;241m.\u001b[39mhandlers\u001b[38;5;241m.\u001b[39mget(\u001b[38;5;124m\"\u001b[39m\u001b[38;5;124mon_summary\u001b[39m\u001b[38;5;124m\"\u001b[39m)\n\u001b[1;32m    244\u001b[0m Util\u001b[38;5;241m.\u001b[39mcallback(handler)\n\u001b[0;32m--> 245\u001b[0m \u001b[38;5;28;01mraise\u001b[39;00m Neo4jError\u001b[38;5;241m.\u001b[39mhydrate(\u001b[38;5;241m*\u001b[39m\u001b[38;5;241m*\u001b[39mmetadata)\n",
      "\u001b[0;31mTransientError\u001b[0m: {code: Neo.TransientError.General.MemoryPoolOutOfMemoryError} {message: The allocation of an extra 2,0 MiB would use more than the limit 5,5 GiB. Currently using 5,5 GiB. dbms.memory.transaction.total.max threshold reached}"
     ]
    }
   ],
   "source": [
    "from dtgraph.scenarios.movies import Movies\n",
    "Movies.load(graph)"
   ]
  },
  {
   "cell_type": "markdown",
   "id": "f9f9cba5-dd2d-494d-adcd-42b4059c0114",
   "metadata": {},
   "source": [
    "At any time, the following query can be executed on the [Neo4j browser](http://localhost:7474) to draw the current graph stored in the database with the following Cypher query:\n",
    "\n",
    "```\n",
    "MATCH (n)\n",
    "RETURN n\n",
    "```\n",
    "This query should output the following graph:\n",
    "\n",
    "![Input Movies data](./images/tuto-basics-input.svg)"
   ]
  },
  {
   "cell_type": "markdown",
   "id": "99e3f674-2cf2-4952-8930-f62c68e905c5",
   "metadata": {},
   "source": [
    "## 2. Transformation rules"
   ]
  },
  {
   "cell_type": "markdown",
   "id": "1716196d-f756-452c-9d67-7e7b7e2221ef",
   "metadata": {},
   "source": [
    "This dataset contains information about **Movies** and **Person** related to these movies.\n",
    "Such persons could could have **:ACTED_IN**, **:DIRECTED** or **:PRODUCED**  a movie. With this schema, information about whether people are actors, directors or producers is not found in the nodes but can only be inferred by looking at the outgoing relationships of such nodes."
   ]
  },
  {
   "cell_type": "markdown",
   "id": "863df1c6-9d27-4830-af39-ecd84a1fa1ef",
   "metadata": {},
   "source": [
    "![Schema](./images/tuto-basics-schema.svg)"
   ]
  },
  {
   "cell_type": "markdown",
   "id": "ba7fee19-85db-43be-a41b-215e81eab389",
   "metadata": {},
   "source": [
    "## Node rules"
   ]
  },
  {
   "cell_type": "markdown",
   "id": "fe5f89d0-7580-41ba-ac7a-fb301c6e3944",
   "metadata": {},
   "source": [
    "Let's build a new graph to make this information explicit, we start by introducing the new label **Actor** to tag people that have been actor in at least one movie.\n",
    "We will do this with the following transformation rule:"
   ]
  },
  {
   "cell_type": "code",
   "execution_count": null,
   "id": "d11206b8-1d32-4cab-b553-0aafe1b9e576",
   "metadata": {},
   "outputs": [],
   "source": [
    "generate_actors = Rule('''\n",
    "MATCH (n:Person)-[:ACTED_IN]->(:Movie)\n",
    "GENERATE \n",
    "(x = (n):Actor {\n",
    "    name = n.name,\n",
    "    born = n.born,\n",
    "    source = \"Movies dataset\"\n",
    "})\n",
    "''')"
   ]
  },
  {
   "cell_type": "markdown",
   "id": "973434cf-1163-44c1-af2d-8f873bd83b7a",
   "metadata": {},
   "source": [
    "A rule typically consists of three parts:\n",
    "- `MATCH (n:Person)-[:ACTED_IN]->(m:Movie)` which is an openCypher query to retrieve the relevant information from the input graph.\n",
    "  This Cypher query should bind its exported variables only to graph elements such as nodes and relationships.\n",
    "- `((n) : Actor { name = n.name, born = n.born })` which is a node constructor, composed of the following elements:\n",
    "  - `(n)` contains a list of arguments to identify the new element in the output graph. `x` is an optional alias for cross-referencing a constructor inside the scope of a rule.\n",
    "  - A set of labels (here there is only one label, `Actor`) for the new elements.\n",
    "  - A list of properties `{ name = n.name, born = n.born, source = \"movie dataset\" }` for the new elements. Values from the initial graph can be retrieved using access keys such as `n.born`, fixed constants (i.e., `\"movie dataset\"`) can also be specified.\n",
    "- `=>` or `GENERATE` to connect the two parts above."
   ]
  },
  {
   "cell_type": "code",
   "execution_count": 4,
   "id": "60ee430d-73fb-4ebf-b76d-1c97639c9f5a",
   "metadata": {},
   "outputs": [
    {
     "name": "stdout",
     "output_type": "stream",
     "text": [
      "Index: Added 1 index, completed after 52 ms.\n",
      "Rule: Added 204 labels, created 102 nodes, set 618 properties, created 0 relationships, completed after 527 ms.\n"
     ]
    }
   ],
   "source": [
    "my_transform = Transformation([generate_actors])\n",
    "my_transform.apply_on(graph)"
   ]
  },
  {
   "cell_type": "markdown",
   "id": "a7af06fd-45a3-4e4b-912a-8a769164da1f",
   "metadata": {},
   "source": [
    "When executing a transformation, we see above that each rule reports some *metadata* including the completion time, and the number of labels, properties, nodes and relationships which have been created by applying the rule.\n",
    "\n",
    "We can see on the Neo4j browser that new actor nodes have been created alongside the initial data; for now, these are all isolated nodes because we haven't specified any relationships yet:"
   ]
  },
  {
   "cell_type": "markdown",
   "id": "47765445-c6c5-440b-9eaa-91c62bb71e12",
   "metadata": {},
   "source": [
    "![Actors are generated!](./images/tuto-basics-actors.svg)"
   ]
  },
  {
   "cell_type": "markdown",
   "id": "7ef85bb2-6d36-4f02-8a19-196936684665",
   "metadata": {},
   "source": [
    "We now introduce the **Director** label to tag people that have directed at least one movie. We will do this with a new transformation rule that we add to current transformation:"
   ]
  },
  {
   "cell_type": "code",
   "execution_count": 5,
   "id": "5014a97a-9390-484b-bcf6-38dfacdf81eb",
   "metadata": {},
   "outputs": [
    {
     "name": "stdout",
     "output_type": "stream",
     "text": [
      "Rule: Added 51 labels, created 23 nodes, set 155 properties, created 0 relationships, completed after 244 ms.\n"
     ]
    }
   ],
   "source": [
    "generate_directors = Rule('''\n",
    "MATCH (n:Person)-[:DIRECTED]->(:Movie)\n",
    "GENERATE \n",
    "(x=(n):Director {\n",
    "    name = n.name,\n",
    "    born = n.born,\n",
    "    source = \"Movies dataset\"\n",
    "})\n",
    "''')\n",
    "my_transform.add(generate_directors)"
   ]
  },
  {
   "cell_type": "markdown",
   "id": "01586310-7a57-4823-8afe-113b02c0dc0a",
   "metadata": {},
   "source": [
    "Both rules use the same argument list for identifying new Directors and Actors: i.e., `x = (n) : Director`. \n",
    "Hence, people that have both been an actor and a director of some movies should have both labels.\n",
    "\n",
    "We can confirm with the following query that you can execute on the [Neo4j browser](http://localhost:7474) that a single node is created on the output with both labels if that happens:\n",
    "\n",
    "```\n",
    "MATCH (n)\n",
    "WHERE n:Actor and n:Director\n",
    "RETURN n\n",
    "```\n",
    "\n",
    "This query should return the following output:\n",
    "\n",
    "![Nodes with both labels](./images/tuto-basics-both.svg)\n",
    "\n",
    "Hence we are able to define the content of element with multiple rules, wich are independent of each other.\n",
    "The mechanism to do this is based on *Skolem functions*, we explain how we implement these Skolem functions in Cypher in [Part 4](./Tutorial_Basics.ipynb#4.-Internal-overview-of-the-system)."
   ]
  },
  {
   "cell_type": "markdown",
   "id": "975ec111-5a57-4071-b2da-ea7e853cc659",
   "metadata": {},
   "source": [
    "## Edge rules\n",
    "\n",
    "We now describe how to use edge constructor for specifying relationships in the output graph.\n",
    "We introduce a new rule in the transformation to create a relationship of type **:COLLEAGUE** whenever a movie stars two persons which are either actors or directors of the movie:"
   ]
  },
  {
   "cell_type": "code",
   "execution_count": 6,
   "id": "c4f15a47-e536-4667-8596-10173838254f",
   "metadata": {},
   "outputs": [
    {
     "name": "stdout",
     "output_type": "stream",
     "text": [
      "Rule: Added 0 labels, created 0 nodes, set 1178 properties, created 538 relationships, completed after 1063 ms.\n"
     ]
    }
   ],
   "source": [
    "generate_colleague = Rule('''\n",
    "CALL {\n",
    "    MATCH (n:Person)-[:ACTED_IN]->(m:Movie)<-[:ACTED_IN]-(o:Person)\n",
    "    WHERE n.name < o.name\n",
    "    RETURN n, m, o\n",
    "    UNION \n",
    "    MATCH (n:Person)-[:ACTED_IN]->(m:Movie)<-[:DIRECTED]-(o:Person)\n",
    "    RETURN n, m, o\n",
    "    UNION \n",
    "    MATCH (n:Person)-[:DIRECTED]->(m:Movie)<-[:DIRECTED]-(o:Person)\n",
    "    WHERE n.name < o.name\n",
    "    RETURN n, m, o\n",
    "}\n",
    "WITH n, m, o\n",
    "GENERATE \n",
    "(x = (n):)-[():COLLEAGUE {\n",
    "    movie = m.title\n",
    "}]->(y = (o):)\n",
    "''')\n",
    "my_transform.add(generate_colleague)"
   ]
  },
  {
   "cell_type": "markdown",
   "id": "d734cffc-3478-4656-a0d1-162ca62e2c31",
   "metadata": {},
   "source": [
    "Let us focus on the edge constuctor:\n",
    "```\n",
    "(x = (n):)-[():COLLEAGUE {\n",
    "    movie = m.title\n",
    "}]->(y = (o):)\n",
    "```\n",
    "The source node constructor `(x = (n):)` and the target node constructor `(y = (o):)` have the same argument lists as in the previous two rules. Hence, we these nodes already exist in the output graph and contain the person's information. That's why the two node content constructors in this rule only consist of a list of identifiers.\n",
    "The edge constructor `[():COLLEAGUE { movie = m.title }]` creates an edge between the two persons, and stores information about the movie's title.\n",
    "The identity of the endpoints `x` and `y` of this edge will be implicitely included in the argument list of `m`.\n",
    "\n",
    "It is important to notice that the output of a transformation is a new property graph that is **completely independent** from the initial one. They do not share any common element. Now that we have created and executed the transformation, we can see the current output:\n",
    "\n",
    "![Output of the transformation](./images/tuto-basics-final.svg)"
   ]
  },
  {
   "cell_type": "markdown",
   "id": "a493a7bb-525b-40e0-8336-d0bc673b5129",
   "metadata": {},
   "source": [
    "## 3. Understanding the notion of conflicts\n",
    "\n",
    "Transformations are complex ojetcs and may generate conflicts on some attributes. **DTGraph** provides a convenience function to list such conflicts:"
   ]
  },
  {
   "cell_type": "code",
   "execution_count": 7,
   "id": "f2230101-ba80-413d-b8bf-8bb3b5624e4f",
   "metadata": {},
   "outputs": [
    {
     "name": "stdout",
     "output_type": "stream",
     "text": [
      "NodeConflicts: There are currently 0 nodes in the database which have a conflict.\n",
      "EdgeConflicts: There are currently 31 edges in the database which have a conflict.\n",
      "  (:Actor {born: 1967, name: Carrie-Anne Moss, source: Movies dataset})-[:COLLEAGUE {}]->(:Actor {born: 1960, name: Hugo Weaving, source: Movies dataset}) has a conflict on attributes ['movie']\n",
      "  (:Actor {born: 1960, name: Hugo Weaving, source: Movies dataset})-[:COLLEAGUE {}]->(:Actor {born: 1961, name: Laurence Fishburne, source: Movies dataset}) has a conflict on attributes ['movie']\n",
      "  (:Actor {born: 1967, name: Carrie-Anne Moss, source: Movies dataset})-[:COLLEAGUE {}]->(:Actor {born: 1961, name: Laurence Fishburne, source: Movies dataset}) has a conflict on attributes ['movie']\n",
      "  (:Actor {born: 1964, name: Keanu Reeves, source: Movies dataset})-[:COLLEAGUE {}]->(:Actor {born: 1961, name: Laurence Fishburne, source: Movies dataset}) has a conflict on attributes ['movie']\n",
      "  (:Actor {born: 1960, name: Hugo Weaving, source: Movies dataset})-[:COLLEAGUE {}]->(:Actor {born: 1964, name: Keanu Reeves, source: Movies dataset}) has a conflict on attributes ['movie']\n",
      "  (:Actor {born: 1967, name: Carrie-Anne Moss, source: Movies dataset})-[:COLLEAGUE {}]->(:Actor {born: 1964, name: Keanu Reeves, source: Movies dataset}) has a conflict on attributes ['movie']\n",
      "  (:Actor {born: 1943, name: J.T. Walsh, source: Movies dataset})-[:COLLEAGUE {}]->(:Actor {born: 1937, name: Jack Nicholson, source: Movies dataset}) has a conflict on attributes ['movie']\n",
      "  (:Actor {born: 1968, name: Cuba Gooding Jr., source: Movies dataset})-[:COLLEAGUE {}]->(:Actor {born: 1937, name: Jack Nicholson, source: Movies dataset}) has a conflict on attributes ['movie']\n",
      "  (:Actor {born: 1968, name: Cuba Gooding Jr., source: Movies dataset})-[:COLLEAGUE {}]->(:Actor {born: 1962, name: Tom Cruise, source: Movies dataset}) has a conflict on attributes ['movie']\n",
      "  (:Actor {born: 1961, name: Meg Ryan, source: Movies dataset})-[:COLLEAGUE {}]->(:Director:Actor {born: 1956, name: Tom Hanks, source: Movies dataset}) has a conflict on attributes ['movie']\n",
      "  (:Actor {born: 1962, name: Rosie O'Donnell, source: Movies dataset})-[:COLLEAGUE {}]->(:Director:Actor {born: 1956, name: Tom Hanks, source: Movies dataset}) has a conflict on attributes ['movie']\n",
      "  (:Actor {born: 1967, name: Ben Miles, source: Movies dataset})-[:COLLEAGUE {}]->(:Actor {born: 1982, name: Rain, source: Movies dataset}) has a conflict on attributes ['movie']\n",
      "  (:Actor {born: 1955, name: Gary Sinise, source: Movies dataset})-[:COLLEAGUE {}]->(:Director:Actor {born: 1956, name: Tom Hanks, source: Movies dataset}) has a conflict on attributes ['movie']\n",
      "  (:Director:Actor {born: 1944, name: Danny DeVito, source: Movies dataset})-[:COLLEAGUE {}]->(:Actor {born: 1937, name: Jack Nicholson, source: Movies dataset}) has a conflict on attributes ['movie']\n",
      "  (:Actor {born: 1955, name: Bill Paxton, source: Movies dataset})-[:COLLEAGUE {}]->(:Director:Actor {born: 1956, name: Tom Hanks, source: Movies dataset}) has a conflict on attributes ['movie']\n",
      "  (:Actor {born: 1960, name: Hugo Weaving, source: Movies dataset})-[:COLLEAGUE {}]->(:Director {born: 1965, name: Lana Wachowski, source: Movies dataset}) has a conflict on attributes ['movie']\n",
      "  (:Actor {born: 1961, name: Laurence Fishburne, source: Movies dataset})-[:COLLEAGUE {}]->(:Director {born: 1965, name: Lana Wachowski, source: Movies dataset}) has a conflict on attributes ['movie']\n",
      "  (:Actor {born: 1967, name: Carrie-Anne Moss, source: Movies dataset})-[:COLLEAGUE {}]->(:Director {born: 1965, name: Lana Wachowski, source: Movies dataset}) has a conflict on attributes ['movie']\n",
      "  (:Actor {born: 1964, name: Keanu Reeves, source: Movies dataset})-[:COLLEAGUE {}]->(:Director {born: 1965, name: Lana Wachowski, source: Movies dataset}) has a conflict on attributes ['movie']\n",
      "  (:Actor {born: 1960, name: Hugo Weaving, source: Movies dataset})-[:COLLEAGUE {}]->(:Director {born: 1967, name: Lilly Wachowski, source: Movies dataset}) has a conflict on attributes ['movie']\n",
      "  (:Actor {born: 1961, name: Laurence Fishburne, source: Movies dataset})-[:COLLEAGUE {}]->(:Director {born: 1967, name: Lilly Wachowski, source: Movies dataset}) has a conflict on attributes ['movie']\n",
      "  (:Actor {born: 1967, name: Carrie-Anne Moss, source: Movies dataset})-[:COLLEAGUE {}]->(:Director {born: 1967, name: Lilly Wachowski, source: Movies dataset}) has a conflict on attributes ['movie']\n",
      "  (:Actor {born: 1964, name: Keanu Reeves, source: Movies dataset})-[:COLLEAGUE {}]->(:Director {born: 1967, name: Lilly Wachowski, source: Movies dataset}) has a conflict on attributes ['movie']\n",
      "  (:Actor {born: 1966, name: Kiefer Sutherland, source: Movies dataset})-[:COLLEAGUE {}]->(:Director {born: 1947, name: Rob Reiner, source: Movies dataset}) has a conflict on attributes ['movie']\n",
      "  (:Director:Actor {born: 1956, name: Tom Hanks, source: Movies dataset})-[:COLLEAGUE {}]->(:Director {born: 1941, name: Nora Ephron, source: Movies dataset}) has a conflict on attributes ['movie']\n",
      "  (:Actor {born: 1961, name: Meg Ryan, source: Movies dataset})-[:COLLEAGUE {}]->(:Director {born: 1941, name: Nora Ephron, source: Movies dataset}) has a conflict on attributes ['movie']\n",
      "  (:Director:Actor {born: 1956, name: Tom Hanks, source: Movies dataset})-[:COLLEAGUE {}]->(:Director {born: 1954, name: Ron Howard, source: Movies dataset}) has a conflict on attributes ['movie']\n",
      "  (:Actor {born: 1967, name: Ben Miles, source: Movies dataset})-[:COLLEAGUE {}]->(:Director:Actor {born: 1967, name: James Marshall, source: Movies dataset}) has a conflict on attributes ['movie']\n",
      "  (:Actor {born: 1958, name: Kevin Bacon, source: Movies dataset})-[:COLLEAGUE {}]->(:Director {born: 1954, name: Ron Howard, source: Movies dataset}) has a conflict on attributes ['movie']\n",
      "  (:Director:Actor {born: 1956, name: Tom Hanks, source: Movies dataset})-[:COLLEAGUE {}]->(:Director {born: 1951, name: Robert Zemeckis, source: Movies dataset}) has a conflict on attributes ['movie']\n",
      "  (:Director {born: 1965, name: Lana Wachowski, source: Movies dataset})-[:COLLEAGUE {}]->(:Director {born: 1967, name: Lilly Wachowski, source: Movies dataset}) has a conflict on attributes ['movie']\n"
     ]
    }
   ],
   "source": [
    "my_transform.diagnose()"
   ]
  },
  {
   "cell_type": "markdown",
   "id": "46744c14-2824-4bc5-b9f3-6b3d7ac13971",
   "metadata": {},
   "source": [
    "Now let's run the following query to understand the reason why such conflicts exist:\n",
    "```\n",
    "MATCH (n:Actor {name: \"Keanu Reeves\"})-[m:COLLEAGUE]->(p:Actor {name: \"Laurence Fishburne\"})\n",
    "RETURN n, m, p\n",
    "```\n",
    "which displays ![Conflict](./images/tuto-basics-conflict.svg) and returns:\n",
    "```\n",
    "╒══════════════════════════════════════════════════════════════════════╤══════════════════════════════════════════════════════════════════════╤═════════════════════════════════════════════════════════════════════╕\n",
    "│n                                                                     │m                                                                     │p                                                                    │\n",
    "╞══════════════════════════════════════════════════════════════════════╪══════════════════════════════════════════════════════════════════════╪═════════════════════════════════════════════════════════════════════╡\n",
    "│(:_dummy:Actor {born: 1964,name: \"Keanu Reeves\",_id: \"(4:54f22f8b-1371│[:COLLEAGUE {movie: \"Conflict Detected!\",_id: \"(:COLLEAGUE:,4:54f22f8b│(:_dummy:Actor {born: 1961,name: \"Laurence Fishburne\",_id: \"(4:54f22 │\n",
    "│-430c-8811-236f2b415b32:435)\",source: \"Movies dataset\"})              │-1371-430c-8811-236f2b415b32:248,4:54f22f8b-1371-430c-8811-236f2b415b3│f8b-1371-430c-8811-236f2b415b32:437)\",source: \"Movies dataset\"})     │\n",
    "│                                                                      │2:330)\"}]                                                             │                                                                     │\n",
    "└──────────────────────────────────────────────────────────────────────┴──────────────────────────────────────────────────────────────────────┴─────────────────────────────────────────────────────────────────────┘\n",
    "```\n",
    "\n",
    "The property *movie* of the **:COLLEAGUE** relation between *Keanu Reeves* and *Laurence Fishburne* has a conflict!\n",
    "Let us investigate this by querying the initial Movie graph [Neo4j browser](http://localhost:7474) with the following query:\n",
    "```\n",
    "MATCH (n:Person {name: \"Keanu Reeves\"})-[m:ACTED_IN]->(m:Movie)<-[m:ACTED_IN]-(p:Person {name: \"Laurence Fishburne\"})\n",
    "RETURN m\n",
    "```\n",
    "that returns:\n",
    "```\n",
    "╒══════════════════════════════════════════════════════════════════════╕\n",
    "│m                                                                     │\n",
    "╞══════════════════════════════════════════════════════════════════════╡\n",
    "│(:Movie {tagline: \"Everything that has a beginning has an end\",title: │\n",
    "│\"The Matrix Revolutions\",released: 2003})                             │\n",
    "├──────────────────────────────────────────────────────────────────────┤\n",
    "│(:Movie {tagline: \"Welcome to the Real World\",title: \"The Matrix\",rele│\n",
    "│ased: 1999})                                                          │\n",
    "├──────────────────────────────────────────────────────────────────────┤\n",
    "│(:Movie {tagline: \"Free your mind\",title: \"The Matrix Reloaded\",releas│\n",
    "│ed: 2003})                                                            │\n",
    "└──────────────────────────────────────────────────────────────────────┘\n",
    "```\n",
    "\n",
    "If we come back to the constructor we have previously used: \n",
    "```\n",
    "(x = (n):)-[():COLLEAGUE { movie = m.title }]->(y = (o):)\n",
    "```\n",
    "We see that, for each movie staring *Keanu Reeves* and *Laurence Fishburne*, its title has been specified for the value of the attribute *movie* on the *unique* relationship of this type between the two actors.\n",
    "Let's fix this!"
   ]
  },
  {
   "cell_type": "code",
   "execution_count": 8,
   "id": "4f34214e-65ef-4200-adb2-ed120c41fff7",
   "metadata": {},
   "outputs": [
    {
     "name": "stdout",
     "output_type": "stream",
     "text": [
      "Index: Removed 1 index, completed after 9 ms.\n",
      "Abort: Deleted 125 nodes, deleted 538 relationships, completed after 44 ms.\n",
      "Index: Added 1 index, completed after 5 ms.\n",
      "Rule: Added 204 labels, created 102 nodes, set 618 properties, created 0 relationships, completed after 312 ms.\n",
      "Rule: Added 51 labels, created 23 nodes, set 155 properties, created 0 relationships, completed after 124 ms.\n",
      "Rule: Added 0 labels, created 0 nodes, set 1178 properties, created 589 relationships, completed after 524 ms.\n"
     ]
    }
   ],
   "source": [
    "my_transform.abort()\n",
    "generate_colleague_v2 = Rule('''\n",
    "CALL {\n",
    "    MATCH (n:Person)-[:ACTED_IN]->(m:Movie)<-[:ACTED_IN]-(o:Person)\n",
    "    WHERE n.name < o.name\n",
    "    RETURN n, m, o\n",
    "    UNION \n",
    "    MATCH (n:Person)-[:ACTED_IN]->(m:Movie)<-[:DIRECTED]-(o:Person)\n",
    "    RETURN n, m, o\n",
    "    UNION \n",
    "    MATCH (n:Person)-[:DIRECTED]->(m:Movie)<-[:DIRECTED]-(o:Person)\n",
    "    WHERE n.name < o.name\n",
    "    RETURN n, m, o\n",
    "}\n",
    "WITH n, m, o\n",
    "GENERATE \n",
    "(x = (n):)-[(m):COLLEAGUE {\n",
    "    movie = m.title\n",
    "}]->(y = (o):)\n",
    "''')\n",
    "my_transform_v2 = Transformation([generate_actors, generate_directors, generate_colleague_v2])\n",
    "my_transform_v2.apply_on(graph)"
   ]
  },
  {
   "cell_type": "markdown",
   "id": "e2d20670-eb2f-458e-a8e2-1943ae0946a3",
   "metadata": {},
   "source": [
    "The first line of the above code `my_transform.abort()` destroys the current output of `my_transform` and deactivates it.\n",
    "This is necessary because concurrent execution of two transformations on the same database may lead to inconsistencies.\n",
    "\n",
    "Then, a second transformation is created, which contains the two node rules `generate_actors` and `generate_directors` and the corrected version of `generate_colleague`, in which we have added `m` in the identifier list for the edge constructor, i.e. `[(m):COLLEAGUE { movie = m.title }]`.\n",
    "\n",
    "We can check that the previous query:\n",
    "```\n",
    "MATCH (n:Actor {name: \"Keanu Reeves\"})-[m:COLLEAGUE]->(p:Actor {name: \"Laurence Fishburne\"})\n",
    "RETURN n, m, p\n",
    "```\n",
    "now displays: ![Conflict_resolved](./images/tuto-basics-resolved.svg) and outputs:\n",
    "```\n",
    "╒══════════════════════════════════════════════════════════════════════╤══════════════════════════════════════════════════════════════════════╤═════════════════════════════════════════════════════════════════════╕\n",
    "│n                                                                     │m                                                                     │p                                                                    │\n",
    "╞══════════════════════════════════════════════════════════════════════╪══════════════════════════════════════════════════════════════════════╪═════════════════════════════════════════════════════════════════════╡\n",
    "│(:Actor:_dummy {born: 1964,name: \"Keanu Reeves\",_id: \"(4:54f22f8b-1371│[:COLLEAGUE {movie: \"The Matrix Reloaded\",_id: \"(:COLLEAGUE:,4:54f22f8│(:Actor:_dummy {born: 1961,name: \"Laurence Fishburne\",_id: \"(4:54f22 │\n",
    "│-430c-8811-236f2b415b32:47)\",source: \"Movies dataset\"})               │b-1371-430c-8811-236f2b415b32:55,4:54f22f8b-1371-430c-8811-236f2b415b3│f8b-1371-430c-8811-236f2b415b32:49)\",source: \"Movies dataset\"})      │\n",
    "│                                                                      │2:516,4:54f22f8b-1371-430c-8811-236f2b415b32:518)\"}]                  │                                                                     │\n",
    "├──────────────────────────────────────────────────────────────────────┼──────────────────────────────────────────────────────────────────────┼─────────────────────────────────────────────────────────────────────┤\n",
    "│(:_dummy:Actor {born: 1964,name: \"Keanu Reeves\",_id: \"(4:54f22f8b-1371│[:COLLEAGUE {movie: \"The Matrix Revolutions\",_id: \"(:COLLEAGUE:,4:54f2│(:_dummy:Actor {born: 1961,name: \"Laurence Fishburne\",_id: \"(4:54f22 │\n",
    "│-430c-8811-236f2b415b32:47)\",source: \"Movies dataset\"})               │2f8b-1371-430c-8811-236f2b415b32:56,4:54f22f8b-1371-430c-8811-236f2b41│f8b-1371-430c-8811-236f2b415b32:49)\",source: \"Movies dataset\"})      │\n",
    "│                                                                      │5b32:516,4:54f22f8b-1371-430c-8811-236f2b415b32:518)\"}]               │                                                                     │\n",
    "├──────────────────────────────────────────────────────────────────────┼──────────────────────────────────────────────────────────────────────┼─────────────────────────────────────────────────────────────────────┤\n",
    "│(:_dummy:Actor {born: 1964,name: \"Keanu Reeves\",_id: \"(4:54f22f8b-1371│[:COLLEAGUE {movie: \"The Matrix\",_id: \"(:COLLEAGUE:,4:54f22f8b-1371-43│(:_dummy:Actor {born: 1961,name: \"Laurence Fishburne\",_id: \"(4:54f22 │\n",
    "│-430c-8811-236f2b415b32:47)\",source: \"Movies dataset\"})               │0c-8811-236f2b415b32:46,4:54f22f8b-1371-430c-8811-236f2b415b32:516,4:5│f8b-1371-430c-8811-236f2b415b32:49)\",source: \"Movies dataset\"})      │\n",
    "│                                                                      │4f22f8b-1371-430c-8811-236f2b415b32:518)\"}]                           │                                                                     │\n",
    "└──────────────────────────────────────────────────────────────────────┴──────────────────────────────────────────────────────────────────────┴─────────────────────────────────────────────────────────────────────┘\n",
    "```"
   ]
  },
  {
   "cell_type": "markdown",
   "id": "b9c33e47-80f8-4f8e-806d-77782a37f440",
   "metadata": {},
   "source": [
    "We can now validate the transformation by *ejecting* the framework (i.e., removing the metadata maintained by DTGraph to handle the transformation):"
   ]
  },
  {
   "cell_type": "code",
   "execution_count": 9,
   "id": "80fbaeb3-5173-4964-93eb-38824f7d6e13",
   "metadata": {},
   "outputs": [
    {
     "name": "stdout",
     "output_type": "stream",
     "text": [
      "Index: Removed 1 index, completed after 12 ms.\n",
      "Eject: Removed 125 labels, erased 714 properties, completed after 790 ms.\n"
     ]
    }
   ],
   "source": [
    "my_transform_v2.eject()"
   ]
  },
  {
   "cell_type": "markdown",
   "id": "c740c7ff-1ca3-4e5b-9c37-25e89d1cb1a6",
   "metadata": {},
   "source": [
    "## 4. Overview of the internals of the system"
   ]
  },
  {
   "cell_type": "markdown",
   "id": "372ffd8a-6c44-4bcc-949c-6c249d2fd79f",
   "metadata": {},
   "source": [
    "Our transformation rules are written in our own *Domain Specific Language* described previously. It takes the form of a new terminal clause `GENERATE` for openCypher queries.\n",
    "Internally, **DTGraph** analyzes and translates these rules into executable, efficient and portable openCypher scripts.\n",
    "It then runs these scripts under an execution environment containing indexes and other metadata. \n",
    "The openCypher script corresponding to a rule can be probed and pretty-printed with the following code:"
   ]
  },
  {
   "cell_type": "code",
   "execution_count": 10,
   "id": "e0dcc7e1-a85b-4f45-b583-373fb1281804",
   "metadata": {},
   "outputs": [
    {
     "name": "stdout",
     "output_type": "stream",
     "text": [
      "MATCH (n:Person)-[:ACTED_IN]->(:Movie)\n",
      "MERGE (x:_dummy {\n",
      "    _id: \"(\" + elementID(n) + \")\" \n",
      "})\n",
      "ON CREATE\n",
      "    SET x:Actor,\n",
      "        x.name = n.name,\n",
      "        x.born = n.born,\n",
      "        x.source = \"Movies dataset\"\n",
      "ON MATCH\n",
      "    SET x:Actor,\n",
      "        x.name = \n",
      "        CASE\n",
      "            WHEN x.name <> n.name THEN\n",
      "                \"Conflict Detected!\"\n",
      "            ELSE\n",
      "                n.name\n",
      "        END,\n",
      "        x.born = \n",
      "        CASE\n",
      "            WHEN x.born <> n.born THEN\n",
      "                \"Conflict Detected!\"\n",
      "            ELSE\n",
      "                n.born\n",
      "        END,\n",
      "        x.source = \n",
      "        CASE\n",
      "            WHEN x.source <> \"Movies dataset\" THEN\n",
      "                \"Conflict Detected!\"\n",
      "            ELSE\n",
      "                \"Movies dataset\"\n",
      "        END\n",
      "FOREACH (i in CASE WHEN x.name = \"Conflict Detected!\" OR x.born = \"Conflict Detected!\" OR x.source = \"Conflict Detected!\" THEN [1] else [] END | SET x:_hasConflict)\n",
      "\n"
     ]
    }
   ],
   "source": [
    "generate_actors._compile()\n",
    "print(generate_actors._compiled)"
   ]
  },
  {
   "cell_type": "markdown",
   "id": "8cf8a13a-5ea6-45a4-8bf5-47509b0d43b1",
   "metadata": {},
   "source": [
    "Each constructor, e.g. `(x = (n) : Actor { name = n.name, born = n.born, source = \"movies dataset\" })` is translated into a `MERGE` statement.\n",
    "The Skolem function is implemented using string operations. The textual representation of the identifier resulting from applying the Skolem function to the list of arguments, e.g. `\"(\" + elementID(n) + \")\"` is stored in an internal `_id` attribute.\n",
    "\n",
    "Each `MERGE` statement checks for each binding (i.e., a row) produced by the input Cypher query (i.e., the left-hand-side of the rule) if there already exists an element in the output property graph with such identifier:\n",
    "- if so, the label specified in the constructor is added to the list of labels for the existing node and each property is set, depending whether a conflict is detected of not. If a conflict is detected the special value `Conflict Detected!` is stored in lieu of the specified value.\n",
    "- if no element corresponds to such identifier, a new element is created with this specific value for `_id` and its content is set according to the constructor's specification.\n",
    "\n",
    "Our framework consists of declarative rules and uses Skolem functions as a mechanism for identifying new elements, as such it maintains the following invariants: **TODO REFER TO MAIN PAPER**\n",
    "- The transformations are well-defined; i.e., for an input property graph and a set of rules, exactly one property graph corresponds to the output of the transformation.\n",
    "  - Importantly, the order in which the rules are applied does not have any impact on the output of the transformation.\n",
    "- There is a one-to-one correspondance between the values of the `_id` attribute and the internal identifiers in the output property graph (which can be accessed with the built in *elementID* function in Neo4j and *ID* function in Memgraph, respectively."
   ]
  }
 ],
 "metadata": {
  "kernelspec": {
   "display_name": "Python 3 (ipykernel)",
   "language": "python",
   "name": "python3"
  },
  "language_info": {
   "codemirror_mode": {
    "name": "ipython",
    "version": 3
   },
   "file_extension": ".py",
   "mimetype": "text/x-python",
   "name": "python",
   "nbconvert_exporter": "python",
   "pygments_lexer": "ipython3",
   "version": "3.11.6"
  }
 },
 "nbformat": 4,
 "nbformat_minor": 5
}
