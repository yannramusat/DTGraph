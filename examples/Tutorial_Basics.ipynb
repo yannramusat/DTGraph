{
 "cells": [
  {
   "cell_type": "markdown",
   "id": "8b71b784-13c0-4a1d-aec3-7c0829943b10",
   "metadata": {},
   "source": [
    "# Tutorial: An introduction to property graph transformations\n",
    "\n",
    "In this tutorial, you will learn the key concepts related to our property graph transformations:\n",
    "* How to specify transformations of property graph with this framework (i.e., Understanding how we make use of Skolem functions to construct new property graphs.)\n",
    "* How the rules in a single transformation interact with each other (i.e., How content of output elements can be jointly specified in several rules.)\n",
    "* Understand the notion of *conflicts*, and how to deal with them.\n",
    "* How this framework integrates with openCypher (i.e., How the rules are compiled into openCypher scripts and in which context they are executed.)\n",
    "* What property graph transformations are capable of doing (i.e., The kind of constructs that can be expressed.)\n",
    "\n",
    "## Part 1: Preliminaries\n",
    "\n",
    "\n",
    "By default this notebook is configured to connect to a local Neo4j instance running inside a Docker container. This [notebook](./Tutorial_Connecting_Neo4j_Docker.ipynb) will guide you through the process of setting up a local Docker container and connecting to it."
   ]
  },
  {
   "cell_type": "code",
   "execution_count": 1,
   "id": "1bc030c8-7ad4-4e73-90af-c8dd609edc54",
   "metadata": {},
   "outputs": [],
   "source": [
    "from dtgraph import Neo4jGraph, Rule, Transformation\n",
    "hostname = \"localhost\"\n",
    "password = \"\"\n",
    "uri = f\"bolt://{hostname}:7687\"\n",
    "graph = Neo4jGraph(uri, database=\"neo4j\", username=\"\", password=password)"
   ]
  },
  {
   "cell_type": "markdown",
   "id": "3a97760c-ab85-454f-a93b-dbeef1241c70",
   "metadata": {},
   "source": [
    "For this tutorial, we will use a stripped version of the Movies dataset from Neo4j, which can be loaded using the following command."
   ]
  },
  {
   "cell_type": "code",
   "execution_count": 2,
   "id": "fdc326e0-4c9e-4cb4-8760-4db2f92c1d09",
   "metadata": {},
   "outputs": [
    {
     "name": "stdout",
     "output_type": "stream",
     "text": [
      "Flushed database: Deleted 296 nodes, deleted 721 relationships, completed after 2 ms.\n",
      "Load scenario: Added 171 labels, created 171 nodes, set 564 properties, created 253 relationships, completed after 1 ms.\n"
     ]
    }
   ],
   "source": [
    "from dtgraph.scenarios.movies import Movies\n",
    "Movies.load(graph)"
   ]
  },
  {
   "cell_type": "markdown",
   "id": "f9f9cba5-dd2d-494d-adcd-42b4059c0114",
   "metadata": {},
   "source": [
    "**PICTURE OF THE INPUT INSTANCE**"
   ]
  },
  {
   "cell_type": "markdown",
   "id": "99e3f674-2cf2-4952-8930-f62c68e905c5",
   "metadata": {},
   "source": [
    "## Part 2: Transformation rules"
   ]
  },
  {
   "cell_type": "markdown",
   "id": "1716196d-f756-452c-9d67-7e7b7e2221ef",
   "metadata": {},
   "source": [
    "This dataset contains information about **Movies** and **Person** related to these movies.\n",
    "Such persons could could have **:ACTED_IN**, **:DIRECTED** or **:PRODUCED** a movie. With this schema, information about whether people are actors, directors or producers is not found in the nodes."
   ]
  },
  {
   "cell_type": "markdown",
   "id": "863df1c6-9d27-4830-af39-ecd84a1fa1ef",
   "metadata": {},
   "source": [
    "**PICTURE OF THE SCHEMA**"
   ]
  },
  {
   "cell_type": "markdown",
   "id": "ba7fee19-85db-43be-a41b-215e81eab389",
   "metadata": {},
   "source": [
    "## Node rules"
   ]
  },
  {
   "cell_type": "markdown",
   "id": "fe5f89d0-7580-41ba-ac7a-fb301c6e3944",
   "metadata": {},
   "source": [
    "Let's build a new graph to make this information explicit, we start by introducing the new label **Actor** to tag people that have been actor in at least one movie.\n",
    "We will do this with the following transformation rule:"
   ]
  },
  {
   "cell_type": "code",
   "execution_count": 3,
   "id": "d11206b8-1d32-4cab-b553-0aafe1b9e576",
   "metadata": {},
   "outputs": [],
   "source": [
    "generate_actors = Rule('''\n",
    "MATCH (n:Person)-[:ACTED_IN]->(:Movie)\n",
    "GENERATE \n",
    "(x = (n) : Actor {\n",
    "    name = n.name,\n",
    "    born = n.born,\n",
    "    source = \"Movies dataset\"\n",
    "})\n",
    "''')"
   ]
  },
  {
   "cell_type": "markdown",
   "id": "973434cf-1163-44c1-af2d-8f873bd83b7a",
   "metadata": {},
   "source": [
    "A rule typically consists of three parts:\n",
    "- `MATCH (n:Person)-[:ACTED_IN]->(m:Movie)` which is an openCypher query to retrieve the relevant information from the input graph.\n",
    "  This Cypher query should bind its exported variables only to graph elements such as nodes and relationships.\n",
    "- `((n) : Actor { name = n.name, born = n.born })` which is a node constructor, composed of the following elements:\n",
    "  - `(n)` contains a list of arguments to identify the new element in the output graph. `x` is an optional alias for cross-referencing a constructor inside the scope of a rule.\n",
    "  - A set of labels (here there is only one label, `Actor`) for the new elements.\n",
    "  - A list of properties `{ name = n.name, born = n.born, source = \"movie dataset\" }` for the new elements. Values from the initial graph can be retrieved using access keys such as `n.born`, fixed constants (i.e., `\"movie dataset\"`) can also be specified.\n",
    "- `=>` or `GENERATE` to connect the two parts above."
   ]
  },
  {
   "cell_type": "code",
   "execution_count": 4,
   "id": "60ee430d-73fb-4ebf-b76d-1c97639c9f5a",
   "metadata": {},
   "outputs": [
    {
     "name": "stdout",
     "output_type": "stream",
     "text": [
      "Index: Added 0 index, completed after 0 ms.\n",
      "Rule: Added 204 labels, created 102 nodes, set 618 properties, created 0 relationships, completed after 5 ms.\n"
     ]
    }
   ],
   "source": [
    "my_transform = Transformation([generate_actors])\n",
    "my_transform.apply_on(graph)"
   ]
  },
  {
   "cell_type": "markdown",
   "id": "a7af06fd-45a3-4e4b-912a-8a769164da1f",
   "metadata": {},
   "source": [
    "When executing a transformation, we see above that each rule reports some *metadata* including the completion time, and the number of labels, properties, nodes and relationships which have been created by applying the rule.\n",
    "\n",
    "It is important to notice that the output of a transformation is a new property graph that is **completely independent** from the initial one. They do not share any common element. Now that we have created and executed the transformation, we can see the current output."
   ]
  },
  {
   "cell_type": "markdown",
   "id": "47765445-c6c5-440b-9eaa-91c62bb71e12",
   "metadata": {},
   "source": [
    "**PICTURE OF THE DATABASE**"
   ]
  },
  {
   "cell_type": "markdown",
   "id": "7ef85bb2-6d36-4f02-8a19-196936684665",
   "metadata": {},
   "source": [
    "We now introduce the **Director** label to tag people that have directed at least one movie. We will do this with a new transformation rule that we add to current transformation:"
   ]
  },
  {
   "cell_type": "code",
   "execution_count": 5,
   "id": "5014a97a-9390-484b-bcf6-38dfacdf81eb",
   "metadata": {},
   "outputs": [
    {
     "name": "stdout",
     "output_type": "stream",
     "text": [
      "Rule: Added 51 labels, created 23 nodes, set 155 properties, created 0 relationships, completed after 2 ms.\n"
     ]
    }
   ],
   "source": [
    "generate_directors = Rule('''\n",
    "MATCH (n:Person)-[:DIRECTED]->(:Movie)\n",
    "GENERATE \n",
    "(x = (n) : Director {\n",
    "    name = n.name,\n",
    "    born = n.born,\n",
    "    source = \"Movies dataset\"\n",
    "})\n",
    "''')\n",
    "my_transform.add(generate_directors)"
   ]
  },
  {
   "cell_type": "markdown",
   "id": "01586310-7a57-4823-8afe-113b02c0dc0a",
   "metadata": {},
   "source": [
    "Both rules use the same argument list for identifying new Directors and Actors: i.e., `x = (n) : Director`. \n",
    "Hence, people that have both been an actor and a director of some movies should have both labels.\n",
    "\n",
    "We can confirm with the following query that you can execute on the [Neo4j browser](http://localhost:7474) that a single node is created on the output with both labels if that happens:\n",
    "\n",
    "```\n",
    "MATCH (n)\n",
    "WHERE n:Actor and n:Director\n",
    "RETURN n\n",
    "```\n",
    "\n",
    "This query should return the following output:\n",
    "```\n",
    "╒══════════════════════════════════════════════════════════════════════╕\n",
    "│n                                                                     │\n",
    "╞══════════════════════════════════════════════════════════════════════╡\n",
    "│(:Actor:Director:_dummy {born: 1967,name: \"James Marshall\",_id: \"(4:7f│\n",
    "│732a8b-14ba-4846-8477-f326f7a1b5d0:2469)\"})                           │\n",
    "├──────────────────────────────────────────────────────────────────────┤\n",
    "│(:Actor:Director:_dummy {born: 1956,name: \"Tom Hanks\",_id: \"(4:7f732a8│\n",
    "│b-14ba-4846-8477-f326f7a1b5d0:2515)\"})                                │\n",
    "├──────────────────────────────────────────────────────────────────────┤\n",
    "│(:Actor:Director:_dummy {born: 1930,name: \"Clint Eastwood\",_id: \"(4:7f│\n",
    "│732a8b-14ba-4846-8477-f326f7a1b5d0:2543)\"})                           │\n",
    "├──────────────────────────────────────────────────────────────────────┤\n",
    "│(:Actor:Director:_dummy {born: 1944,name: \"Danny DeVito\",_id: \"(4:7f73│\n",
    "│2a8b-14ba-4846-8477-f326f7a1b5d0:2586)\"})                             │\n",
    "├──────────────────────────────────────────────────────────────────────┤\n",
    "│(:Actor:Director:_dummy {born: 1942,name: \"Werner Herzog\",_id: \"(4:7f7│\n",
    "│32a8b-14ba-4846-8477-f326f7a1b5d0:2503)\"})                            │\n",
    "└──────────────────────────────────────────────────────────────────────┘\n",
    "```\n",
    "\n",
    "Hence we are able to define the content of element with multiple rules, wich are independent of each other.\n",
    "The mechanism permitting to do so is based on Skolem functions, we explain how we implement these Skolem functions in Cypher in Part 4."
   ]
  },
  {
   "cell_type": "markdown",
   "id": "975ec111-5a57-4071-b2da-ea7e853cc659",
   "metadata": {},
   "source": [
    "## Edge rules\n",
    "\n",
    "We now describe how to use edge constructor for specifying relationships in the output graph.\n",
    "We introduce a new rule in the transformation to create a relationship of type **:COLLEAGUE** whenever a movie stars two persons which are either actors or directors of the movie:"
   ]
  },
  {
   "cell_type": "code",
   "execution_count": 6,
   "id": "c4f15a47-e536-4667-8596-10173838254f",
   "metadata": {},
   "outputs": [
    {
     "name": "stdout",
     "output_type": "stream",
     "text": [
      "Rule: Added 0 labels, created 0 nodes, set 978 properties, created 468 relationships, completed after 32 ms.\n"
     ]
    }
   ],
   "source": [
    "generate_colleague = Rule('''\n",
    "CALL {\n",
    "    MATCH (n:Person)-[:ACTED_IN]->(m:Movie)<-[:ACTED_IN]-(o:Person)\n",
    "    WHERE n.name < o.name\n",
    "    RETURN n, m, o\n",
    "    UNION \n",
    "    MATCH (n:Person)-[:ACTED_IN]->(m:Movie)<-[:DIRECTED]-(o:Person)\n",
    "    WHERE n.name < o.name\n",
    "    RETURN n, m, o\n",
    "}\n",
    "WITH n, m, o\n",
    "GENERATE \n",
    "(x = (n) : )-[() : COLLEAGUE {\n",
    "    movie = m.title\n",
    "}]->(y = (o) : )\n",
    "''')\n",
    "my_transform.add(generate_colleague)"
   ]
  },
  {
   "cell_type": "markdown",
   "id": "a493a7bb-525b-40e0-8336-d0bc673b5129",
   "metadata": {},
   "source": [
    "## Part 3: Conflicts"
   ]
  },
  {
   "cell_type": "markdown",
   "id": "c740c7ff-1ca3-4e5b-9c37-25e89d1cb1a6",
   "metadata": {},
   "source": [
    "## Part 4: Internal overview of the system"
   ]
  },
  {
   "cell_type": "markdown",
   "id": "372ffd8a-6c44-4bcc-949c-6c249d2fd79f",
   "metadata": {},
   "source": [
    "Our transformation rules are written in our own *Domain Specific Language* described previously. It takes the form of a new terminal clause `GENERATE` for openCypher queries.\n",
    "Internally, **DTGraph** analyzes and translates these rules into executable, efficient and portable openCypher scripts.\n",
    "It then runs these scripts under an execution environment containing indexes and other metadata. \n",
    "The openCypher script corresponding to a rule can be probed and pretty-printed with the following code:"
   ]
  },
  {
   "cell_type": "code",
   "execution_count": 7,
   "id": "e0dcc7e1-a85b-4f45-b583-373fb1281804",
   "metadata": {},
   "outputs": [
    {
     "name": "stdout",
     "output_type": "stream",
     "text": [
      "MATCH (n:Person)-[:ACTED_IN]->(:Movie)\n",
      "MERGE (x:_dummy {\n",
      "    _id: \"(\" + elementID(n) + \")\" \n",
      "})\n",
      "ON CREATE\n",
      "    SET x:Actor,\n",
      "        x.name = n.name,\n",
      "        x.born = n.born,\n",
      "        x.source = \"Movies dataset\"\n",
      "ON MATCH\n",
      "    SET x:Actor,\n",
      "        x.name = \n",
      "        CASE\n",
      "            WHEN x.name <> n.name THEN\n",
      "                \"Conflict Detected!\"\n",
      "            ELSE\n",
      "                n.name\n",
      "        END,\n",
      "        x.born = \n",
      "        CASE\n",
      "            WHEN x.born <> n.born THEN\n",
      "                \"Conflict Detected!\"\n",
      "            ELSE\n",
      "                n.born\n",
      "        END,\n",
      "        x.source = \n",
      "        CASE\n",
      "            WHEN x.source <> \"Movies dataset\" THEN\n",
      "                \"Conflict Detected!\"\n",
      "            ELSE\n",
      "                \"Movies dataset\"\n",
      "        END\n",
      "\n"
     ]
    }
   ],
   "source": [
    "generate_actors._compile()\n",
    "print(generate_actors._compiled)"
   ]
  },
  {
   "cell_type": "markdown",
   "id": "8cf8a13a-5ea6-45a4-8bf5-47509b0d43b1",
   "metadata": {},
   "source": [
    "Each constructor, e.g. `(x = (n) : Actor { name = n.name, born = n.born, source = \"movies dataset\" })` is translated into a `MERGE` statement.\n",
    "The Skolem function is implemented using string operations. The textual representation of the identifier resulting from applying the Skolem function to the list of arguments, e.g. `\"(\" + elementID(n) + \")\"` is stored in an internal `_id` attribute.\n",
    "\n",
    "Each `MERGE` statement checks for each binding (i.e., a row) produced by the input Cypher query (i.e., the left-hand-side of the rule) if there already exists an element in the output property graph with such identifier:\n",
    "- if so, the label specified in the constructor is added to the list of labels for the existing node and each property is set, depending whether a conflict is detected of not. If a conflict is detected the special value `Conflict Detected!` is stored in lieu of the specified value.\n",
    "- if no element corresponds to such identifier, a new element is created with this specific value for `_id` and its content is set according to the constructor's specification.\n",
    "\n",
    "Our framework consists of declarative rules and uses Skolem functions as a mechanism for identifying new elements, as such it maintains the following invariants:\n",
    "- The transformations are well-defined; i.e., for an input property graph and a set of rules, exactly one property graph corresponds to the output of the transformation.\n",
    "  - Importantly, the order in which the rules are applied does not have any impact on the output of the transformation.\n",
    "- There is a one-to-one correspondance between the values of the `_id` attribute and the internal identifiers in the output property graph (which can be accessed with the built in *elementID* function in Neo4j and *ID* function in Memgraph, respectively."
   ]
  },
  {
   "cell_type": "markdown",
   "id": "736da28e-67ad-4408-a889-b2f41ff327a8",
   "metadata": {},
   "source": [
    "## Part 5: Expressivity"
   ]
  },
  {
   "cell_type": "code",
   "execution_count": null,
   "id": "6fdbb6d8-890a-4360-a388-3881bcd5e71b",
   "metadata": {},
   "outputs": [],
   "source": []
  }
 ],
 "metadata": {
  "kernelspec": {
   "display_name": "Python 3 (ipykernel)",
   "language": "python",
   "name": "python3"
  },
  "language_info": {
   "codemirror_mode": {
    "name": "ipython",
    "version": 3
   },
   "file_extension": ".py",
   "mimetype": "text/x-python",
   "name": "python",
   "nbconvert_exporter": "python",
   "pygments_lexer": "ipython3",
   "version": "3.11.6"
  }
 },
 "nbformat": 4,
 "nbformat_minor": 5
}
