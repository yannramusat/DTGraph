{
 "cells": [
  {
   "cell_type": "code",
   "execution_count": null,
   "id": "716f357e-cffd-43b4-8be1-f9f9c5cec949",
   "metadata": {},
   "outputs": [],
   "source": []
  },
  {
   "cell_type": "markdown",
   "id": "8b71b784-13c0-4a1d-aec3-7c0829943b10",
   "metadata": {},
   "source": [
    "# Tutorial: An introduction to property graph transformations\n",
    "\n",
    "In this tutorial, you will learn the key concepts related to our property graph transformations:\n",
    "* How to specify transformations of property graph with this framework (i.e., Understanding how we make use of Skolem functions to construct new property graphs.)\n",
    "* How the rules in a single transformation interact with each other (i.e., How content of output elements can be jointly specified in several rules.)\n",
    "* Understand the notion of *conflicts*, and how to deal with them.\n",
    "* How this framework integrates with openCypher (i.e., How the rules are compiled into openCypher scripts and in which context they are executed.)\n",
    "* What property graph transformations are capable of doing (i.e., The kind of constructs that can be expressed.)\n",
    "\n",
    "## Part 1: Preliminaries\n",
    "\n",
    "\n",
    "By default this notebook is configured to connect to a local Neo4j instance running inside a Docker container. This [notebook](./Tutorial_Connecting_Neo4j_Docker.ipynb) will guide you trought the process of setting up a local Docker container and connecting to it."
   ]
  },
  {
   "cell_type": "code",
   "execution_count": 3,
   "id": "1bc030c8-7ad4-4e73-90af-c8dd609edc54",
   "metadata": {},
   "outputs": [],
   "source": [
    "from dtgraph import Neo4jGraph, Rule, Transformation\n",
    "hostname = \"localhost\"\n",
    "password = \"\"\n",
    "uri = f\"bolt://{hostname}:7687\"\n",
    "graph = Neo4jGraph(uri, database=\"neo4j\", username=\"\", password=password)"
   ]
  },
  {
   "cell_type": "markdown",
   "id": "3a97760c-ab85-454f-a93b-dbeef1241c70",
   "metadata": {},
   "source": [
    "For this tutorial, we will use a stripped version of the Movies dataset from Neo4j."
   ]
  },
  {
   "cell_type": "code",
   "execution_count": 4,
   "id": "fdc326e0-4c9e-4cb4-8760-4db2f92c1d09",
   "metadata": {},
   "outputs": [
    {
     "name": "stdout",
     "output_type": "stream",
     "text": [
      "Flushed database: Deleted 125 nodes, deleted 584 relationships, completed after 1425 ms.\n",
      "Load scenario: Added 171 labels, created 171 nodes, set 564 properties, created 253 relationships, completed after 3456 ms.\n"
     ]
    }
   ],
   "source": [
    "from dtgraph.scenarios.movies import Movies\n",
    "Movies.load(graph)"
   ]
  },
  {
   "cell_type": "code",
   "execution_count": null,
   "id": "33063587-4d49-4fec-addd-e93a8d9d55ce",
   "metadata": {},
   "outputs": [],
   "source": []
  }
 ],
 "metadata": {
  "kernelspec": {
   "display_name": "Python 3 (ipykernel)",
   "language": "python",
   "name": "python3"
  },
  "language_info": {
   "codemirror_mode": {
    "name": "ipython",
    "version": 3
   },
   "file_extension": ".py",
   "mimetype": "text/x-python",
   "name": "python",
   "nbconvert_exporter": "python",
   "pygments_lexer": "ipython3",
   "version": "3.11.6"
  }
 },
 "nbformat": 4,
 "nbformat_minor": 5
}
