{
 "cells": [
  {
   "cell_type": "markdown",
   "id": "8b71b784-13c0-4a1d-aec3-7c0829943b10",
   "metadata": {},
   "source": [
    "# Tutorial: An introduction to property graph transformations\n",
    "\n",
    "In this tutorial, you will learn the key concepts related to our property graph transformations:\n",
    "* How to specify transformations of property graph with this framework (i.e., Understanding how we make use of Skolem functions to construct new property graphs.)\n",
    "* How the rules in a single transformation interact with each other (i.e., How content of output elements can be jointly specified in several rules.)\n",
    "* Understand the notion of *conflicts*, and how to deal with them.\n",
    "* How this framework integrates with openCypher (i.e., How the rules are compiled into openCypher scripts and in which context they are executed.)\n",
    "* What property graph transformations are capable of doing (i.e., The kind of constructs that can be expressed.)\n",
    "\n",
    "## Part 1: Preliminaries\n",
    "\n",
    "\n",
    "By default this notebook is configured to connect to a local Neo4j instance running inside a Docker container. This [notebook](./Tutorial_Connecting_Neo4j_Docker.ipynb) will guide you trought the process of setting up a local Docker container and connecting to it."
   ]
  },
  {
   "cell_type": "code",
   "execution_count": 1,
   "id": "1bc030c8-7ad4-4e73-90af-c8dd609edc54",
   "metadata": {},
   "outputs": [],
   "source": [
    "from dtgraph import Neo4jGraph, Rule, Transformation\n",
    "hostname = \"localhost\"\n",
    "password = \"\"\n",
    "uri = f\"bolt://{hostname}:7687\"\n",
    "graph = Neo4jGraph(uri, database=\"neo4j\", username=\"\", password=password)"
   ]
  },
  {
   "cell_type": "markdown",
   "id": "3a97760c-ab85-454f-a93b-dbeef1241c70",
   "metadata": {},
   "source": [
    "For this tutorial, we will use a stripped version of the Movies dataset from Neo4j."
   ]
  },
  {
   "cell_type": "code",
   "execution_count": 2,
   "id": "fdc326e0-4c9e-4cb4-8760-4db2f92c1d09",
   "metadata": {},
   "outputs": [
    {
     "name": "stdout",
     "output_type": "stream",
     "text": [
      "Flushed database: Deleted 273 nodes, deleted 253 relationships, completed after 4 ms.\n",
      "Load scenario: Added 171 labels, created 171 nodes, set 564 properties, created 253 relationships, completed after 1 ms.\n"
     ]
    }
   ],
   "source": [
    "from dtgraph.scenarios.movies import Movies\n",
    "Movies.load(graph)"
   ]
  },
  {
   "cell_type": "markdown",
   "id": "99e3f674-2cf2-4952-8930-f62c68e905c5",
   "metadata": {},
   "source": [
    "## Part 2: Transformation rules"
   ]
  },
  {
   "cell_type": "markdown",
   "id": "1716196d-f756-452c-9d67-7e7b7e2221ef",
   "metadata": {},
   "source": [
    "This dataset constains information about **Movies** and **Person** related to these movies.\n",
    "Such persons could could have **:ACTED_IN**, or even **:DIRECTED** or **:PRODUCED** a movie. With this schema, information about whether people are actors, directors or producers is not located in the nodes.\n",
    "Let's build a new graph to make this information explicit, we start by introducing the new label **Actor**.\n",
    "\n",
    "We will do so with a transformation rule:"
   ]
  },
  {
   "cell_type": "code",
   "execution_count": 3,
   "id": "d11206b8-1d32-4cab-b553-0aafe1b9e576",
   "metadata": {},
   "outputs": [],
   "source": [
    "generate_actors = Rule('''\n",
    "        MATCH (n:Person)-[:ACTED_IN]->(m:Movie)\n",
    "        => \n",
    "        (x = (n) : Actor {\n",
    "            name = n.name,\n",
    "            born = n.born,\n",
    "            source = \"movie dataset\"\n",
    "        })\n",
    "        ''')"
   ]
  },
  {
   "cell_type": "code",
   "execution_count": 4,
   "id": "60ee430d-73fb-4ebf-b76d-1c97639c9f5a",
   "metadata": {},
   "outputs": [
    {
     "name": "stdout",
     "output_type": "stream",
     "text": [
      "Index: Added 0 index, completed after 1 ms.\n",
      "Rule: Added 204 labels, created 102 nodes, set 618 properties, created 0 relationships, completed after 28 ms.\n"
     ]
    }
   ],
   "source": [
    "my_transform = Transformation([generate_actors])\n",
    "my_transform.apply_on(graph)"
   ]
  },
  {
   "cell_type": "markdown",
   "id": "973434cf-1163-44c1-af2d-8f873bd83b7a",
   "metadata": {},
   "source": [
    "The above rule consists of three parts:\n",
    "- `MATCH (n:Person)-[:ACTED_IN]->(m:Movie)` which is an openCypher query to retrieve the relevant information from the input graph.\n",
    "  This Cypher query should bind its exported variables only to graph elements such as nodes and relationships.\n",
    "- `(x = (n) : Actor { name = n.name, born = n.born })` which is a node constructor, composed of the following elements:\n",
    "  - `x = (n)` is\n",
    "  - A set of labels (here this is only one label, `Actor`) which specifies the labels for the new elements.\n",
    "  - A list of properties `{ name = n.name, born = n.born, source = \"movie dataset\" }` for the new elements. Values from the initial graph can be retrieved using access keys such as `n.born`, fixed constants can be used such as `\"movie dataset\"`.\n",
    "- `=>` or `GENERATE` to connect the above two parts."
   ]
  },
  {
   "cell_type": "markdown",
   "id": "a7af06fd-45a3-4e4b-912a-8a769164da1f",
   "metadata": {},
   "source": [
    "New that we have created and executed the transformation we can see the current output:"
   ]
  },
  {
   "cell_type": "code",
   "execution_count": 5,
   "id": "e0dcc7e1-a85b-4f45-b583-373fb1281804",
   "metadata": {},
   "outputs": [
    {
     "name": "stdout",
     "output_type": "stream",
     "text": [
      "MATCH (n:Person)-[:ACTED_IN]->(m:Movie)\n",
      "MERGE (x:_dummy {\n",
      "    _id: \"(\" + elementID(n) + \")\" \n",
      "})\n",
      "ON CREATE\n",
      "    SET x:Actor,\n",
      "        x.name = n.name,\n",
      "        x.born = n.born,\n",
      "        x.source = \"movie dataset\"\n",
      "ON MATCH\n",
      "    SET x:Actor,\n",
      "        x.name = \n",
      "        CASE\n",
      "            WHEN x.name <> n.name THEN\n",
      "                \"Conflict Detected!\"\n",
      "            ELSE\n",
      "                n.name\n",
      "        END,\n",
      "        x.born = \n",
      "        CASE\n",
      "            WHEN x.born <> n.born THEN\n",
      "                \"Conflict Detected!\"\n",
      "            ELSE\n",
      "                n.born\n",
      "        END,\n",
      "        x.source = \n",
      "        CASE\n",
      "            WHEN x.source <> \"movie dataset\" THEN\n",
      "                \"Conflict Detected!\"\n",
      "            ELSE\n",
      "                \"movie dataset\"\n",
      "        END\n",
      "\n"
     ]
    }
   ],
   "source": [
    "generate_actors._compile()\n",
    "print(generate_actors._compiled)"
   ]
  },
  {
   "cell_type": "code",
   "execution_count": null,
   "id": "1a21bcc6-7d43-4fe0-b17e-b294ef43d6a4",
   "metadata": {},
   "outputs": [],
   "source": []
  }
 ],
 "metadata": {
  "kernelspec": {
   "display_name": "Python 3 (ipykernel)",
   "language": "python",
   "name": "python3"
  },
  "language_info": {
   "codemirror_mode": {
    "name": "ipython",
    "version": 3
   },
   "file_extension": ".py",
   "mimetype": "text/x-python",
   "name": "python",
   "nbconvert_exporter": "python",
   "pygments_lexer": "ipython3",
   "version": "3.11.6"
  }
 },
 "nbformat": 4,
 "nbformat_minor": 5
}
