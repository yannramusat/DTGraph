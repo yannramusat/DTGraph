{
 "cells": [
  {
   "cell_type": "markdown",
   "id": "dc0490c5-ff27-4d90-bdb6-be3a56fa625b",
   "metadata": {},
   "source": [
    "# Tutorial: Connecting to a local Memgraph Docker container\n",
    "\n",
    "This notebook will guide you through setting up a local workflow using a Memgraph Docker container.\n",
    "\n",
    "## Part 1: Establishing a connection"
   ]
  },
  {
   "cell_type": "code",
   "execution_count": 1,
   "id": "98851c91-f3bb-44c3-81c4-d882871bbb43",
   "metadata": {},
   "outputs": [],
   "source": [
    "from dtgraph import Neo4jGraph, Rule, Transformation"
   ]
  },
  {
   "cell_type": "markdown",
   "id": "fc227eba-82be-43bb-b30c-80c4397d9ad9",
   "metadata": {},
   "source": [
    "In the following, we will connect to a [Memgraph](https://memgraph.com/) instance running inside a Docker container.\n",
    "You can type `sudo docker run --name memgraph2.14.0 -p 7687:7687 -p 7444:7444 -p 3000:3000 memgraph/memgraph-platform:2.14.0-memgraph2.14.0-lab2.11.1` to install and run Memgraph locally. (Of course you need to have [Docker](https://docs.docker.com/engine/install/)  already installed on your system.) You should then be able to access [Memgraph lab](http://localhost:3000/) running locally on your computer. (This is the equivalent of Neo4j browser.)\n",
    "\n",
    "*Note:* We have specifically tested the compatibility of this framework with Memgraph 2.14.0 and Memgraph lab 2.11.1, which were the latest versions by the time of writting this guide. \n",
    "\n",
    "The default configuration of Memgraph does not use authentication. Make sure to use *database=memgraph* to indicate to the backend that we use Memgraph and not Neo4j. This makes a difference because the syntax for creating indexes is different compared to with Neo4j."
   ]
  },
  {
   "cell_type": "code",
   "execution_count": 2,
   "id": "5155ec95-8af2-4bf3-b226-73e260027ac1",
   "metadata": {},
   "outputs": [],
   "source": [
    "hostname = \"localhost\"\n",
    "password = \"\""
   ]
  },
  {
   "cell_type": "code",
   "execution_count": 3,
   "id": "5da0fc46-969b-4746-ad05-cfb073579ee9",
   "metadata": {},
   "outputs": [],
   "source": [
    "uri = f\"bolt://{hostname}:7687\"\n",
    "graph = Neo4jGraph(uri, database=\"memgraph\", username=\"\", password=password)"
   ]
  },
  {
   "cell_type": "markdown",
   "id": "de411f63-f51a-47a0-9275-e7680b9a356a",
   "metadata": {},
   "source": [
    "You can check if it already contains content:"
   ]
  },
  {
   "cell_type": "code",
   "execution_count": 4,
   "id": "27e9d744-23fb-49b9-8e2f-88f5836162de",
   "metadata": {},
   "outputs": [
    {
     "name": "stdout",
     "output_type": "stream",
     "text": [
      "Info: There is currently 171 node(s) in the database.\n"
     ]
    }
   ],
   "source": [
    "graph.output_all_nodes()"
   ]
  },
  {
   "cell_type": "markdown",
   "id": "2ea51141-81d7-4a26-809d-1d2fdc9ad479",
   "metadata": {},
   "source": [
    "## Part II: (Optional) Loading a curated scenario"
   ]
  },
  {
   "cell_type": "markdown",
   "id": "847d99e7-1cdb-406b-ad05-ee1788d459cb",
   "metadata": {},
   "source": [
    "If your database is empty or you don't have it loaded with the *Movie dataset*, you can import it using the following command:"
   ]
  },
  {
   "cell_type": "code",
   "execution_count": 5,
   "id": "7c13a7e3-ffa3-451e-bb55-12012018c80f",
   "metadata": {},
   "outputs": [
    {
     "name": "stdout",
     "output_type": "stream",
     "text": [
      "Flushed database: Deleted 171 nodes, deleted 253 relationships, completed after None ms.\n",
      "Load scenario: Added 171 labels, created 171 nodes, set 0 properties, created 253 relationships, completed after None ms.\n"
     ]
    }
   ],
   "source": [
    "from dtgraph.scenarios.movies import Movies\n",
    "Movies.load(graph)"
   ]
  },
  {
   "cell_type": "markdown",
   "id": "ab4fec1e-a463-40dd-bf88-057ca71df776",
   "metadata": {},
   "source": [
    "## Part III: Defining and executing a rule"
   ]
  },
  {
   "cell_type": "markdown",
   "id": "c43a7e6a-27d4-4e3f-b6c9-c93b4994eaa1",
   "metadata": {},
   "source": [
    "Then you can write your own transformation rule:"
   ]
  },
  {
   "cell_type": "code",
   "execution_count": 6,
   "id": "192eab83-19f2-46df-b0dc-000a2f3272fe",
   "metadata": {},
   "outputs": [],
   "source": [
    "my_rule = Rule('''\n",
    "        MATCH (n:Person)-[:ACTED_IN]->(m:Movie)<-[:ACTED_IN]-(o:Person)\n",
    "        => \n",
    "        (x = (n) : Actor {\n",
    "            name = n.name,\n",
    "            born = n.born\n",
    "        })-[(m) : COLLEAGUE {\n",
    "            movie = m.title\n",
    "        }]->(y = (o) : Actor {\n",
    "            name = o.name,\n",
    "            born = o.born\n",
    "        })\n",
    "''')"
   ]
  },
  {
   "cell_type": "markdown",
   "id": "7ab0303b-8fc7-464a-8e23-56c20749b111",
   "metadata": {},
   "source": [
    "And execute it after after wrapping it in a Transformation object:"
   ]
  },
  {
   "cell_type": "code",
   "execution_count": 7,
   "id": "8e5986b4-4943-43b3-933a-aa44fb6739c5",
   "metadata": {},
   "outputs": [
    {
     "ename": "ClientError",
     "evalue": "{code: Memgraph.ClientError.MemgraphError.MemgraphError} {message: line 2:22 no viable alternative at input 'CREATEINDEXidx_dummy'}",
     "output_type": "error",
     "traceback": [
      "\u001b[0;31m---------------------------------------------------------------------------\u001b[0m",
      "\u001b[0;31mClientError\u001b[0m                               Traceback (most recent call last)",
      "Cell \u001b[0;32mIn[7], line 2\u001b[0m\n\u001b[1;32m      1\u001b[0m my_transform \u001b[38;5;241m=\u001b[39m Transformation([my_rule])\n\u001b[0;32m----> 2\u001b[0m \u001b[43mmy_transform\u001b[49m\u001b[38;5;241;43m.\u001b[39;49m\u001b[43mapply_on\u001b[49m\u001b[43m(\u001b[49m\u001b[43mgraph\u001b[49m\u001b[43m)\u001b[49m\n",
      "File \u001b[0;32m~/research/DTGraph/dtgraph/transformation.py:79\u001b[0m, in \u001b[0;36mTransformation.apply_on\u001b[0;34m(self, graph)\u001b[0m\n\u001b[1;32m     77\u001b[0m \u001b[38;5;28;01melse\u001b[39;00m:\n\u001b[1;32m     78\u001b[0m     \u001b[38;5;28mself\u001b[39m\u001b[38;5;241m.\u001b[39m_graph \u001b[38;5;241m=\u001b[39m graph\n\u001b[0;32m---> 79\u001b[0m \u001b[38;5;28;43mself\u001b[39;49m\u001b[38;5;241;43m.\u001b[39;49m\u001b[43m_pre_apply\u001b[49m\u001b[43m(\u001b[49m\u001b[43m)\u001b[49m\n\u001b[1;32m     80\u001b[0m \u001b[38;5;28;01mfor\u001b[39;00m r \u001b[38;5;129;01min\u001b[39;00m \u001b[38;5;28mself\u001b[39m\u001b[38;5;241m.\u001b[39m_rules:\n\u001b[1;32m     81\u001b[0m     r\u001b[38;5;241m.\u001b[39mapply_on(\u001b[38;5;28mself\u001b[39m\u001b[38;5;241m.\u001b[39m_graph)\n",
      "File \u001b[0;32m~/research/DTGraph/dtgraph/transformation.py:92\u001b[0m, in \u001b[0;36mTransformation._pre_apply\u001b[0;34m(self)\u001b[0m\n\u001b[1;32m     84\u001b[0m \u001b[38;5;250m\u001b[39m\u001b[38;5;124;03m\"\"\"\u001b[39;00m\n\u001b[1;32m     85\u001b[0m \u001b[38;5;124;03mSets-up the environment for executing the transformation.\u001b[39;00m\n\u001b[1;32m     86\u001b[0m \u001b[38;5;124;03m\"\"\"\u001b[39;00m\n\u001b[1;32m     87\u001b[0m indexDummy \u001b[38;5;241m=\u001b[39m \u001b[38;5;124m\"\"\"\u001b[39m\n\u001b[1;32m     88\u001b[0m \u001b[38;5;124mCREATE INDEX idx_dummy IF NOT EXISTS\u001b[39m\n\u001b[1;32m     89\u001b[0m \u001b[38;5;124mFOR (n:_dummy)\u001b[39m\n\u001b[1;32m     90\u001b[0m \u001b[38;5;124mON (n._id)\u001b[39m\n\u001b[1;32m     91\u001b[0m \u001b[38;5;124m\u001b[39m\u001b[38;5;124m\"\"\"\u001b[39m\n\u001b[0;32m---> 92\u001b[0m \u001b[38;5;28;43mself\u001b[39;49m\u001b[38;5;241;43m.\u001b[39;49m\u001b[43m_graph\u001b[49m\u001b[38;5;241;43m.\u001b[39;49m\u001b[43maddIndex\u001b[49m\u001b[43m(\u001b[49m\u001b[43mindexDummy\u001b[49m\u001b[43m,\u001b[49m\u001b[43m \u001b[49m\u001b[43mstats\u001b[49m\u001b[38;5;241;43m=\u001b[39;49m\u001b[38;5;28;43;01mTrue\u001b[39;49;00m\u001b[43m)\u001b[49m\n",
      "File \u001b[0;32m~/research/DTGraph/dtgraph/backend/neo4j/graph.py:104\u001b[0m, in \u001b[0;36mNeo4jGraph.addIndex\u001b[0;34m(self, query, stats)\u001b[0m\n\u001b[1;32m    103\u001b[0m \u001b[38;5;28;01mdef\u001b[39;00m \u001b[38;5;21maddIndex\u001b[39m(\u001b[38;5;28mself\u001b[39m, query, stats\u001b[38;5;241m=\u001b[39m\u001b[38;5;28;01mFalse\u001b[39;00m):\n\u001b[0;32m--> 104\u001b[0m     records, summary, keys \u001b[38;5;241m=\u001b[39m \u001b[38;5;28;43mself\u001b[39;49m\u001b[38;5;241;43m.\u001b[39;49m\u001b[43mdriver\u001b[49m\u001b[38;5;241;43m.\u001b[39;49m\u001b[43mexecute_query\u001b[49m\u001b[43m(\u001b[49m\n\u001b[1;32m    105\u001b[0m \u001b[43m            \u001b[49m\u001b[43mquery\u001b[49m\u001b[43m,\u001b[49m\n\u001b[1;32m    106\u001b[0m \u001b[43m            \u001b[49m\u001b[43mdatabase\u001b[49m\u001b[38;5;241;43m=\u001b[39;49m\u001b[38;5;28;43mself\u001b[39;49m\u001b[38;5;241;43m.\u001b[39;49m\u001b[43mdatabase\u001b[49m\u001b[43m,\u001b[49m\n\u001b[1;32m    107\u001b[0m \u001b[43m            \u001b[49m\u001b[43m)\u001b[49m\n\u001b[1;32m    108\u001b[0m     \u001b[38;5;28;01mif\u001b[39;00m(\u001b[38;5;28mself\u001b[39m\u001b[38;5;241m.\u001b[39mverbose):\n\u001b[1;32m    109\u001b[0m         \u001b[38;5;28mself\u001b[39m\u001b[38;5;241m.\u001b[39mprint_query_stats(records, summary, keys)\n",
      "File \u001b[0;32m~/research/DTGraph/venv/lib/python3.11/site-packages/neo4j/_sync/driver.py:902\u001b[0m, in \u001b[0;36mDriver.execute_query\u001b[0;34m(self, query_, parameters_, routing_, database_, impersonated_user_, bookmark_manager_, auth_, result_transformer_, **kwargs)\u001b[0m\n\u001b[1;32m    899\u001b[0m     \u001b[38;5;28;01mraise\u001b[39;00m \u001b[38;5;167;01mValueError\u001b[39;00m(\u001b[38;5;124m\"\u001b[39m\u001b[38;5;124mInvalid routing control value: \u001b[39m\u001b[38;5;132;01m%r\u001b[39;00m\u001b[38;5;124m\"\u001b[39m\n\u001b[1;32m    900\u001b[0m                      \u001b[38;5;241m%\u001b[39m routing_)\n\u001b[1;32m    901\u001b[0m \u001b[38;5;28;01mwith\u001b[39;00m session\u001b[38;5;241m.\u001b[39m_pipelined_begin:\n\u001b[0;32m--> 902\u001b[0m     \u001b[38;5;28;01mreturn\u001b[39;00m \u001b[43msession\u001b[49m\u001b[38;5;241;43m.\u001b[39;49m\u001b[43m_run_transaction\u001b[49m\u001b[43m(\u001b[49m\n\u001b[1;32m    903\u001b[0m \u001b[43m        \u001b[49m\u001b[43maccess_mode\u001b[49m\u001b[43m,\u001b[49m\u001b[43m \u001b[49m\u001b[43mTelemetryAPI\u001b[49m\u001b[38;5;241;43m.\u001b[39;49m\u001b[43mDRIVER\u001b[49m\u001b[43m,\u001b[49m\n\u001b[1;32m    904\u001b[0m \u001b[43m        \u001b[49m\u001b[43mwork\u001b[49m\u001b[43m,\u001b[49m\u001b[43m \u001b[49m\u001b[43m(\u001b[49m\u001b[43mquery_str\u001b[49m\u001b[43m,\u001b[49m\u001b[43m \u001b[49m\u001b[43mparameters\u001b[49m\u001b[43m,\u001b[49m\u001b[43m \u001b[49m\u001b[43mresult_transformer_\u001b[49m\u001b[43m)\u001b[49m\u001b[43m,\u001b[49m\u001b[43m \u001b[49m\u001b[43m{\u001b[49m\u001b[43m}\u001b[49m\n\u001b[1;32m    905\u001b[0m \u001b[43m    \u001b[49m\u001b[43m)\u001b[49m\n",
      "File \u001b[0;32m~/research/DTGraph/venv/lib/python3.11/site-packages/neo4j/_sync/work/session.py:552\u001b[0m, in \u001b[0;36mSession._run_transaction\u001b[0;34m(self, access_mode, api, transaction_function, args, kwargs)\u001b[0m\n\u001b[1;32m    550\u001b[0m tx \u001b[38;5;241m=\u001b[39m \u001b[38;5;28mself\u001b[39m\u001b[38;5;241m.\u001b[39m_transaction\n\u001b[1;32m    551\u001b[0m \u001b[38;5;28;01mtry\u001b[39;00m:\n\u001b[0;32m--> 552\u001b[0m     result \u001b[38;5;241m=\u001b[39m \u001b[43mtransaction_function\u001b[49m\u001b[43m(\u001b[49m\u001b[43mtx\u001b[49m\u001b[43m,\u001b[49m\u001b[43m \u001b[49m\u001b[38;5;241;43m*\u001b[39;49m\u001b[43margs\u001b[49m\u001b[43m,\u001b[49m\u001b[43m \u001b[49m\u001b[38;5;241;43m*\u001b[39;49m\u001b[38;5;241;43m*\u001b[39;49m\u001b[43mkwargs\u001b[49m\u001b[43m)\u001b[49m\n\u001b[1;32m    553\u001b[0m \u001b[38;5;28;01mexcept\u001b[39;00m asyncio\u001b[38;5;241m.\u001b[39mCancelledError:\n\u001b[1;32m    554\u001b[0m     \u001b[38;5;66;03m# if cancellation callback has not been called yet:\u001b[39;00m\n\u001b[1;32m    555\u001b[0m     \u001b[38;5;28;01mif\u001b[39;00m \u001b[38;5;28mself\u001b[39m\u001b[38;5;241m.\u001b[39m_transaction \u001b[38;5;129;01mis\u001b[39;00m \u001b[38;5;129;01mnot\u001b[39;00m \u001b[38;5;28;01mNone\u001b[39;00m:\n",
      "File \u001b[0;32m~/research/DTGraph/venv/lib/python3.11/site-packages/neo4j/_sync/driver.py:1227\u001b[0m, in \u001b[0;36m_work\u001b[0;34m(tx, query, parameters, transformer)\u001b[0m\n\u001b[1;32m   1221\u001b[0m \u001b[38;5;28;01mdef\u001b[39;00m \u001b[38;5;21m_work\u001b[39m(\n\u001b[1;32m   1222\u001b[0m     tx: ManagedTransaction,\n\u001b[1;32m   1223\u001b[0m     query: te\u001b[38;5;241m.\u001b[39mLiteralString,\n\u001b[1;32m   1224\u001b[0m     parameters: t\u001b[38;5;241m.\u001b[39mDict[\u001b[38;5;28mstr\u001b[39m, t\u001b[38;5;241m.\u001b[39mAny],\n\u001b[1;32m   1225\u001b[0m     transformer: t\u001b[38;5;241m.\u001b[39mCallable[[Result], t\u001b[38;5;241m.\u001b[39mUnion[_T]]\n\u001b[1;32m   1226\u001b[0m ) \u001b[38;5;241m-\u001b[39m\u001b[38;5;241m>\u001b[39m _T:\n\u001b[0;32m-> 1227\u001b[0m     res \u001b[38;5;241m=\u001b[39m \u001b[43mtx\u001b[49m\u001b[38;5;241;43m.\u001b[39;49m\u001b[43mrun\u001b[49m\u001b[43m(\u001b[49m\u001b[43mquery\u001b[49m\u001b[43m,\u001b[49m\u001b[43m \u001b[49m\u001b[43mparameters\u001b[49m\u001b[43m)\u001b[49m\n\u001b[1;32m   1228\u001b[0m     \u001b[38;5;28;01mreturn\u001b[39;00m transformer(res)\n",
      "File \u001b[0;32m~/research/DTGraph/venv/lib/python3.11/site-packages/neo4j/_sync/work/transaction.py:169\u001b[0m, in \u001b[0;36mTransactionBase.run\u001b[0;34m(self, query, parameters, **kwparameters)\u001b[0m\n\u001b[1;32m    166\u001b[0m \u001b[38;5;28mself\u001b[39m\u001b[38;5;241m.\u001b[39m_results\u001b[38;5;241m.\u001b[39mappend(result)\n\u001b[1;32m    168\u001b[0m parameters \u001b[38;5;241m=\u001b[39m \u001b[38;5;28mdict\u001b[39m(parameters \u001b[38;5;129;01mor\u001b[39;00m {}, \u001b[38;5;241m*\u001b[39m\u001b[38;5;241m*\u001b[39mkwparameters)\n\u001b[0;32m--> 169\u001b[0m \u001b[43mresult\u001b[49m\u001b[38;5;241;43m.\u001b[39;49m\u001b[43m_tx_ready_run\u001b[49m\u001b[43m(\u001b[49m\u001b[43mquery\u001b[49m\u001b[43m,\u001b[49m\u001b[43m \u001b[49m\u001b[43mparameters\u001b[49m\u001b[43m)\u001b[49m\n\u001b[1;32m    171\u001b[0m \u001b[38;5;28;01mreturn\u001b[39;00m result\n",
      "File \u001b[0;32m~/research/DTGraph/venv/lib/python3.11/site-packages/neo4j/_sync/work/result.py:131\u001b[0m, in \u001b[0;36mResult._tx_ready_run\u001b[0;34m(self, query, parameters)\u001b[0m\n\u001b[1;32m    127\u001b[0m \u001b[38;5;28;01mdef\u001b[39;00m \u001b[38;5;21m_tx_ready_run\u001b[39m(\u001b[38;5;28mself\u001b[39m, query, parameters):\n\u001b[1;32m    128\u001b[0m     \u001b[38;5;66;03m# BEGIN+RUN does not carry any extra on the RUN message.\u001b[39;00m\n\u001b[1;32m    129\u001b[0m     \u001b[38;5;66;03m# BEGIN {extra}\u001b[39;00m\n\u001b[1;32m    130\u001b[0m     \u001b[38;5;66;03m# RUN \"query\" {parameters} {extra}\u001b[39;00m\n\u001b[0;32m--> 131\u001b[0m     \u001b[38;5;28;43mself\u001b[39;49m\u001b[38;5;241;43m.\u001b[39;49m\u001b[43m_run\u001b[49m\u001b[43m(\u001b[49m\u001b[43mquery\u001b[49m\u001b[43m,\u001b[49m\u001b[43m \u001b[49m\u001b[43mparameters\u001b[49m\u001b[43m,\u001b[49m\u001b[43m \u001b[49m\u001b[38;5;28;43;01mNone\u001b[39;49;00m\u001b[43m,\u001b[49m\u001b[43m \u001b[49m\u001b[38;5;28;43;01mNone\u001b[39;49;00m\u001b[43m,\u001b[49m\u001b[43m \u001b[49m\u001b[38;5;28;43;01mNone\u001b[39;49;00m\u001b[43m,\u001b[49m\u001b[43m \u001b[49m\u001b[38;5;28;43;01mNone\u001b[39;49;00m\u001b[43m,\u001b[49m\u001b[43m \u001b[49m\u001b[38;5;28;43;01mNone\u001b[39;49;00m\u001b[43m,\u001b[49m\u001b[43m \u001b[49m\u001b[38;5;28;43;01mNone\u001b[39;49;00m\u001b[43m)\u001b[49m\n",
      "File \u001b[0;32m~/research/DTGraph/venv/lib/python3.11/site-packages/neo4j/_sync/work/result.py:181\u001b[0m, in \u001b[0;36mResult._run\u001b[0;34m(self, query, parameters, db, imp_user, access_mode, bookmarks, notifications_min_severity, notifications_disabled_categories)\u001b[0m\n\u001b[1;32m    179\u001b[0m \u001b[38;5;28mself\u001b[39m\u001b[38;5;241m.\u001b[39m_pull()\n\u001b[1;32m    180\u001b[0m \u001b[38;5;28mself\u001b[39m\u001b[38;5;241m.\u001b[39m_connection\u001b[38;5;241m.\u001b[39msend_all()\n\u001b[0;32m--> 181\u001b[0m \u001b[38;5;28;43mself\u001b[39;49m\u001b[38;5;241;43m.\u001b[39;49m\u001b[43m_attach\u001b[49m\u001b[43m(\u001b[49m\u001b[43m)\u001b[49m\n",
      "File \u001b[0;32m~/research/DTGraph/venv/lib/python3.11/site-packages/neo4j/_sync/work/result.py:298\u001b[0m, in \u001b[0;36mResult._attach\u001b[0;34m(self)\u001b[0m\n\u001b[1;32m    296\u001b[0m \u001b[38;5;28;01mif\u001b[39;00m \u001b[38;5;28mself\u001b[39m\u001b[38;5;241m.\u001b[39m_exhausted \u001b[38;5;129;01mis\u001b[39;00m \u001b[38;5;28;01mFalse\u001b[39;00m:\n\u001b[1;32m    297\u001b[0m     \u001b[38;5;28;01mwhile\u001b[39;00m \u001b[38;5;28mself\u001b[39m\u001b[38;5;241m.\u001b[39m_attached \u001b[38;5;129;01mis\u001b[39;00m \u001b[38;5;28;01mFalse\u001b[39;00m:\n\u001b[0;32m--> 298\u001b[0m         \u001b[38;5;28;43mself\u001b[39;49m\u001b[38;5;241;43m.\u001b[39;49m\u001b[43m_connection\u001b[49m\u001b[38;5;241;43m.\u001b[39;49m\u001b[43mfetch_message\u001b[49m\u001b[43m(\u001b[49m\u001b[43m)\u001b[49m\n",
      "File \u001b[0;32m~/research/DTGraph/venv/lib/python3.11/site-packages/neo4j/_sync/io/_common.py:178\u001b[0m, in \u001b[0;36mConnectionErrorHandler.__getattr__.<locals>.outer.<locals>.inner\u001b[0;34m(*args, **kwargs)\u001b[0m\n\u001b[1;32m    176\u001b[0m \u001b[38;5;28;01mdef\u001b[39;00m \u001b[38;5;21minner\u001b[39m(\u001b[38;5;241m*\u001b[39margs, \u001b[38;5;241m*\u001b[39m\u001b[38;5;241m*\u001b[39mkwargs):\n\u001b[1;32m    177\u001b[0m     \u001b[38;5;28;01mtry\u001b[39;00m:\n\u001b[0;32m--> 178\u001b[0m         \u001b[43mfunc\u001b[49m\u001b[43m(\u001b[49m\u001b[38;5;241;43m*\u001b[39;49m\u001b[43margs\u001b[49m\u001b[43m,\u001b[49m\u001b[43m \u001b[49m\u001b[38;5;241;43m*\u001b[39;49m\u001b[38;5;241;43m*\u001b[39;49m\u001b[43mkwargs\u001b[49m\u001b[43m)\u001b[49m\n\u001b[1;32m    179\u001b[0m     \u001b[38;5;28;01mexcept\u001b[39;00m (Neo4jError, ServiceUnavailable, SessionExpired) \u001b[38;5;28;01mas\u001b[39;00m exc:\n\u001b[1;32m    180\u001b[0m         \u001b[38;5;28;01massert\u001b[39;00m \u001b[38;5;129;01mnot\u001b[39;00m asyncio\u001b[38;5;241m.\u001b[39miscoroutinefunction(\u001b[38;5;28mself\u001b[39m\u001b[38;5;241m.\u001b[39m__on_error)\n",
      "File \u001b[0;32m~/research/DTGraph/venv/lib/python3.11/site-packages/neo4j/_sync/io/_bolt.py:849\u001b[0m, in \u001b[0;36mBolt.fetch_message\u001b[0;34m(self)\u001b[0m\n\u001b[1;32m    845\u001b[0m \u001b[38;5;66;03m# Receive exactly one message\u001b[39;00m\n\u001b[1;32m    846\u001b[0m tag, fields \u001b[38;5;241m=\u001b[39m \u001b[38;5;28mself\u001b[39m\u001b[38;5;241m.\u001b[39minbox\u001b[38;5;241m.\u001b[39mpop(\n\u001b[1;32m    847\u001b[0m     hydration_hooks\u001b[38;5;241m=\u001b[39m\u001b[38;5;28mself\u001b[39m\u001b[38;5;241m.\u001b[39mresponses[\u001b[38;5;241m0\u001b[39m]\u001b[38;5;241m.\u001b[39mhydration_hooks\n\u001b[1;32m    848\u001b[0m )\n\u001b[0;32m--> 849\u001b[0m res \u001b[38;5;241m=\u001b[39m \u001b[38;5;28;43mself\u001b[39;49m\u001b[38;5;241;43m.\u001b[39;49m\u001b[43m_process_message\u001b[49m\u001b[43m(\u001b[49m\u001b[43mtag\u001b[49m\u001b[43m,\u001b[49m\u001b[43m \u001b[49m\u001b[43mfields\u001b[49m\u001b[43m)\u001b[49m\n\u001b[1;32m    850\u001b[0m \u001b[38;5;28mself\u001b[39m\u001b[38;5;241m.\u001b[39midle_since \u001b[38;5;241m=\u001b[39m monotonic()\n\u001b[1;32m    851\u001b[0m \u001b[38;5;28;01mreturn\u001b[39;00m res\n",
      "File \u001b[0;32m~/research/DTGraph/venv/lib/python3.11/site-packages/neo4j/_sync/io/_bolt5.py:369\u001b[0m, in \u001b[0;36mBolt5x0._process_message\u001b[0;34m(self, tag, fields)\u001b[0m\n\u001b[1;32m    367\u001b[0m \u001b[38;5;28mself\u001b[39m\u001b[38;5;241m.\u001b[39m_server_state_manager\u001b[38;5;241m.\u001b[39mstate \u001b[38;5;241m=\u001b[39m \u001b[38;5;28mself\u001b[39m\u001b[38;5;241m.\u001b[39mbolt_states\u001b[38;5;241m.\u001b[39mFAILED\n\u001b[1;32m    368\u001b[0m \u001b[38;5;28;01mtry\u001b[39;00m:\n\u001b[0;32m--> 369\u001b[0m     \u001b[43mresponse\u001b[49m\u001b[38;5;241;43m.\u001b[39;49m\u001b[43mon_failure\u001b[49m\u001b[43m(\u001b[49m\u001b[43msummary_metadata\u001b[49m\u001b[43m \u001b[49m\u001b[38;5;129;43;01mor\u001b[39;49;00m\u001b[43m \u001b[49m\u001b[43m{\u001b[49m\u001b[43m}\u001b[49m\u001b[43m)\u001b[49m\n\u001b[1;32m    370\u001b[0m \u001b[38;5;28;01mexcept\u001b[39;00m (ServiceUnavailable, DatabaseUnavailable):\n\u001b[1;32m    371\u001b[0m     \u001b[38;5;28;01mif\u001b[39;00m \u001b[38;5;28mself\u001b[39m\u001b[38;5;241m.\u001b[39mpool:\n",
      "File \u001b[0;32m~/research/DTGraph/venv/lib/python3.11/site-packages/neo4j/_sync/io/_common.py:245\u001b[0m, in \u001b[0;36mResponse.on_failure\u001b[0;34m(self, metadata)\u001b[0m\n\u001b[1;32m    243\u001b[0m handler \u001b[38;5;241m=\u001b[39m \u001b[38;5;28mself\u001b[39m\u001b[38;5;241m.\u001b[39mhandlers\u001b[38;5;241m.\u001b[39mget(\u001b[38;5;124m\"\u001b[39m\u001b[38;5;124mon_summary\u001b[39m\u001b[38;5;124m\"\u001b[39m)\n\u001b[1;32m    244\u001b[0m Util\u001b[38;5;241m.\u001b[39mcallback(handler)\n\u001b[0;32m--> 245\u001b[0m \u001b[38;5;28;01mraise\u001b[39;00m Neo4jError\u001b[38;5;241m.\u001b[39mhydrate(\u001b[38;5;241m*\u001b[39m\u001b[38;5;241m*\u001b[39mmetadata)\n",
      "\u001b[0;31mClientError\u001b[0m: {code: Memgraph.ClientError.MemgraphError.MemgraphError} {message: line 2:22 no viable alternative at input 'CREATEINDEXidx_dummy'}"
     ]
    }
   ],
   "source": [
    "my_transform = Transformation([my_rule])\n",
    "my_transform.apply_on(graph)"
   ]
  },
  {
   "cell_type": "markdown",
   "id": "680ffb87-1207-4714-9288-54033308de47",
   "metadata": {},
   "source": [
    "Yay, 102 nodes and 204 labels have been created! You can check with the following query on your Neo4j browser the result (alongside the initial dataset, for now):\n",
    "```\n",
    "MATCH (n)\n",
    "RETURN n\n",
    "```\n",
    "\n",
    "The line `Index: Added 1 index, completed after 7 ms.` indicates that an index has been added. This is part of the internals of the library to speed up the computation of the output graph."
   ]
  },
  {
   "cell_type": "markdown",
   "id": "9c424f72-3e09-4e5e-879a-03fc5fc06a2b",
   "metadata": {},
   "source": [
    "We can now add a new rule to this transformation:"
   ]
  },
  {
   "cell_type": "code",
   "execution_count": null,
   "id": "6a4810c6-896e-4641-91c0-ce34231b36ce",
   "metadata": {},
   "outputs": [],
   "source": [
    "my_second_rule = Rule('''\n",
    "    MATCH (d:Person)-[:DIRECTED]->(m:Movie)<-[:ACTED_IN]-(a:Person)\n",
    "    =>\n",
    "    (x = (d) : Director {\n",
    "        name = d.name,\n",
    "        born = d.born\n",
    "    })-[(m) : SUPERVISED {\n",
    "        movie = m.title\n",
    "    }]->(y = (a) : Actor {\n",
    "        name = a.name,\n",
    "        born = a.born\n",
    "    })\n",
    "''')\n",
    "my_transform.add(my_second_rule)"
   ]
  },
  {
   "cell_type": "markdown",
   "id": "025c83b5-5928-4935-ae7c-0a13a8320db4",
   "metadata": {},
   "source": [
    "We see that 23 nodes and 51 labels have been added."
   ]
  },
  {
   "cell_type": "markdown",
   "id": "2d184de1-9ff2-4ab9-bc8a-6281047122bd",
   "metadata": {},
   "source": [
    "Let us now investigate the output of the transformation. We have two rules and both extract `Person` nodes. The first rule creates nodes only of type `Actor` while the second one also creates nodes of type `Director`.\n",
    "We can confirm with the following query that a single node is created on the output with both labels if a person is both an Actor and a Director of some films:\n",
    "\n",
    "```\n",
    "MATCH (n)\n",
    "WHERE n:Actor and n:Director\n",
    "RETURN n\n",
    "```\n",
    "\n",
    "This query should return the following output:\n",
    "```\n",
    "╒══════════════════════════════════════════════════════════════════════╕\n",
    "│n                                                                     │\n",
    "╞══════════════════════════════════════════════════════════════════════╡\n",
    "│(:Actor:Director:_dummy {born: 1967,name: \"James Marshall\",_id: \"(4:7f│\n",
    "│732a8b-14ba-4846-8477-f326f7a1b5d0:2469)\"})                           │\n",
    "├──────────────────────────────────────────────────────────────────────┤\n",
    "│(:Actor:Director:_dummy {born: 1956,name: \"Tom Hanks\",_id: \"(4:7f732a8│\n",
    "│b-14ba-4846-8477-f326f7a1b5d0:2515)\"})                                │\n",
    "├──────────────────────────────────────────────────────────────────────┤\n",
    "│(:Actor:Director:_dummy {born: 1930,name: \"Clint Eastwood\",_id: \"(4:7f│\n",
    "│732a8b-14ba-4846-8477-f326f7a1b5d0:2543)\"})                           │\n",
    "├──────────────────────────────────────────────────────────────────────┤\n",
    "│(:Actor:Director:_dummy {born: 1944,name: \"Danny DeVito\",_id: \"(4:7f73│\n",
    "│2a8b-14ba-4846-8477-f326f7a1b5d0:2586)\"})                             │\n",
    "├──────────────────────────────────────────────────────────────────────┤\n",
    "│(:Actor:Director:_dummy {born: 1942,name: \"Werner Herzog\",_id: \"(4:7f7│\n",
    "│32a8b-14ba-4846-8477-f326f7a1b5d0:2503)\"})                            │\n",
    "└──────────────────────────────────────────────────────────────────────┘\n",
    "```\n",
    "\n",
    "This is indeed the desired behavior to be able to define the content of new nodes with multiple queries, independent of each other.\n",
    "\n",
    "Finally, `.eject()` removes the internal bookeeping data and let the output of the transformation alongside of the initial data."
   ]
  },
  {
   "cell_type": "code",
   "execution_count": null,
   "id": "914a15b5-1622-443b-80ba-db2828d57976",
   "metadata": {},
   "outputs": [],
   "source": [
    "my_transform.eject()"
   ]
  },
  {
   "cell_type": "markdown",
   "id": "a38c7095-7016-4284-aa47-20b3a7747626",
   "metadata": {},
   "source": [
    "Note that the index has been removed from the database."
   ]
  },
  {
   "cell_type": "code",
   "execution_count": null,
   "id": "fa1c9f4b-39b0-4f6e-b531-5b78896ae5f1",
   "metadata": {},
   "outputs": [],
   "source": []
  }
 ],
 "metadata": {
  "kernelspec": {
   "display_name": "Python 3 (ipykernel)",
   "language": "python",
   "name": "python3"
  },
  "language_info": {
   "codemirror_mode": {
    "name": "ipython",
    "version": 3
   },
   "file_extension": ".py",
   "mimetype": "text/x-python",
   "name": "python",
   "nbconvert_exporter": "python",
   "pygments_lexer": "ipython3",
   "version": "3.11.6"
  }
 },
 "nbformat": 4,
 "nbformat_minor": 5
}
