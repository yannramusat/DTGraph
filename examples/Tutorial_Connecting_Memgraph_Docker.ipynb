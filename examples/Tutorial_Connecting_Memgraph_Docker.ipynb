{
 "cells": [
  {
   "cell_type": "markdown",
   "id": "dc0490c5-ff27-4d90-bdb6-be3a56fa625b",
   "metadata": {},
   "source": [
    "# Tutorial: Connecting to a local Memgraph Docker container\n",
    "\n",
    "This notebook will guide you through setting up a local workflow using a Memgraph Docker container.\n",
    "\n",
    "## Part 1: Establishing a connection"
   ]
  },
  {
   "cell_type": "code",
   "execution_count": 1,
   "id": "98851c91-f3bb-44c3-81c4-d882871bbb43",
   "metadata": {},
   "outputs": [],
   "source": [
    "from dtgraph import Neo4jGraph, Rule, Transformation"
   ]
  },
  {
   "cell_type": "markdown",
   "id": "fc227eba-82be-43bb-b30c-80c4397d9ad9",
   "metadata": {},
   "source": [
    "In the following, we will connect to a [Memgraph](https://memgraph.com/) instance running inside a Docker container.\n",
    "You can type `sudo docker run --name memgraph2.14.0 -p 7687:7687 -p 7444:7444 -p 3000:3000 memgraph/memgraph-platform:2.14.0-memgraph2.14.0-lab2.11.1` to install and run Memgraph locally. (Of course you need to have [Docker](https://docs.docker.com/engine/install/)  already installed on your system.) You should then be able to access [Memgraph lab](http://localhost:3000/) running locally on your computer. (This is the equivalent of Neo4j browser.)\n",
    "\n",
    "*Note:* We have specifically tested the compatibility of this framework with Memgraph 2.14.0 and Memgraph lab 2.11.1, which were the latest versions by the time of writting this guide. \n",
    "\n",
    "The default configuration of Memgraph does not use authentication. Make sure to use *database=memgraph* to indicate to the backend that we use Memgraph and not Neo4j. This makes a difference because the syntax for creating indexes is different compared to with Neo4j."
   ]
  },
  {
   "cell_type": "code",
   "execution_count": 2,
   "id": "5155ec95-8af2-4bf3-b226-73e260027ac1",
   "metadata": {},
   "outputs": [],
   "source": [
    "hostname = \"localhost\"\n",
    "password = \"\""
   ]
  },
  {
   "cell_type": "code",
   "execution_count": 3,
   "id": "5da0fc46-969b-4746-ad05-cfb073579ee9",
   "metadata": {},
   "outputs": [],
   "source": [
    "uri = f\"bolt://{hostname}:7687\"\n",
    "graph = Neo4jGraph(uri, database=\"memgraph\", username=\"\", password=password)"
   ]
  },
  {
   "cell_type": "markdown",
   "id": "de411f63-f51a-47a0-9275-e7680b9a356a",
   "metadata": {},
   "source": [
    "You can check if it already contains content:"
   ]
  },
  {
   "cell_type": "code",
   "execution_count": 4,
   "id": "27e9d744-23fb-49b9-8e2f-88f5836162de",
   "metadata": {},
   "outputs": [
    {
     "name": "stdout",
     "output_type": "stream",
     "text": [
      "Info: There are currently 296 node(s) in the database.\n"
     ]
    }
   ],
   "source": [
    "graph.output_all_nodes()"
   ]
  },
  {
   "cell_type": "markdown",
   "id": "2ea51141-81d7-4a26-809d-1d2fdc9ad479",
   "metadata": {},
   "source": [
    "## Part II: (Optional) Loading a curated scenario"
   ]
  },
  {
   "cell_type": "markdown",
   "id": "847d99e7-1cdb-406b-ad05-ee1788d459cb",
   "metadata": {},
   "source": [
    "If your database is empty or you don't have it loaded with the *Movie dataset*, you can import it using the following command:"
   ]
  },
  {
   "cell_type": "code",
   "execution_count": 5,
   "id": "7c13a7e3-ffa3-451e-bb55-12012018c80f",
   "metadata": {},
   "outputs": [
    {
     "name": "stdout",
     "output_type": "stream",
     "text": [
      "Flushed database: Deleted 296 nodes, deleted 1221 relationships, completed after None ms.\n",
      "Load scenario: Added 171 labels, created 171 nodes, set 0 properties, created 253 relationships, completed after None ms.\n"
     ]
    }
   ],
   "source": [
    "from dtgraph.scenarios.movies import Movies\n",
    "Movies.load(graph)"
   ]
  },
  {
   "cell_type": "markdown",
   "id": "ab4fec1e-a463-40dd-bf88-057ca71df776",
   "metadata": {},
   "source": [
    "## Part III: Defining and executing a rule"
   ]
  },
  {
   "cell_type": "markdown",
   "id": "c43a7e6a-27d4-4e3f-b6c9-c93b4994eaa1",
   "metadata": {},
   "source": [
    "Then you can write your own transformation rule:"
   ]
  },
  {
   "cell_type": "code",
   "execution_count": 6,
   "id": "192eab83-19f2-46df-b0dc-000a2f3272fe",
   "metadata": {},
   "outputs": [],
   "source": [
    "my_rule = Rule('''\n",
    "        MATCH (n:Person)-[:ACTED_IN]->(m:Movie)<-[:ACTED_IN]-(o:Person)\n",
    "        => \n",
    "        (x = (n) : Actor {\n",
    "            name = n.name,\n",
    "            born = n.born\n",
    "        })-[(m) : COLLEAGUE {\n",
    "            movie = m.title\n",
    "        }]->(y = (o) : Actor {\n",
    "            name = o.name,\n",
    "            born = o.born\n",
    "        })\n",
    "''')"
   ]
  },
  {
   "cell_type": "markdown",
   "id": "7ab0303b-8fc7-464a-8e23-56c20749b111",
   "metadata": {},
   "source": [
    "And execute it after after wrapping it in a Transformation object:"
   ]
  },
  {
   "cell_type": "code",
   "execution_count": 7,
   "id": "8e5986b4-4943-43b3-933a-aa44fb6739c5",
   "metadata": {},
   "outputs": [
    {
     "name": "stdout",
     "output_type": "stream",
     "text": [
      "Rule: Added 102 labels, created 102 nodes, set 3840 properties, created 768 relationships, completed after None ms.\n"
     ]
    },
    {
     "data": {
      "text/plain": [
       "0"
      ]
     },
     "execution_count": 7,
     "metadata": {},
     "output_type": "execute_result"
    }
   ],
   "source": [
    "my_transform = Transformation([my_rule])\n",
    "my_transform.apply_on(graph)"
   ]
  },
  {
   "cell_type": "markdown",
   "id": "680ffb87-1207-4714-9288-54033308de47",
   "metadata": {},
   "source": [
    "Yay, $102$ nodes and $102$ labels have been created! You can check with the following query on your Neo4j browser the result (alongside the initial dataset, for now):\n",
    "```\n",
    "MATCH (n)\n",
    "RETURN n\n",
    "```\n",
    "\n",
    "Note that Memgraph does not return execution time or metadata related to indexes."
   ]
  },
  {
   "cell_type": "markdown",
   "id": "9c424f72-3e09-4e5e-879a-03fc5fc06a2b",
   "metadata": {},
   "source": [
    "We can now add a new rule to this transformation:"
   ]
  },
  {
   "cell_type": "code",
   "execution_count": 8,
   "id": "6a4810c6-896e-4641-91c0-ce34231b36ce",
   "metadata": {},
   "outputs": [
    {
     "name": "stdout",
     "output_type": "stream",
     "text": [
      "Rule: Added 23 labels, created 23 nodes, set 1000 properties, created 200 relationships, completed after None ms.\n"
     ]
    }
   ],
   "source": [
    "my_second_rule = Rule('''\n",
    "    MATCH (d:Person)-[:DIRECTED]->(m:Movie)<-[:ACTED_IN]-(a:Person)\n",
    "    =>\n",
    "    (x = (d) : Director {\n",
    "        name = d.name,\n",
    "        born = d.born\n",
    "    })-[(m) : SUPERVISED {\n",
    "        movie = m.title\n",
    "    }]->(y = (a) : Actor {\n",
    "        name = a.name,\n",
    "        born = a.born\n",
    "    })\n",
    "''')\n",
    "my_transform.add(my_second_rule)"
   ]
  },
  {
   "cell_type": "markdown",
   "id": "025c83b5-5928-4935-ae7c-0a13a8320db4",
   "metadata": {},
   "source": [
    "We see that $23$ nodes and $23$ labels have been added."
   ]
  },
  {
   "cell_type": "markdown",
   "id": "2d184de1-9ff2-4ab9-bc8a-6281047122bd",
   "metadata": {},
   "source": [
    "Let us now investigate the output of the transformation. We have two rules and both extract `Person` nodes. The first rule creates nodes only of type `Actor` while the second one also creates nodes of type `Director`.\n",
    "We can confirm with the following query that a single node is created on the output with both labels if a person is both an Actor and a Director of some films:\n",
    "\n",
    "```\n",
    "MATCH (n)\n",
    "WHERE n:Actor and n:Director\n",
    "RETURN n\n",
    "```\n",
    "\n",
    "This query should return the following output:\n",
    "```\n",
    "╒══════════════════════════════════════════════════════════════════════╕\n",
    "│n                                                                     │\n",
    "╞══════════════════════════════════════════════════════════════════════╡\n",
    "│(:Actor:Director:_dummy {born: 1967,name: \"James Marshall\",_id: \"(4:7f│\n",
    "│732a8b-14ba-4846-8477-f326f7a1b5d0:2469)\"})                           │\n",
    "├──────────────────────────────────────────────────────────────────────┤\n",
    "│(:Actor:Director:_dummy {born: 1956,name: \"Tom Hanks\",_id: \"(4:7f732a8│\n",
    "│b-14ba-4846-8477-f326f7a1b5d0:2515)\"})                                │\n",
    "├──────────────────────────────────────────────────────────────────────┤\n",
    "│(:Actor:Director:_dummy {born: 1930,name: \"Clint Eastwood\",_id: \"(4:7f│\n",
    "│732a8b-14ba-4846-8477-f326f7a1b5d0:2543)\"})                           │\n",
    "├──────────────────────────────────────────────────────────────────────┤\n",
    "│(:Actor:Director:_dummy {born: 1944,name: \"Danny DeVito\",_id: \"(4:7f73│\n",
    "│2a8b-14ba-4846-8477-f326f7a1b5d0:2586)\"})                             │\n",
    "├──────────────────────────────────────────────────────────────────────┤\n",
    "│(:Actor:Director:_dummy {born: 1942,name: \"Werner Herzog\",_id: \"(4:7f7│\n",
    "│32a8b-14ba-4846-8477-f326f7a1b5d0:2503)\"})                            │\n",
    "└──────────────────────────────────────────────────────────────────────┘\n",
    "```\n",
    "\n",
    "This is indeed the desired behavior to be able to define the content of new nodes with multiple queries, independent of each other.\n",
    "\n",
    "Finally, `.eject()` removes the internal bookeeping data and let the output of the transformation alongside of the initial data."
   ]
  },
  {
   "cell_type": "code",
   "execution_count": 9,
   "id": "914a15b5-1622-443b-80ba-db2828d57976",
   "metadata": {},
   "outputs": [
    {
     "name": "stdout",
     "output_type": "stream",
     "text": [
      "Eject: Removed 305250 labels, erased 0 properties, completed after None ms.\n"
     ]
    }
   ],
   "source": [
    "my_transform.eject()"
   ]
  },
  {
   "cell_type": "code",
   "execution_count": null,
   "id": "b84b09ed-3473-4fa6-8a08-6f10edef28ef",
   "metadata": {},
   "outputs": [],
   "source": []
  }
 ],
 "metadata": {
  "kernelspec": {
   "display_name": "Python 3 (ipykernel)",
   "language": "python",
   "name": "python3"
  },
  "language_info": {
   "codemirror_mode": {
    "name": "ipython",
    "version": 3
   },
   "file_extension": ".py",
   "mimetype": "text/x-python",
   "name": "python",
   "nbconvert_exporter": "python",
   "pygments_lexer": "ipython3",
   "version": "3.11.6"
  }
 },
 "nbformat": 4,
 "nbformat_minor": 5
}
