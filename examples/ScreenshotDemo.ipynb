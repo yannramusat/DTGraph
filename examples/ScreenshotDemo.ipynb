{
 "cells": [
  {
   "cell_type": "code",
   "execution_count": 1,
   "id": "e788a1d3-1a9c-47a6-b353-961dc63534df",
   "metadata": {},
   "outputs": [],
   "source": [
    "from dtgraph import Neo4jGraph, Rule, Transformation\n",
    "hostname = \"localhost\"\n",
    "password = \"\"\n",
    "uri = f\"bolt://{hostname}:7687\"\n",
    "graph = Neo4jGraph(uri, database=\"neo4j\", username=\"\", password=password)"
   ]
  },
  {
   "cell_type": "code",
   "execution_count": 2,
   "id": "e2f57b1d-393a-4070-a778-37092d6e5395",
   "metadata": {},
   "outputs": [
    {
     "name": "stdout",
     "output_type": "stream",
     "text": [
      "Flushed database: Deleted 296 nodes, deleted 1021 relationships, completed after 17 ms.\n",
      "Load scenario: Added 171 labels, created 171 nodes, set 564 properties, created 253 relationships, completed after 773 ms.\n"
     ]
    }
   ],
   "source": [
    "from dtgraph.scenarios.movies import Movies\n",
    "Movies.load(graph)"
   ]
  },
  {
   "cell_type": "markdown",
   "id": "ca93cb15-c8f2-4c9c-b8b2-6a038d203210",
   "metadata": {},
   "source": [
    "### Writing the transformation"
   ]
  },
  {
   "cell_type": "code",
   "execution_count": 3,
   "id": "d61bbe31-2de3-440f-9d70-2aa5d0a2bfa0",
   "metadata": {},
   "outputs": [
    {
     "name": "stdout",
     "output_type": "stream",
     "text": [
      "Index: Added 1 index, completed after 5 ms.\n",
      "Rule: Added 204 labels, created 102 nodes, set 446 properties, created 0 relationships, completed after 146 ms.\n",
      "Rule: Added 51 labels, created 23 nodes, set 111 properties, created 0 relationships, completed after 69 ms.\n"
     ]
    },
    {
     "data": {
      "text/plain": [
       "215"
      ]
     },
     "execution_count": 3,
     "metadata": {},
     "output_type": "execute_result"
    }
   ],
   "source": [
    "generate_actors = Rule('''\n",
    "MATCH (n:Person)-[:ACTED_IN]->(:Movie)\n",
    "GENERATE \n",
    "(x = (n):Actor { name = n.name, born = n.born })\n",
    "''')\n",
    "generate_directors = Rule('''\n",
    "MATCH (n:Person)-[:DIRECTED]->(:Movie)\n",
    "GENERATE \n",
    "(x=(n):Director { name = n.name, born = n.born})\n",
    "''')\n",
    "my_transform = Transformation([generate_actors, generate_directors])\n",
    "my_transform.apply_on(graph)"
   ]
  },
  {
   "cell_type": "markdown",
   "id": "911712de-ac9a-45a8-9487-5ae494172cbf",
   "metadata": {},
   "source": [
    "### Adding a new rule to an existing transformation"
   ]
  },
  {
   "cell_type": "code",
   "execution_count": 4,
   "id": "8e77c13b-0979-481e-9e47-888a6a4ba526",
   "metadata": {},
   "outputs": [
    {
     "name": "stdout",
     "output_type": "stream",
     "text": [
      "Rule: Added 0 labels, created 0 nodes, set 28 properties, created 6 relationships, completed after 106 ms.\n"
     ]
    }
   ],
   "source": [
    "generate_colleague = Rule('''\n",
    "MATCH (n:Person)-[:DIRECTED]->(m:Movie)<-[:DIRECTED]-(o:Person)\n",
    "GENERATE\n",
    "(x = (n):)-[():COLLEAGUE { movie = m.title }]->(y = (o):)\n",
    "''')\n",
    "my_transform.add(generate_colleague)"
   ]
  },
  {
   "cell_type": "markdown",
   "id": "0bcab4bf-2b47-49d2-99fd-cb48745ea4ad",
   "metadata": {},
   "source": [
    "### Dealing with conflicts"
   ]
  },
  {
   "cell_type": "code",
   "execution_count": 5,
   "id": "6b62ae04-66f0-49d6-9d17-00721f10278b",
   "metadata": {},
   "outputs": [
    {
     "name": "stdout",
     "output_type": "stream",
     "text": [
      "NodeConflicts: There are currently 0 nodes in the database which have a conflict.\n",
      "EdgeConflicts: There are currently 2 edges in the database which have a conflict.\n",
      "  (:Director {born: 1967, name: Lilly Wachowski})-[:COLLEAGUE {}]->(:Director {born: 1965, name: Lana Wachowski}) has a conflict on attributes ['movie']\n",
      "  (:Director {born: 1965, name: Lana Wachowski})-[:COLLEAGUE {}]->(:Director {born: 1967, name: Lilly Wachowski}) has a conflict on attributes ['movie']\n"
     ]
    },
    {
     "data": {
      "text/plain": [
       "(0, 2)"
      ]
     },
     "execution_count": 5,
     "metadata": {},
     "output_type": "execute_result"
    }
   ],
   "source": [
    "my_transform.diagnose()"
   ]
  },
  {
   "cell_type": "code",
   "execution_count": 6,
   "id": "7026cd72-f960-4a11-b000-bcb0d22eaf1c",
   "metadata": {},
   "outputs": [
    {
     "name": "stdout",
     "output_type": "stream",
     "text": [
      "Index: Removed 1 index, completed after 2 ms.\n",
      "Abort: Deleted 125 nodes, deleted 6 relationships, completed after 16 ms.\n",
      "Index: Added 1 index, completed after 3 ms.\n",
      "Rule: Added 204 labels, created 102 nodes, set 446 properties, created 0 relationships, completed after 130 ms.\n",
      "Rule: Added 51 labels, created 23 nodes, set 111 properties, created 0 relationships, completed after 67 ms.\n",
      "Rule: Added 0 labels, created 0 nodes, set 1536 properties, created 768 relationships, completed after 125 ms.\n"
     ]
    },
    {
     "data": {
      "text/plain": [
       "322"
      ]
     },
     "execution_count": 6,
     "metadata": {},
     "output_type": "execute_result"
    }
   ],
   "source": [
    "my_transform.abort()\n",
    "generate_colleague_fixed = Rule('''\n",
    "MATCH (n:Person)-[:ACTED_IN]->(m:Movie)<-[:ACTED_IN]-(o:Person)\n",
    "GENERATE\n",
    "(x = (n):)-[(m):COLLEAGUE { movie = m.title }]->(y = (o):)\n",
    "''')\n",
    "my_transform_fixed = Transformation([generate_actors, generate_directors, generate_colleague_fixed])\n",
    "my_transform_fixed.apply_on(graph)"
   ]
  },
  {
   "cell_type": "code",
   "execution_count": 7,
   "id": "d28f64a2-1dc2-492c-8c5b-6daea5adefea",
   "metadata": {},
   "outputs": [
    {
     "name": "stdout",
     "output_type": "stream",
     "text": [
      "NodeConflicts: There are currently 0 nodes in the database which have a conflict.\n",
      "EdgeConflicts: There are currently 0 edges in the database which have a conflict.\n"
     ]
    },
    {
     "data": {
      "text/plain": [
       "(0, 0)"
      ]
     },
     "execution_count": 7,
     "metadata": {},
     "output_type": "execute_result"
    }
   ],
   "source": [
    "my_transform_fixed.diagnose()"
   ]
  },
  {
   "cell_type": "markdown",
   "id": "27b70428-1d90-4c5e-aa2a-202673f6db8b",
   "metadata": {},
   "source": [
    "### Validating the transformation"
   ]
  },
  {
   "cell_type": "code",
   "execution_count": 8,
   "id": "f73090fc-1ffa-48ca-9640-146072ec145c",
   "metadata": {},
   "outputs": [
    {
     "name": "stdout",
     "output_type": "stream",
     "text": [
      "Index: Removed 1 index, completed after 1 ms.\n",
      "Eject: Removed 125 labels, erased 893 properties, completed after 396 ms.\n"
     ]
    }
   ],
   "source": [
    "my_transform_fixed.eject()"
   ]
  }
 ],
 "metadata": {
  "kernelspec": {
   "display_name": "Python 3 (ipykernel)",
   "language": "python",
   "name": "python3"
  },
  "language_info": {
   "codemirror_mode": {
    "name": "ipython",
    "version": 3
   },
   "file_extension": ".py",
   "mimetype": "text/x-python",
   "name": "python",
   "nbconvert_exporter": "python",
   "pygments_lexer": "ipython3",
   "version": "3.11.6"
  }
 },
 "nbformat": 4,
 "nbformat_minor": 5
}
