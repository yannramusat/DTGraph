{
 "cells": [
  {
   "cell_type": "markdown",
   "id": "f30d909f-cf9a-48c4-b7a3-92103c3e43b7",
   "metadata": {},
   "source": [
    "# Usability Study\n",
    "\n",
    "In the following, you'll be asked some question regarding some provided pieces of code."
   ]
  },
  {
   "cell_type": "code",
   "execution_count": 1,
   "id": "79392604-8036-4ca5-ad76-26b52d7a03df",
   "metadata": {},
   "outputs": [],
   "source": [
    "from dtgraph import Neo4jGraph, Rule, Transformation\n",
    "hostname = \"localhost\"\n",
    "password = \"\"\n",
    "uri = f\"bolt://{hostname}:7687\"\n",
    "graph = Neo4jGraph(uri, database=\"neo4j\", username=\"\", password=password)"
   ]
  },
  {
   "cell_type": "markdown",
   "id": "e05956ca-92a6-4040-9c7e-a8a9862f58a6",
   "metadata": {},
   "source": [
    "We will use the popular movies database offered by Neo4j."
   ]
  },
  {
   "cell_type": "code",
   "execution_count": 2,
   "id": "be3f76f3-bd83-416c-adae-08520e646aa3",
   "metadata": {},
   "outputs": [
    {
     "name": "stdout",
     "output_type": "stream",
     "text": [
      "Flushed database: Deleted 174 nodes, deleted 259 relationships, completed after 2 ms.\n",
      "Load scenario: Added 171 labels, created 171 nodes, set 564 properties, created 253 relationships, completed after 1 ms.\n"
     ]
    }
   ],
   "source": [
    "from dtgraph.scenarios.movies import Movies\n",
    "Movies.load(graph)"
   ]
  },
  {
   "cell_type": "markdown",
   "id": "89cae98e-4dda-42e2-a746-7e87f6cd400d",
   "metadata": {},
   "source": [
    "# Dataset"
   ]
  },
  {
   "cell_type": "markdown",
   "id": "ad85c8ba-3e49-4958-8548-9f0dbedbb88b",
   "metadata": {},
   "source": [
    "We will explore transformations on the following dataset having the following schema:\n",
    "\n",
    "![Schema](./../images/tuto-basics-schema.svg)"
   ]
  },
  {
   "cell_type": "markdown",
   "id": "9c1fe1a6-74b7-4eba-9d1a-a22c1539b36a",
   "metadata": {},
   "source": [
    "## Understandability of openCypher scripts\n",
    "\n",
    "Let us consider the following queries:"
   ]
  },
  {
   "cell_type": "code",
   "execution_count": 3,
   "id": "26266074-acd0-417d-bbd9-7ed82a74103b",
   "metadata": {},
   "outputs": [
    {
     "data": {
      "text/plain": [
       "(0, 0)"
      ]
     },
     "execution_count": 3,
     "metadata": {},
     "output_type": "execute_result"
    }
   ],
   "source": [
    "graph.query(\"MATCH (n:Person)-[:DIRECTED]->(:Movie) CREATE (:Director {name: n.name, born: n.born})\")\n",
    "graph.query(\"MATCH (n:Person)-[:ACTED_IN]->(:Movie) CREATE (:Actor {name: n.name, born: n.born})\")"
   ]
  },
  {
   "cell_type": "markdown",
   "id": "94cb310f-6d6d-40e5-9ae4-87b7f8514c0c",
   "metadata": {},
   "source": [
    "Could you explain the output? Specifically:\n",
    "* **(Question 1)** Does this query create as many `Director` nodes as there are `Person` nodes that have an outgoing relationship of type `DIRECTED` to a `Movie` node?\n",
    "* **(Question 2)** Does this query create nodes with both `Director` and `Actor` labels?"
   ]
  },
  {
   "cell_type": "markdown",
   "id": "c5b916af-2ae3-4c83-92cf-a514e02e2faf",
   "metadata": {},
   "source": [
    "We now execute the following query after having executed the two previous ones:"
   ]
  },
  {
   "cell_type": "code",
   "execution_count": 4,
   "id": "78adb8e4-6145-4d65-844c-8343360431a5",
   "metadata": {},
   "outputs": [
    {
     "data": {
      "text/plain": [
       "(0, 0)"
      ]
     },
     "execution_count": 4,
     "metadata": {},
     "output_type": "execute_result"
    }
   ],
   "source": [
    "graph.query(\"MATCH (n:Person)-[:DIRECTED]->(m:Movie) MERGE (:Director {name: n.name, born: n.born})-[:DIRECTOR_OF]-(:Film {title: m.title})\")"
   ]
  },
  {
   "cell_type": "markdown",
   "id": "82170307-2e59-4499-b5c1-13a23376420e",
   "metadata": {},
   "source": [
    "Could you explain the output? Specifically:\n",
    "* **(Question 3)** Executed after the previous two queries, does this one will create new `Director` nodes?\n",
    "* **(Question 4)** Will two persons having co-directed the same movie be connected to the same `Film` node?"
   ]
  },
  {
   "cell_type": "markdown",
   "id": "ea784227-5fb8-449b-8d0b-2c357cc226f3",
   "metadata": {},
   "source": [
    "**Reloading data**"
   ]
  },
  {
   "cell_type": "code",
   "execution_count": 5,
   "id": "e720271f-e725-447d-951c-0050762e7cea",
   "metadata": {},
   "outputs": [
    {
     "name": "stdout",
     "output_type": "stream",
     "text": [
      "Flushed database: Deleted 475 nodes, deleted 297 relationships, completed after 3 ms.\n",
      "Load scenario: Added 171 labels, created 171 nodes, set 564 properties, created 253 relationships, completed after 0 ms.\n"
     ]
    }
   ],
   "source": [
    "from dtgraph.scenarios.movies import Movies\n",
    "Movies.load(graph)"
   ]
  },
  {
   "cell_type": "markdown",
   "id": "fe966a92-e5b7-43d2-8374-688292ca11d5",
   "metadata": {},
   "source": [
    "## Understandability of Property graph transformations\n",
    "\n",
    "Let us consider the following transformation rules:"
   ]
  },
  {
   "cell_type": "code",
   "execution_count": 6,
   "id": "0db98973-67ca-4cd6-9f35-bc696b0b4169",
   "metadata": {},
   "outputs": [],
   "source": [
    "generate_Actors = Rule('''\n",
    "    MATCH (n:Person)-[:ACTED_IN]->(:Movie)\n",
    "    GENERATE \n",
    "    ((n):Actor {name = n.name, born = n.born})\n",
    "''')\n",
    "generate_Directors = Rule('''\n",
    "    MATCH (n:Person)-[:DIRECTED]->(:Movie)\n",
    "    GENERATE\n",
    "    ((n):Director {name = n.name, born = n.born})\n",
    "''')"
   ]
  },
  {
   "cell_type": "code",
   "execution_count": 7,
   "id": "009355d8-a3d1-4dbf-91f5-0b2cbe1848e2",
   "metadata": {},
   "outputs": [
    {
     "name": "stdout",
     "output_type": "stream",
     "text": [
      "Index: Added 0 index, completed after 2 ms.\n",
      "Rule: Added 204 labels, created 102 nodes, set 446 properties, created 0 relationships, completed after 14 ms.\n",
      "Rule: Added 51 labels, created 23 nodes, set 111 properties, created 0 relationships, completed after 5 ms.\n"
     ]
    },
    {
     "data": {
      "text/plain": [
       "19"
      ]
     },
     "execution_count": 7,
     "metadata": {},
     "output_type": "execute_result"
    }
   ],
   "source": [
    "transform = Transformation([generate_Actors, generate_Directors])\n",
    "transform.apply_on(graph)"
   ]
  },
  {
   "cell_type": "markdown",
   "id": "4468d948-e229-4af0-9162-d76e573e390f",
   "metadata": {},
   "source": [
    "Could you explain the output? Specifically:\n",
    "* **(Question 5)** Does this transformation generate as many `Director` nodes as there are `Person` nodes that have an outgoing relationship of type `DIRECTED` to a `Movie` node?\n",
    "* **(Question 6)** Does this transformation generate nodes with both a `Director` and an `Actor` labels?"
   ]
  },
  {
   "cell_type": "markdown",
   "id": "a27db6ea-3641-4613-94a6-ce7a3255895c",
   "metadata": {},
   "source": [
    "We now add a new rule to this transformation:"
   ]
  },
  {
   "cell_type": "code",
   "execution_count": 8,
   "id": "a26d5d79-e15b-48b9-bd8f-ef458c3371ac",
   "metadata": {},
   "outputs": [],
   "source": [
    "generate_Connections = Rule('''\n",
    "    MATCH (n:Person)-[:DIRECTED]->(m:Movie)\n",
    "    GENERATE\n",
    "    ((n):Director {name = n.name, born = n.born})-[():DIRECTOR_OF]->((m):Film {title = m.title})\n",
    "''')"
   ]
  },
  {
   "cell_type": "code",
   "execution_count": 9,
   "id": "c9edbcb1-b7b6-41f2-a76b-0baab086b246",
   "metadata": {},
   "outputs": [
    {
     "name": "stdout",
     "output_type": "stream",
     "text": [
      "Rule: Added 76 labels, created 38 nodes, set 214 properties, created 44 relationships, completed after 11 ms.\n"
     ]
    }
   ],
   "source": [
    "transform.add(generate_Connections)"
   ]
  },
  {
   "cell_type": "markdown",
   "id": "ab162eab-3b21-4ef4-92b8-c125a202a9da",
   "metadata": {},
   "source": [
    "* **(Question 7)** Executed after the previous two queries, does this one create new `Director` nodes?\n",
    "* **(Question 8)** Will two persons having co-directed the same movie be connected to the same `Film` node?"
   ]
  },
  {
   "cell_type": "markdown",
   "id": "cb6e1584-7cec-4fe6-a007-35f0638133de",
   "metadata": {},
   "source": [
    "**Reloading data**"
   ]
  },
  {
   "cell_type": "code",
   "execution_count": 10,
   "id": "2af7b5b9-1c82-40cf-ae4b-672069cc4c61",
   "metadata": {},
   "outputs": [
    {
     "name": "stdout",
     "output_type": "stream",
     "text": [
      "Flushed database: Deleted 334 nodes, deleted 297 relationships, completed after 2 ms.\n",
      "Load scenario: Added 171 labels, created 171 nodes, set 564 properties, created 253 relationships, completed after 0 ms.\n"
     ]
    }
   ],
   "source": [
    "from dtgraph.scenarios.movies import Movies\n",
    "Movies.load(graph)"
   ]
  },
  {
   "cell_type": "markdown",
   "id": "3ffeb006-a0d4-4c9c-b201-52328bda7380",
   "metadata": {},
   "source": [
    "## Handwritten openCypher scripts\n",
    "\n",
    "Please, produce a single openCypher script producing the same output as the previous $3$-rule transformation."
   ]
  },
  {
   "cell_type": "code",
   "execution_count": 11,
   "id": "c75c78f6-5afd-446f-b66e-794a63c2a191",
   "metadata": {},
   "outputs": [],
   "source": [
    "# write a single openCypher query\n",
    "\n",
    "\n",
    "\n",
    "\n",
    "\n",
    "\n",
    "\n"
   ]
  },
  {
   "cell_type": "markdown",
   "id": "1c03c942-07ce-4eea-97dd-45b964be3de4",
   "metadata": {},
   "source": [
    "## Converting openCypher scripts into a Property graph transformation\n",
    "\n",
    "Please, produce a property graph transformation that is equivalent to executing the three previous openCypher queries in same order."
   ]
  },
  {
   "cell_type": "code",
   "execution_count": 12,
   "id": "1751b033-90eb-45e1-adc8-d3137e6138ce",
   "metadata": {},
   "outputs": [],
   "source": [
    "# write a single transformation that may have multiple rules\n",
    "\n",
    "\n",
    "\n",
    "\n",
    "\n",
    "\n",
    "\n"
   ]
  },
  {
   "cell_type": "markdown",
   "id": "701c396e-4670-4b9c-83ee-44f2dfb821f4",
   "metadata": {},
   "source": [
    "## Dealing with ambiguities in openCypher and with Property graph transformations\n",
    "\n",
    "Let us consider the following openCypher script and the following transformation rule which are almost equivalent:"
   ]
  },
  {
   "cell_type": "code",
   "execution_count": 13,
   "id": "26f8b3c8-90f3-4745-9378-b011323761d9",
   "metadata": {},
   "outputs": [
    {
     "data": {
      "text/plain": [
       "(0, 0)"
      ]
     },
     "execution_count": 13,
     "metadata": {},
     "output_type": "execute_result"
    }
   ],
   "source": [
    "graph.query('''\n",
    "MATCH (n:Person)-[:DIRECTED]->(m:Movie)<-[:DIRECTED]-(o:Person) \n",
    "MERGE (x:Director {name: n.name, born: n.born})\n",
    "MERGE (y:Director {name: o.name, born: o.born})\n",
    "MERGE (x)-[d:COLLEAGUE]->(y)\n",
    "SET d.movie = m.title''')"
   ]
  },
  {
   "cell_type": "markdown",
   "id": "34f0ebf4-c2f9-47b4-acdb-41a38386ca96",
   "metadata": {},
   "source": [
    "**Reloading data**"
   ]
  },
  {
   "cell_type": "code",
   "execution_count": 14,
   "id": "e27376e3-bda2-4f75-9dfa-ba3a1a7f5584",
   "metadata": {},
   "outputs": [
    {
     "name": "stdout",
     "output_type": "stream",
     "text": [
      "Flushed database: Deleted 174 nodes, deleted 259 relationships, completed after 1 ms.\n",
      "Load scenario: Added 171 labels, created 171 nodes, set 564 properties, created 253 relationships, completed after 1 ms.\n"
     ]
    }
   ],
   "source": [
    "from dtgraph.scenarios.movies import Movies\n",
    "Movies.load(graph)"
   ]
  },
  {
   "cell_type": "code",
   "execution_count": 15,
   "id": "a1392db7-4a6e-4e40-bb3e-efb9bfc69f0e",
   "metadata": {},
   "outputs": [
    {
     "name": "stdout",
     "output_type": "stream",
     "text": [
      "Index: Added 0 index, completed after 1 ms.\n",
      "Rule: Added 9 labels, created 3 nodes, set 87 properties, created 6 relationships, completed after 14 ms.\n"
     ]
    },
    {
     "data": {
      "text/plain": [
       "14"
      ]
     },
     "execution_count": 15,
     "metadata": {},
     "output_type": "execute_result"
    }
   ],
   "source": [
    "generate_colleagues = Rule('''\n",
    "MATCH (n:Person)-[:DIRECTED]->(m:Movie)<-[:DIRECTED]-(o:Person)\n",
    "GENERATE (x = (n):Director {name = n.name, born = n.born})-[():COLLEAGUE { movie = m.title }]->(y = (o):Director {name = n.name, born = n.born})''')\n",
    "transform = Transformation([generate_colleagues])\n",
    "transform.apply_on(graph)"
   ]
  },
  {
   "cell_type": "markdown",
   "id": "defd13a0-439e-4481-82db-a1405468a524",
   "metadata": {},
   "source": [
    "* The value of the *movie* attribute of the `COLLEAGUE` relationships may not be well-defined.\n",
    "  How would you modify both the script and the transformation to account for this? (*Hint:* you want to have as many relationships as there are possible values for it.)"
   ]
  },
  {
   "cell_type": "code",
   "execution_count": 16,
   "id": "eb981eb2-61bd-4b95-a8f5-4a5691e747a1",
   "metadata": {},
   "outputs": [],
   "source": [
    "# write the correct version of the openCypher query\n",
    "\n",
    "\n",
    "\n",
    "\n",
    "\n",
    "\n",
    "\n"
   ]
  },
  {
   "cell_type": "code",
   "execution_count": 17,
   "id": "fdcbe252-e58a-4a37-b65f-1ff9492b6353",
   "metadata": {},
   "outputs": [],
   "source": [
    "# write the correct version of the transformation\n",
    "\n",
    "\n",
    "\n",
    "\n",
    "\n",
    "\n",
    "\n"
   ]
  },
  {
   "cell_type": "markdown",
   "id": "e1f6e3b7-9434-48f5-a688-40def86b754f",
   "metadata": {},
   "source": [
    "* Can you adapt your two solutions to the case where the conflicting attribute is not stored, but you still want to create as many `COLLEAGUE` relationships as there are films that both `DIRECTORS` co-directed together ?"
   ]
  },
  {
   "cell_type": "code",
   "execution_count": 18,
   "id": "61f1cda4-f5cf-4cfa-9d4a-7f7ee7c1f6f3",
   "metadata": {},
   "outputs": [],
   "source": [
    "# write the updated version of the openCypher query\n",
    "\n",
    "\n",
    "\n",
    "\n",
    "\n",
    "\n",
    "\n"
   ]
  },
  {
   "cell_type": "code",
   "execution_count": 19,
   "id": "2c818cb3-25d2-4cf9-a184-97ff6b3df021",
   "metadata": {},
   "outputs": [],
   "source": [
    "# write the updated version of the transformation\n",
    "\n",
    "\n",
    "\n",
    "\n",
    "\n",
    "\n",
    "\n"
   ]
  },
  {
   "cell_type": "code",
   "execution_count": null,
   "id": "dcebf2b7-27cd-48db-8654-d124664f7688",
   "metadata": {},
   "outputs": [],
   "source": []
  }
 ],
 "metadata": {
  "kernelspec": {
   "display_name": "Python 3 (ipykernel)",
   "language": "python",
   "name": "python3"
  },
  "language_info": {
   "codemirror_mode": {
    "name": "ipython",
    "version": 3
   },
   "file_extension": ".py",
   "mimetype": "text/x-python",
   "name": "python",
   "nbconvert_exporter": "python",
   "pygments_lexer": "ipython3",
   "version": "3.11.6"
  }
 },
 "nbformat": 4,
 "nbformat_minor": 5
}
