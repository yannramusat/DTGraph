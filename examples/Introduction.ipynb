{
 "cells": [
  {
   "cell_type": "markdown",
   "id": "dc0490c5-ff27-4d90-bdb6-be3a56fa625b",
   "metadata": {},
   "source": [
    "# DTGraph Introduction\n",
    "\n",
    "This notebook consists of simple examples of usage of the library.\n",
    "\n",
    "## Part 1: Establishing a connection"
   ]
  },
  {
   "cell_type": "code",
   "execution_count": 1,
   "id": "98851c91-f3bb-44c3-81c4-d882871bbb43",
   "metadata": {},
   "outputs": [],
   "source": [
    "from dtgraph import Neo4jGraph, Rule"
   ]
  },
  {
   "cell_type": "markdown",
   "id": "fc227eba-82be-43bb-b30c-80c4397d9ad9",
   "metadata": {},
   "source": [
    "In the following we will connect to a [Neo4j Sandbox](https://sandbox.neo4j.com/).\n",
    "After having created your instance, you can retrieve the *ip address* and the *password* (e.g., in my case, those are  `54.159.136.111` and `analyzer-information-tails`)."
   ]
  },
  {
   "cell_type": "code",
   "execution_count": 2,
   "id": "5155ec95-8af2-4bf3-b226-73e260027ac1",
   "metadata": {},
   "outputs": [],
   "source": [
    "hostname = \"54.159.136.111\"\n",
    "password = \"analyzer-information-tails\""
   ]
  },
  {
   "cell_type": "code",
   "execution_count": 7,
   "id": "5da0fc46-969b-4746-ad05-cfb073579ee9",
   "metadata": {},
   "outputs": [],
   "source": [
    "uri = f\"bolt://{hostname}:7687\"\n",
    "graph = Neo4jGraph(uri, \"neo4j\", username=\"neo4j\", password=password, verbose=True)"
   ]
  },
  {
   "cell_type": "markdown",
   "id": "de411f63-f51a-47a0-9275-e7680b9a356a",
   "metadata": {},
   "source": [
    "You can check that it has some content if you specified the Movie dataset:"
   ]
  },
  {
   "cell_type": "code",
   "execution_count": 8,
   "id": "27e9d744-23fb-49b9-8e2f-88f5836162de",
   "metadata": {},
   "outputs": [
    {
     "name": "stdout",
     "output_type": "stream",
     "text": [
      "The query `\n",
      "        MATCH (n)\n",
      "        RETURN COUNT(n) as count\n",
      "        ` returned 1 records in 46 ms.\n",
      "Out:    There is currently 171 node(s) in the database.\n"
     ]
    }
   ],
   "source": [
    "graph.output_all_nodes()"
   ]
  },
  {
   "cell_type": "markdown",
   "id": "c43a7e6a-27d4-4e3f-b6c9-c93b4994eaa1",
   "metadata": {},
   "source": [
    "Then you can write your own transformation:"
   ]
  },
  {
   "cell_type": "code",
   "execution_count": 9,
   "id": "192eab83-19f2-46df-b0dc-000a2f3272fe",
   "metadata": {},
   "outputs": [],
   "source": [
    "my_query = Rule.from_ascii('''\n",
    "        MATCH (n:Person)-[:ACTED_IN]->(m:Movie)<-[:ACTED_IN]-(o:Person)\n",
    "        => \n",
    "        (x = (n) : Actor {\n",
    "            name = n.name,\n",
    "            born = n.born\n",
    "        })-[(m) : COLLEAGUE {\n",
    "            movie = m.title\n",
    "        }]->(y = (o) : Actor {\n",
    "            name = o.name,\n",
    "            born = o.born\n",
    "        })\n",
    "''')"
   ]
  },
  {
   "cell_type": "markdown",
   "id": "7ab0303b-8fc7-464a-8e23-56c20749b111",
   "metadata": {},
   "source": [
    "And execute it:"
   ]
  },
  {
   "cell_type": "code",
   "execution_count": 10,
   "id": "8e5986b4-4943-43b3-933a-aa44fb6739c5",
   "metadata": {},
   "outputs": [
    {
     "name": "stdout",
     "output_type": "stream",
     "text": [
      "The query `MATCH (n:Person)-[:ACTED_IN]->(m:Movie)<-[:ACTED_IN]-(o:Person)\n",
      "MERGE (x:_dummy {\n",
      "    _id: \"(\" + elementID(n) + \")\" \n",
      "})\n",
      "ON CREATE\n",
      "    SET x:Actor,\n",
      "        x.name = n.name,\n",
      "        x.born = n.born\n",
      "ON MATCH\n",
      "    SET x:Actor,\n",
      "        x.name = \n",
      "        CASE\n",
      "            WHEN x.name <> n.name THEN\n",
      "                \"Conflict Detected!\"\n",
      "            ELSE\n",
      "                n.name\n",
      "        END,\n",
      "        x.born = \n",
      "        CASE\n",
      "            WHEN x.born <> n.born THEN\n",
      "                \"Conflict Detected!\"\n",
      "            ELSE\n",
      "                n.born\n",
      "        END\n",
      "MERGE (y:_dummy {\n",
      "    _id: \"(\" + elementID(o) + \")\" \n",
      "})\n",
      "ON CREATE\n",
      "    SET y:Actor,\n",
      "        y.name = o.name,\n",
      "        y.born = o.born\n",
      "ON MATCH\n",
      "    SET y:Actor,\n",
      "        y.name = \n",
      "        CASE\n",
      "            WHEN y.name <> o.name THEN\n",
      "                \"Conflict Detected!\"\n",
      "            ELSE\n",
      "                o.name\n",
      "        END,\n",
      "        y.born = \n",
      "        CASE\n",
      "            WHEN y.born <> o.born THEN\n",
      "                \"Conflict Detected!\"\n",
      "            ELSE\n",
      "                o.born\n",
      "        END\n",
      "MERGE (x)-[x_2:COLLEAGUE {\n",
      "    _id: \"(\" + \":COLLEAGUE:\" + \",\" + elementID(m) + \",\" + elementID(x) + \",\" + elementID(y) + \")\" \n",
      "}]->(y)\n",
      "ON CREATE\n",
      "    SET x_2.movie = m.title\n",
      "ON MATCH\n",
      "    SET x_2.movie = \n",
      "        CASE\n",
      "            WHEN x_2.movie <> m.title THEN\n",
      "                \"Conflict Detected!\"\n",
      "            ELSE\n",
      "                m.title\n",
      "        END\n",
      "` returned 0 records in 2474 ms.\n",
      "Query:  Added 204 labels, created 102 nodes, set 4710 properties, created 768 relationships, completed after 2474 ms.\n"
     ]
    },
    {
     "data": {
      "text/plain": [
       "2474"
      ]
     },
     "execution_count": 10,
     "metadata": {},
     "output_type": "execute_result"
    }
   ],
   "source": [
    "my_query.apply_on(graph)"
   ]
  },
  {
   "cell_type": "markdown",
   "id": "680ffb87-1207-4714-9288-54033308de47",
   "metadata": {},
   "source": [
    "Yay, 102 nodes and 204 labels have been created! You can check with the following query on your Neo4j browser the result (alongside the initial dataset, for now):\n",
    "```\n",
    "MATCH (n)\n",
    "RETURN n\n",
    "```"
   ]
  },
  {
   "cell_type": "code",
   "execution_count": null,
   "id": "6b9ba3a9-b98a-4043-9957-98b79a049190",
   "metadata": {},
   "outputs": [],
   "source": []
  }
 ],
 "metadata": {
  "kernelspec": {
   "display_name": "Python 3 (ipykernel)",
   "language": "python",
   "name": "python3"
  },
  "language_info": {
   "codemirror_mode": {
    "name": "ipython",
    "version": 3
   },
   "file_extension": ".py",
   "mimetype": "text/x-python",
   "name": "python",
   "nbconvert_exporter": "python",
   "pygments_lexer": "ipython3",
   "version": "3.11.6"
  }
 },
 "nbformat": 4,
 "nbformat_minor": 5
}
