{
 "cells": [
  {
   "cell_type": "markdown",
   "id": "23994695-4620-46fa-a638-270366b9f141",
   "metadata": {},
   "source": [
    "# Demo: iBench PersonAddress\n",
    "\n",
    "In the following, we will connect to a [Neo4j Community Edition](https://neo4j.com/product/neo4j-graph-database/) instance running inside a Docker container.\n",
    "You can type \n",
    "```\n",
    "sudo docker run --name neo4jDemo -p 7687:7687 -p 7474:7474 -v ~/research/DTGraph/output-ibench-data:/var/lib/neo4j/import --env=NEO4J_AUTH=none neo4j:5.16.0-community\n",
    "``` \n",
    "to install and run a Neo4j Community Edition locally. (Of course you need to have [Docker](https://docs.docker.com/engine/install/) already installed on your system.) You should then be able to access [Neo4j browser](http://localhost:7474/browser/) running locally on your computer.\n",
    "\n",
    "You need to replace `~/research/DTGraph` with the DTGraph's installation path on your computer. We need to mount the volume on the Docker instance to run the import scripts.\n",
    "\n",
    "*Note:* We have specifically tested the compatibility of this framework with Neo4j Community Edition 5.16.0, which was the latest versions by the time of writting this guide. "
   ]
  },
  {
   "cell_type": "code",
   "execution_count": 1,
   "id": "4cf919f3-5b9e-4b57-b521-897f38705e0d",
   "metadata": {},
   "outputs": [],
   "source": [
    "from dtgraph import Neo4jGraph, Rule, Transformation\n",
    "hostname = \"localhost\"\n",
    "password = \"\"\n",
    "uri = f\"bolt://{hostname}:7687\"\n",
    "graph = Neo4jGraph(uri, database=\"neo4j\", username=\"\", password=password)"
   ]
  },
  {
   "cell_type": "markdown",
   "id": "5592ed99-c8ac-494f-87b0-b161834acc99",
   "metadata": {},
   "source": [
    "For this tutorial, we will use the [PersonAddress](https://github.com/yannramusat/TPG/tree/main/input-ibench-config/personaddress) data integration scenario from [iBench](https://github.com/RJMillerLab/ibench), which can be loaded into the database using the following command."
   ]
  },
  {
   "cell_type": "code",
   "execution_count": 2,
   "id": "d9bb5d6a-e892-4846-aa85-6d575aefd361",
   "metadata": {},
   "outputs": [
    {
     "name": "stdout",
     "output_type": "stream",
     "text": [
      "Flushed database: Deleted 4000 nodes, deleted 1000 relationships, completed after 59 ms.\n",
      "CSV:    Added 1000 labels, created 1000 nodes, set 2000 properties, created 0 relationships, completed after 169 ms.\n",
      "CSV:    Added 1000 labels, created 1000 nodes, set 2000 properties, created 0 relationships, completed after 175 ms.\n"
     ]
    }
   ],
   "source": [
    "from dtgraph.scenarios.ibench_personaddress import iBenchPersonAddress\n",
    "iBenchPersonAddress.load(graph, size = 1_000)"
   ]
  },
  {
   "cell_type": "code",
   "execution_count": 3,
   "id": "8d1cb066-ab85-4741-b9f5-140f2943d808",
   "metadata": {},
   "outputs": [],
   "source": [
    "rule1 = Rule('''\n",
    "MATCH (a:Address)\n",
    "GENERATE\n",
    "(x = (a.zip, a.city):Person2 {\n",
    "    address = a.zip\n",
    "})-[():LIVES_AT]->(y = (a):Address2 {\n",
    "    zip = a.zip,\n",
    "    city = a.city\n",
    "})\n",
    "''')\n",
    "# rule#2 using our framework\n",
    "rule2 = Rule('''\n",
    "MATCH (p:Person)\n",
    "MATCH (a:Address)\n",
    "WHERE p.address = a.zip\n",
    "GENERATE\n",
    "(x = (p):Person2 {\n",
    "    name = p.name,\n",
    "    address = p.address\n",
    "})-[():LIVES_AT]->(y = (a):Address2 {\n",
    "    zip = a.zip,\n",
    "    city = a.city\n",
    "})\n",
    "''')"
   ]
  },
  {
   "cell_type": "code",
   "execution_count": 4,
   "id": "6384ed25-e658-4ae6-8935-dc7cd1307625",
   "metadata": {},
   "outputs": [
    {
     "name": "stdout",
     "output_type": "stream",
     "text": [
      "Index: Added 0 index, completed after 1 ms.\n",
      "Rule: Added 4000 labels, created 2000 nodes, set 6000 properties, created 1000 relationships, completed after 120 ms.\n",
      "Rule: Added 2000 labels, created 1000 nodes, set 6000 properties, created 1000 relationships, completed after 313 ms.\n"
     ]
    },
    {
     "data": {
      "text/plain": [
       "433"
      ]
     },
     "execution_count": 4,
     "metadata": {},
     "output_type": "execute_result"
    }
   ],
   "source": [
    "pa_transform = Transformation([rule1, rule2], with_diagnose = False)\n",
    "pa_transform.apply_on(graph)"
   ]
  },
  {
   "cell_type": "code",
   "execution_count": null,
   "id": "d98c42c4-e522-4921-9f3f-4997d192da72",
   "metadata": {},
   "outputs": [],
   "source": []
  }
 ],
 "metadata": {
  "kernelspec": {
   "display_name": "Python 3 (ipykernel)",
   "language": "python",
   "name": "python3"
  },
  "language_info": {
   "codemirror_mode": {
    "name": "ipython",
    "version": 3
   },
   "file_extension": ".py",
   "mimetype": "text/x-python",
   "name": "python",
   "nbconvert_exporter": "python",
   "pygments_lexer": "ipython3",
   "version": "3.11.6"
  }
 },
 "nbformat": 4,
 "nbformat_minor": 5
}
