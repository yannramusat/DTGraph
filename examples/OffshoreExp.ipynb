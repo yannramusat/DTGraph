{
 "cells": [
  {
   "cell_type": "markdown",
   "id": "27568cf6-a63c-42e7-b591-b034f915ead4",
   "metadata": {},
   "source": [
    "# ICIJ Offshore leaks dataset"
   ]
  },
  {
   "cell_type": "code",
   "execution_count": 1,
   "id": "2ece2b47-74c8-445a-bf18-957da6b8c4a6",
   "metadata": {},
   "outputs": [],
   "source": [
    "from dtgraph import Neo4jGraph, Rule, Transformation\n",
    "hostname = \"localhost\"\n",
    "uri = f\"bolt://{hostname}:7687\"\n",
    "graph = Neo4jGraph(uri, database=\"neo4j\", username=\"\", password=\"\")"
   ]
  },
  {
   "cell_type": "code",
   "execution_count": 2,
   "id": "c3639061-69d9-4cf6-8a87-6cfdf2e8595f",
   "metadata": {},
   "outputs": [],
   "source": [
    "panama_address_to_movies = Rule('''\n",
    "MATCH (a:Address { sourceID: \"Paradise Papers - Malta corporate registry\" }) \n",
    "WHERE a.country_code IS NOT NULL\n",
    "GENERATE \n",
    "(x = (a):T_Address {\n",
    "    source = a.sourceID\n",
    "})-[():T_LOCATED]->(y = (a.country_code):T_Country {\n",
    "    name = a.country\n",
    "})\n",
    "''')"
   ]
  },
  {
   "cell_type": "code",
   "execution_count": 3,
   "id": "2962bd86-d664-4a67-a42f-4ac7b07565ac",
   "metadata": {},
   "outputs": [
    {
     "name": "stdout",
     "output_type": "stream",
     "text": [
      "Index: Added 0 index, completed after 1 ms.\n",
      "Rule: Added 246866 labels, created 123433 nodes, set 493153 properties, created 123240 relationships, completed after 3141 ms.\n",
      "MATCH (a:Address { sourceID: \"Paradise Papers - Malta corporate registry\" }) \n",
      "WHERE a.country_code IS NOT NULL\n",
      "MERGE (x:_dummy {\n",
      "    _id: \"(\" + elementID(a) + \")\" \n",
      "})\n",
      "ON CREATE\n",
      "    SET x:T_Address,\n",
      "        x.source = a.sourceID\n",
      "ON MATCH\n",
      "    SET x:T_Address,\n",
      "        x.source = \n",
      "        CASE\n",
      "            WHEN x.source <> a.sourceID THEN\n",
      "                \"Conflict Detected!\"\n",
      "            ELSE\n",
      "                a.sourceID\n",
      "        END\n",
      "MERGE (y:_dummy {\n",
      "    _id: \"(\" + a.country_code + \")\" \n",
      "})\n",
      "ON CREATE\n",
      "    SET y:T_Country,\n",
      "        y.name = a.country\n",
      "ON MATCH\n",
      "    SET y:T_Country,\n",
      "        y.name = \n",
      "        CASE\n",
      "            WHEN y.name <> a.country THEN\n",
      "                \"Conflict Detected!\"\n",
      "            ELSE\n",
      "                a.country\n",
      "        END\n",
      "MERGE (x)-[x_2:T_LOCATED {\n",
      "    _id: \"(\" + \":T_LOCATED:\" + \",\" + elementID(x) + \",\" + elementID(y) + \")\" \n",
      "}]->(y)\n",
      "\n"
     ]
    }
   ],
   "source": [
    "my_transform = Transformation([panama_address_to_movies], with_diagnose = False)\n",
    "for _ in range(5):\n",
    "    my_transform.apply_on(graph)\n",
    "    my_transform.abort()"
   ]
  },
  {
   "cell_type": "code",
   "execution_count": 4,
   "id": "e77e5ce7-82bc-4177-b0ce-492e2d476094",
   "metadata": {},
   "outputs": [
    {
     "name": "stdout",
     "output_type": "stream",
     "text": [
      "Index: Removed 1 index, completed after 2 ms.\n",
      "Abort: Deleted 123433 nodes, deleted 123240 relationships, completed after 781 ms.\n"
     ]
    }
   ],
   "source": []
  },
  {
   "cell_type": "code",
   "execution_count": null,
   "id": "a94ccdb7-666d-47d2-8a96-7be6d7a2a2c4",
   "metadata": {},
   "outputs": [],
   "source": []
  }
 ],
 "metadata": {
  "kernelspec": {
   "display_name": "Python 3 (ipykernel)",
   "language": "python",
   "name": "python3"
  },
  "language_info": {
   "codemirror_mode": {
    "name": "ipython",
    "version": 3
   },
   "file_extension": ".py",
   "mimetype": "text/x-python",
   "name": "python",
   "nbconvert_exporter": "python",
   "pygments_lexer": "ipython3",
   "version": "3.11.6"
  }
 },
 "nbformat": 4,
 "nbformat_minor": 5
}
