{
 "cells": [
  {
   "cell_type": "markdown",
   "id": "27568cf6-a63c-42e7-b591-b034f915ead4",
   "metadata": {},
   "source": [
    "# ICIJ Offshore Leaks Database"
   ]
  },
  {
   "cell_type": "code",
   "execution_count": 1,
   "id": "2ece2b47-74c8-445a-bf18-957da6b8c4a6",
   "metadata": {},
   "outputs": [],
   "source": [
    "from dtgraph import Neo4jGraph, Rule, Transformation\n",
    "hostname = \"localhost\"\n",
    "uri = f\"bolt://{hostname}:7687\"\n",
    "graph = Neo4jGraph(uri, database=\"neo4j\", username=\"\", password=\"\")"
   ]
  },
  {
   "cell_type": "markdown",
   "id": "b5896983-5e95-41c0-a383-2b58831985f9",
   "metadata": {},
   "source": [
    "## Experiment 1: Single rule refactoring"
   ]
  },
  {
   "cell_type": "code",
   "execution_count": 2,
   "id": "c3639061-69d9-4cf6-8a87-6cfdf2e8595f",
   "metadata": {},
   "outputs": [],
   "source": [
    "panama_address_to_global = Rule('''\n",
    "MATCH (a:Address { sourceID: \"Paradise Papers - Malta corporate registry\" }) \n",
    "WHERE a.country_code IS NOT NULL\n",
    "GENERATE \n",
    "(x = (a):T_Address {\n",
    "    source = a.sourceID\n",
    "})-[():T_LOCATED]->(y = (a.country_code):T_Country {\n",
    "    name = a.country\n",
    "})\n",
    "''')"
   ]
  },
  {
   "cell_type": "code",
   "execution_count": 3,
   "id": "e02cced2-1ec4-4e98-9477-4c29a2fcc8c8",
   "metadata": {},
   "outputs": [],
   "source": [
    "#panama_address_to_global._compile(with_diagnose=False)\n",
    "#print(panama_address_to_global._compiled)"
   ]
  },
  {
   "cell_type": "code",
   "execution_count": 4,
   "id": "2962bd86-d664-4a67-a42f-4ac7b07565ac",
   "metadata": {},
   "outputs": [
    {
     "name": "stdout",
     "output_type": "stream",
     "text": [
      "Iteration i=0:\n",
      "Index: Added 0 index, completed after 0 ms.\n",
      "Rule: Added 246866 labels, created 123433 nodes, set 493153 properties, created 123240 relationships, completed after 3438 ms.\n",
      "Abort: Deleted 123433 nodes, deleted 123240 relationships, completed after 1035 ms.\n",
      "Iteration i=1:\n",
      "Index: Added 0 index, completed after 0 ms.\n",
      "Rule: Added 246866 labels, created 123433 nodes, set 493153 properties, created 123240 relationships, completed after 3974 ms.\n",
      "Abort: Deleted 123433 nodes, deleted 123240 relationships, completed after 907 ms.\n",
      "Iteration i=2:\n",
      "Index: Added 0 index, completed after 0 ms.\n",
      "Rule: Added 246866 labels, created 123433 nodes, set 493153 properties, created 123240 relationships, completed after 3802 ms.\n",
      "Abort: Deleted 123433 nodes, deleted 123240 relationships, completed after 680 ms.\n"
     ]
    }
   ],
   "source": [
    "my_transform = Transformation([panama_address_to_global], with_diagnose = False) # no need for diagnose's specific functionalities in VLDB exp.\n",
    "for i in range(3):\n",
    "    print(f\"Iteration {i=}:\")\n",
    "    my_transform.apply_on(graph)\n",
    "    my_transform.abort(keep_index = True) # Strange bug: indexes created with the Neo4j Python driver cannot be used in subsequent query plans"
   ]
  },
  {
   "cell_type": "code",
   "execution_count": null,
   "id": "e77e5ce7-82bc-4177-b0ce-492e2d476094",
   "metadata": {},
   "outputs": [],
   "source": []
  }
 ],
 "metadata": {
  "kernelspec": {
   "display_name": "Python 3 (ipykernel)",
   "language": "python",
   "name": "python3"
  },
  "language_info": {
   "codemirror_mode": {
    "name": "ipython",
    "version": 3
   },
   "file_extension": ".py",
   "mimetype": "text/x-python",
   "name": "python",
   "nbconvert_exporter": "python",
   "pygments_lexer": "ipython3",
   "version": "3.11.6"
  }
 },
 "nbformat": 4,
 "nbformat_minor": 5
}
