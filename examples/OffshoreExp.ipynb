{
 "cells": [
  {
   "cell_type": "markdown",
   "id": "27568cf6-a63c-42e7-b591-b034f915ead4",
   "metadata": {},
   "source": [
    "# ICIJ Offshore Leaks Database"
   ]
  },
  {
   "cell_type": "code",
   "execution_count": 1,
   "id": "2ece2b47-74c8-445a-bf18-957da6b8c4a6",
   "metadata": {},
   "outputs": [],
   "source": [
    "from dtgraph import Neo4jGraph, Rule, Transformation\n",
    "hostname = \"localhost\"\n",
    "uri = f\"bolt://{hostname}:7687\"\n",
    "graph = Neo4jGraph(uri, database=\"neo4j\", username=\"\", password=\"\")"
   ]
  },
  {
   "cell_type": "markdown",
   "id": "b5896983-5e95-41c0-a383-2b58831985f9",
   "metadata": {},
   "source": [
    "## Experiment 1: Single rule refactoring\n",
    "Motivate the rule. [TODO]\n",
    "### Transformation rule\n",
    "We look at the execution time of the transformation rule:"
   ]
  },
  {
   "cell_type": "code",
   "execution_count": 2,
   "id": "c3639061-69d9-4cf6-8a87-6cfdf2e8595f",
   "metadata": {},
   "outputs": [],
   "source": [
    "panama_address_to_global = Rule('''\n",
    "MATCH (a:Address { sourceID: \"Paradise Papers - Malta corporate registry\" }) \n",
    "WHERE a.country_code IS NOT NULL\n",
    "GENERATE \n",
    "(x = (a):T_Address {\n",
    "    source = a.sourceID\n",
    "})-[():T_LOCATED]->(y = (a.country_code):T_Country {\n",
    "    name = a.country\n",
    "})\n",
    "''')"
   ]
  },
  {
   "cell_type": "code",
   "execution_count": 3,
   "id": "e02cced2-1ec4-4e98-9477-4c29a2fcc8c8",
   "metadata": {},
   "outputs": [],
   "source": [
    "#panama_address_to_global._compile(with_diagnose=False)\n",
    "#print(panama_address_to_global._compiled)"
   ]
  },
  {
   "cell_type": "code",
   "execution_count": 4,
   "id": "2962bd86-d664-4a67-a42f-4ac7b07565ac",
   "metadata": {},
   "outputs": [
    {
     "name": "stdout",
     "output_type": "stream",
     "text": [
      "Iteration i=0:\n",
      "Index: Added 0 index, completed after 1 ms.\n",
      "Rule: Added 246866 labels, created 123433 nodes, set 493153 properties, created 123240 relationships, completed after 3443 ms.\n",
      "Abort: Deleted 123433 nodes, deleted 123240 relationships, completed after 797 ms.\n",
      "Iteration i=1:\n",
      "Index: Added 0 index, completed after 1 ms.\n",
      "Rule: Added 246866 labels, created 123433 nodes, set 493153 properties, created 123240 relationships, completed after 3222 ms.\n",
      "Abort: Deleted 123433 nodes, deleted 123240 relationships, completed after 804 ms.\n",
      "Average execution time: 3332.500 ms.\n"
     ]
    }
   ],
   "source": [
    "my_transform = Transformation([panama_address_to_global], with_diagnose = False) # no need for diagnose's specific functionalities for the VLDB exp.\n",
    "rep, tt = 2, 0\n",
    "for i in range(rep):\n",
    "    print(f\"Iteration {i=}:\")\n",
    "    tt += my_transform.apply_on(graph)\n",
    "    my_transform.abort(keep_index = True) # Strange bug: indexes created with the Neo4j Python driver cannot be used in subsequent query plans\n",
    "avg_time = tt/rep\n",
    "print(f\"Average execution time: {avg_time:.3f} ms.\")"
   ]
  },
  {
   "cell_type": "markdown",
   "id": "3e957d38-55b9-411b-942d-bf7321d7619a",
   "metadata": {},
   "source": [
    "### Input query\n",
    "We now look at the execution time and number of rows of the input query."
   ]
  },
  {
   "cell_type": "code",
   "execution_count": 5,
   "id": "26e0ccf7-72c9-48eb-98a3-0229800dc486",
   "metadata": {},
   "outputs": [
    {
     "name": "stdout",
     "output_type": "stream",
     "text": [
      "Execution time of the input rule: 890 ms.\n",
      "Size of intermediate data: 123240 rows.\n"
     ]
    }
   ],
   "source": [
    "panama_address_to_global_input_rule = '''\n",
    "MATCH (a:Address { sourceID: \"Paradise Papers - Malta corporate registry\" }) \n",
    "WHERE a.country_code IS NOT NULL\n",
    "RETURN a'''\n",
    "nb_rows, exec_time = graph.query(panama_address_to_global_input_rule)\n",
    "print(f\"Execution time of the input rule: {exec_time} ms.\")\n",
    "print(f\"Size of intermediate data: {nb_rows} rows.\")"
   ]
  },
  {
   "cell_type": "markdown",
   "id": "00b45291-bdda-4ad6-86d4-179a6ba00246",
   "metadata": {},
   "source": [
    "### Results\n",
    "\n",
    "Present the statistics and give number of conflicting elements on the output. [TODO]"
   ]
  },
  {
   "cell_type": "code",
   "execution_count": 6,
   "id": "5c4bc0cf-8970-430c-8dcd-4a2ebca8802b",
   "metadata": {},
   "outputs": [
    {
     "name": "stdout",
     "output_type": "stream",
     "text": [
      "Rule: Added 246866 labels, created 123433 nodes, set 493153 properties, created 123240 relationships, completed after 3282 ms.\n",
      "Abort: Deleted 123433 nodes, deleted 123240 relationships, completed after 609 ms.\n"
     ]
    }
   ],
   "source": [
    "_, summary = panama_address_to_global.apply_on(graph)\n",
    "# clean output data \n",
    "my_transform._graph = graph\n",
    "my_transform.abort(keep_index = True)\n",
    "num_nodes = summary.counters.nodes_created\n",
    "num_rels = summary.counters.relationships_created"
   ]
  },
  {
   "cell_type": "code",
   "execution_count": 7,
   "id": "c3aeeed7-6997-4670-a6c4-e4ad01bb8cf3",
   "metadata": {},
   "outputs": [
    {
     "name": "stdout",
     "output_type": "stream",
     "text": [
      "Ratio between intermediate data and size of the output: 2.002\n",
      "Time to compute the intermediary results, per row: 0.007 ms.\n",
      "Time to construct the output, per element: 0.014 ms.\n"
     ]
    }
   ],
   "source": [
    "print(f\"Ratio between intermediate data and size of the output: {(num_nodes + num_rels) / nb_rows:.3f}\")\n",
    "print(f\"Time to compute the intermediary results, per row: {exec_time / nb_rows:.3f} ms.\")\n",
    "print(f\"Time to construct the output, per element: { avg_time / (num_nodes + num_rels):.3f} ms.\")"
   ]
  }
 ],
 "metadata": {
  "kernelspec": {
   "display_name": "Python 3 (ipykernel)",
   "language": "python",
   "name": "python3"
  },
  "language_info": {
   "codemirror_mode": {
    "name": "ipython",
    "version": 3
   },
   "file_extension": ".py",
   "mimetype": "text/x-python",
   "name": "python",
   "nbconvert_exporter": "python",
   "pygments_lexer": "ipython3",
   "version": "3.11.6"
  }
 },
 "nbformat": 4,
 "nbformat_minor": 5
}
