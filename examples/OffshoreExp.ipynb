{
 "cells": [
  {
   "cell_type": "markdown",
   "id": "27568cf6-a63c-42e7-b591-b034f915ead4",
   "metadata": {},
   "source": [
    "# ICIJ Offshore Leaks Database"
   ]
  },
  {
   "cell_type": "markdown",
   "id": "5a724452-447a-43b4-8e9a-4ed2caf89ea7",
   "metadata": {},
   "source": [
    "In the following we want to standardize the management of information related to countries stored in `Address` nodes.\n",
    "\n",
    "There are $374 955$ `Address` nodes in the dataset.\n",
    "\n",
    "The following Cypher query outputs the number of different leaks:\n",
    "```\n",
    "MATCH (a:Address)\n",
    "RETURN distinct a.sourceID\n",
    "```\n",
    "We see that there are $10$ different leaks: `[\"Bahamas Leaks\", \"Offshore Leaks\", \"Panama Papers\", \"Paradise Papers - Appleby\", \"Paradise Papers - Aruba corporate registry\", \"Paradise Papers - Bahamas corporate registry\", \"Paradise Papers - Barbados corporate registry\", \"Paradise Papers - Malta corporate registry\", \"Paradise Papers - Nevis corporate registry\", \"Paradise Papers - Samoa corporate registry\"]`"
   ]
  },
  {
   "cell_type": "code",
   "execution_count": 1,
   "id": "2ece2b47-74c8-445a-bf18-957da6b8c4a6",
   "metadata": {},
   "outputs": [],
   "source": [
    "from dtgraph import Neo4jGraph, Rule, Transformation\n",
    "hostname = \"localhost\"\n",
    "uri = f\"bolt://{hostname}:7687\"\n",
    "graph = Neo4jGraph(uri, database=\"neo4j\", username=\"\", password=\"\")"
   ]
  },
  {
   "cell_type": "markdown",
   "id": "1b326e7c-f9fa-4fad-9655-cf166652fa9b",
   "metadata": {},
   "source": [
    "## Experiment 1: Single rule refactoring\n",
    "We start with `Address` nodes with a `sourceID` of `Paradise Papers - Malta corporate registry`.\n",
    "\n",
    "These nodes store country information in both `country_code` and `country` attributes.\n",
    "### Transformation rule\n",
    "We look at the execution time of the transformation rule:"
   ]
  },
  {
   "cell_type": "code",
   "execution_count": 2,
   "id": "c3639061-69d9-4cf6-8a87-6cfdf2e8595f",
   "metadata": {},
   "outputs": [],
   "source": [
    "panama_malta_address_to_global = Rule('''\n",
    "MATCH (a:Address { sourceID: \"Paradise Papers - Malta corporate registry\" }) \n",
    "WHERE a.country_code IS NOT NULL\n",
    "GENERATE\n",
    "(x = (a):T_Address {\n",
    "    source = a.sourceID\n",
    "})-[():T_LOCATED]->(y = (a.country_code):T_Country {\n",
    "    name = a.country\n",
    "})\n",
    "''')"
   ]
  },
  {
   "cell_type": "code",
   "execution_count": 12,
   "id": "e02cced2-1ec4-4e98-9477-4c29a2fcc8c8",
   "metadata": {},
   "outputs": [],
   "source": [
    "#panama_address_to_global._compile(with_diagnose=False)\n",
    "#print(panama_address_to_global._compiled)"
   ]
  },
  {
   "cell_type": "code",
   "execution_count": 4,
   "id": "2962bd86-d664-4a67-a42f-4ac7b07565ac",
   "metadata": {},
   "outputs": [
    {
     "name": "stdout",
     "output_type": "stream",
     "text": [
      "Iteration i=0:\n",
      "Index: Added 0 index, completed after 0 ms.\n",
      "Rule: Added 246866 labels, created 123433 nodes, set 493153 properties, created 123240 relationships, completed after 3291 ms.\n",
      "Abort: Deleted 123433 nodes, deleted 123240 relationships, completed after 738 ms.\n",
      "Iteration i=1:\n",
      "Index: Added 0 index, completed after 0 ms.\n",
      "Rule: Added 246866 labels, created 123433 nodes, set 493153 properties, created 123240 relationships, completed after 3071 ms.\n",
      "Abort: Deleted 123433 nodes, deleted 123240 relationships, completed after 623 ms.\n",
      "Average execution time: 3181.000 ms.\n"
     ]
    }
   ],
   "source": [
    "my_transform = Transformation([panama_malta_address_to_global], with_diagnose = False) # no need for diagnose's specific functionalities for the VLDB exp.\n",
    "rep, tt = 2, 0\n",
    "for i in range(rep):\n",
    "    print(f\"Iteration {i=}:\")\n",
    "    tt += my_transform.apply_on(graph)\n",
    "    my_transform.abort(keep_index = True) # Strange bug: indexes created with the Neo4j Python driver cannot be used in subsequent query plans\n",
    "avg_time = tt/rep\n",
    "print(f\"Average execution time: {avg_time:.3f} ms.\")"
   ]
  },
  {
   "cell_type": "markdown",
   "id": "3e957d38-55b9-411b-942d-bf7321d7619a",
   "metadata": {},
   "source": [
    "### Input query\n",
    "We now look at the execution time and number of rows of the input query."
   ]
  },
  {
   "cell_type": "code",
   "execution_count": 5,
   "id": "26e0ccf7-72c9-48eb-98a3-0229800dc486",
   "metadata": {},
   "outputs": [
    {
     "name": "stdout",
     "output_type": "stream",
     "text": [
      "Execution time of the input rule: 1005 ms.\n",
      "Size of intermediate data: 123240 rows.\n"
     ]
    }
   ],
   "source": [
    "panama_malta_address_to_global_input_rule = '''\n",
    "MATCH (a:Address { sourceID: \"Paradise Papers - Malta corporate registry\" }) \n",
    "WHERE a.country_code IS NOT NULL\n",
    "RETURN a'''\n",
    "nb_rows, exec_time = graph.query(panama_malta_address_to_global_input_rule)\n",
    "print(f\"Execution time of the input rule: {exec_time} ms.\")\n",
    "print(f\"Size of intermediate data: {nb_rows} rows.\")"
   ]
  },
  {
   "cell_type": "markdown",
   "id": "00b45291-bdda-4ad6-86d4-179a6ba00246",
   "metadata": {},
   "source": [
    "### Results\n",
    "\n",
    "Present the statistics and give number of conflicting elements in the output."
   ]
  },
  {
   "cell_type": "code",
   "execution_count": 6,
   "id": "5c4bc0cf-8970-430c-8dcd-4a2ebca8802b",
   "metadata": {},
   "outputs": [
    {
     "name": "stdout",
     "output_type": "stream",
     "text": [
      "Rule: Added 246866 labels, created 123433 nodes, set 493153 properties, created 123240 relationships, completed after 2840 ms.\n",
      "Abort: Deleted 123433 nodes, deleted 123240 relationships, completed after 630 ms.\n"
     ]
    }
   ],
   "source": [
    "_, summary = panama_malta_address_to_global.apply_on(graph)\n",
    "# clear output data \n",
    "my_transform._graph = graph\n",
    "my_transform.abort(keep_index = True)\n",
    "num_nodes = summary.counters.nodes_created\n",
    "num_rels = summary.counters.relationships_created"
   ]
  },
  {
   "cell_type": "code",
   "execution_count": 7,
   "id": "c3aeeed7-6997-4670-a6c4-e4ad01bb8cf3",
   "metadata": {},
   "outputs": [
    {
     "name": "stdout",
     "output_type": "stream",
     "text": [
      "Ratio between intermediate data and size of the output: 2.002\n",
      "Time to compute the intermediary results, per row: 0.008 ms.\n",
      "Time to construct the output, per element: 0.013 ms.\n"
     ]
    }
   ],
   "source": [
    "print(f\"Ratio between intermediate data and size of the output: {(num_nodes + num_rels) / nb_rows:.3f}\")\n",
    "print(f\"Time to compute the intermediary results, per row: {exec_time / nb_rows:.3f} ms.\")\n",
    "print(f\"Time to construct the output, per element: {avg_time / (num_nodes + num_rels):.3f} ms.\")"
   ]
  },
  {
   "cell_type": "markdown",
   "id": "206b077f-cac4-40b0-81bf-42e372de07c0",
   "metadata": {},
   "source": [
    "We now look at the percentage of conflicting elements in the output."
   ]
  },
  {
   "cell_type": "code",
   "execution_count": 8,
   "id": "7cd415d1-c445-4141-b8d2-1612bb379fb8",
   "metadata": {},
   "outputs": [
    {
     "name": "stdout",
     "output_type": "stream",
     "text": [
      "Index: Added 0 index, completed after 1 ms.\n",
      "Rule: Added 246866 labels, created 123433 nodes, set 493153 properties, created 123240 relationships, completed after 3383 ms.\n",
      "NodeConflicts: There are currently 0 nodes in the database which have a conflict.\n",
      "EdgeConflicts: There are currently 0 edges in the database which have a conflict.\n",
      "Abort: Deleted 123433 nodes, deleted 123240 relationships, completed after 705 ms.\n",
      "Percentages of conflicting nodes and edges, respectively: 0.0% and 0.0%.\n"
     ]
    }
   ],
   "source": [
    "panama_malta_address_to_global_with_diagnose = Rule('''\n",
    "MATCH (a:Address { sourceID: \"Paradise Papers - Malta corporate registry\" }) \n",
    "WHERE a.country_code IS NOT NULL\n",
    "GENERATE \n",
    "(x = (a):T_Address {\n",
    "    source = a.sourceID\n",
    "})-[():T_LOCATED]->(y = (a.country_code):T_Country {\n",
    "    name = a.country\n",
    "})\n",
    "''')\n",
    "my_transform = Transformation([panama_malta_address_to_global_with_diagnose], with_diagnose = True) # We want to retrieve conflicting elements\n",
    "my_transform.apply_on(graph)\n",
    "nc, ec = my_transform.diagnose()\n",
    "my_transform.abort(keep_index = True) # Strange bug: indexes created with the Neo4j Python driver cannot be used in subsequent query plans\n",
    "print(f\"Percentages of conflicting nodes and edges, respectively: {(nc * 100) / num_nodes:.1f}% and {(ec * 100) / num_rels:.1f}%.\")"
   ]
  },
  {
   "cell_type": "markdown",
   "id": "048a82ed-7636-4069-95e4-9283754cb892",
   "metadata": {},
   "source": [
    "Indeed, the following openCypher query's output shows that the FD `country_code -> country` holds on `Address` nodes having the attribute `country_code`.\n",
    "\n",
    "```\n",
    "MATCH (a:Address { sourceID: \"Paradise Papers - Malta corporate registry\" }) \n",
    "WHERE a.country_code IS NOT NULL\n",
    "WITH a.country_code AS country_code, COUNT(DISTINCT a.country) AS corresponding_country_names\n",
    "WHERE corresponding_country_names > 1\n",
    "RETURN country_code, corresponding_country_names\n",
    "```"
   ]
  },
  {
   "cell_type": "markdown",
   "id": "3840a653-03c4-45ee-9c0c-44421c7a97a6",
   "metadata": {},
   "source": [
    "## Experiment 2: Whole refactoring\n",
    "We now consider all the cases in a single transformation.\n",
    "\n",
    "Address nodes with a `sourceID` different from `Paradise Papers - Malta corporate registry` store country information in both `country_codes` and `countries` attributes.\n",
    "\n",
    "Actually, the leak `Paradise Papers - Malta corporate registry` were an exception using `country_code` and `country`.\n",
    "\n",
    "### Transformation rule\n",
    "We look at the execution time of the transformation consisting of the rules:"
   ]
  },
  {
   "cell_type": "code",
   "execution_count": 9,
   "id": "6db66c8a-9f86-4ac0-9b8c-cd1b46b364fc",
   "metadata": {},
   "outputs": [],
   "source": [
    "panama_malta_address_to_global = Rule('''\n",
    "MATCH (a:Address { sourceID: \"Paradise Papers - Malta corporate registry\" }) \n",
    "WHERE a.country_code IS NOT NULL\n",
    "GENERATE\n",
    "(x = (a):T_Address {\n",
    "    source = a.sourceID\n",
    "})-[():T_LOCATED]->(y = (a.country_code):T_Country {\n",
    "    name = a.country\n",
    "})\n",
    "''')\n",
    "# Create the missing nodes\n",
    "panama_malta_address_to_global_undefined_country = Rule('''\n",
    "MATCH (a:Address { sourceID: \"Paradise Papers - Malta corporate registry\" }) \n",
    "WHERE a.country_code IS NULL\n",
    "GENERATE\n",
    "(x = (a):T_Address {\n",
    "    source = a.sourceID\n",
    "})\n",
    "''')\n",
    "# For all other leaks, the attributes are in plural form\n",
    "other_address_to_global = Rule('''\n",
    "MATCH (a:Address)\n",
    "WHERE a.sourceID <> \"Paradise Papers - Malta corporate registry\"\n",
    "  AND a.country_codes IS NOT NULL\n",
    "GENERATE\n",
    "(x = (a):T_Address {\n",
    "    source = a.sourceID\n",
    "})-[():T_LOCATED]->(y = (a.country_codes):T_Country {\n",
    "    name = a.countries\n",
    "})\n",
    "''')\n",
    "other_address_to_global_undefined_countries = Rule('''\n",
    "MATCH (a:Address)\n",
    "WHERE a.sourceID <> \"Paradise Papers - Malta corporate registry\"\n",
    "  AND a.country_codes IS NULL\n",
    "GENERATE\n",
    "(x = (a):T_Address {\n",
    "    source = a.sourceID\n",
    "})\n",
    "''')"
   ]
  },
  {
   "cell_type": "code",
   "execution_count": 10,
   "id": "891c9123-a1c1-4e1c-841b-5191496bf1fb",
   "metadata": {},
   "outputs": [],
   "source": [
    "#other_address_to_global._compile(with_diagnose=False)\n",
    "#print(other_address_to_global._compiled)"
   ]
  },
  {
   "cell_type": "code",
   "execution_count": 11,
   "id": "405aac4f-422f-4230-bd6b-e89c78797db9",
   "metadata": {},
   "outputs": [
    {
     "name": "stdout",
     "output_type": "stream",
     "text": [
      "Iteration i=0:\n",
      "Index: Added 0 index, completed after 1 ms.\n",
      "Rule: Added 246866 labels, created 123433 nodes, set 493153 properties, created 123240 relationships, completed after 3064 ms.\n",
      "Rule: Added 52 labels, created 26 nodes, set 52 properties, created 0 relationships, completed after 73 ms.\n",
      "Rule: Added 500272 labels, created 250136 nodes, set 1000451 properties, created 250105 relationships, completed after 7822 ms.\n",
      "Rule: Added 3168 labels, created 1584 nodes, set 3168 properties, created 0 relationships, completed after 224 ms.\n",
      "Abort: Deleted 375179 nodes, deleted 373345 relationships, completed after 1933 ms.\n",
      "Iteration i=1:\n",
      "Index: Added 0 index, completed after 0 ms.\n",
      "Rule: Added 246866 labels, created 123433 nodes, set 493153 properties, created 123240 relationships, completed after 2851 ms.\n",
      "Rule: Added 52 labels, created 26 nodes, set 52 properties, created 0 relationships, completed after 95 ms.\n",
      "Rule: Added 500272 labels, created 250136 nodes, set 1000451 properties, created 250105 relationships, completed after 7725 ms.\n",
      "Rule: Added 3168 labels, created 1584 nodes, set 3168 properties, created 0 relationships, completed after 230 ms.\n",
      "Abort: Deleted 375179 nodes, deleted 373345 relationships, completed after 2072 ms.\n",
      "Average execution time: 11042.000 ms.\n"
     ]
    }
   ],
   "source": [
    "my_transform = Transformation([\n",
    "    panama_malta_address_to_global, \n",
    "    panama_malta_address_to_global_undefined_country,\n",
    "    other_address_to_global,\n",
    "    other_address_to_global_undefined_countries,\n",
    "], with_diagnose = False) # no need for diagnose's specific functionalities for the VLDB exp.\n",
    "rep, tt = 2, 0\n",
    "for i in range(rep):\n",
    "    print(f\"Iteration {i=}:\")\n",
    "    tt += my_transform.apply_on(graph)\n",
    "    my_transform.abort(keep_index = True) # Strange bug: indexes created with the Neo4j Python driver cannot be used in subsequent query plans\n",
    "avg_time = tt/rep\n",
    "print(f\"Average execution time: {avg_time:.3f} ms.\")"
   ]
  },
  {
   "cell_type": "markdown",
   "id": "7941bbda-3336-49e4-8729-6892e4616463",
   "metadata": {},
   "source": [
    "### Input queries\n",
    "We now look at the total execution time and total number of rows of the input queries."
   ]
  },
  {
   "cell_type": "code",
   "execution_count": 15,
   "id": "89ed487b-2a54-4afe-8641-fd33567b47bc",
   "metadata": {},
   "outputs": [
    {
     "name": "stdout",
     "output_type": "stream",
     "text": [
      "Total execution time of the input rule: 2821 ms.\n",
      "Total size of intermediate data: 374955 rows.\n"
     ]
    }
   ],
   "source": [
    "nb_rows, exec_time = 0, 0\n",
    "panama_malta_address_to_global_input_rule = '''\n",
    "MATCH (a:Address { sourceID: \"Paradise Papers - Malta corporate registry\" }) \n",
    "WHERE a.country_code IS NOT NULL\n",
    "RETURN a'''\n",
    "r, e = graph.query(panama_malta_address_to_global_input_rule)\n",
    "nb_rows += r\n",
    "exec_time += e\n",
    "panama_malta_address_to_global_undefined_country_input_rule = '''\n",
    "MATCH (a:Address { sourceID: \"Paradise Papers - Malta corporate registry\" }) \n",
    "WHERE a.country_code IS NULL\n",
    "RETURN a'''\n",
    "r, e = graph.query(panama_malta_address_to_global_undefined_country_input_rule)\n",
    "nb_rows += r\n",
    "exec_time += e\n",
    "other_address_to_global_input_rule = '''\n",
    "MATCH (a:Address)\n",
    "WHERE a.sourceID <> \"Paradise Papers - Malta corporate registry\"\n",
    "  AND a.country_codes IS NOT NULL\n",
    "RETURN a'''\n",
    "r, e = graph.query(other_address_to_global_input_rule)\n",
    "nb_rows += r\n",
    "exec_time += e\n",
    "other_address_to_global_undefined_countries_input_rule = '''\n",
    "MATCH (a:Address)\n",
    "WHERE a.sourceID <> \"Paradise Papers - Malta corporate registry\"\n",
    "  AND a.country_codes IS NULL\n",
    "RETURN a'''\n",
    "r, e = graph.query(other_address_to_global_undefined_countries_input_rule)\n",
    "nb_rows += r\n",
    "exec_time += e\n",
    "print(f\"Total execution time of the input rule: {exec_time} ms.\")\n",
    "print(f\"Total size of intermediate data: {nb_rows} rows.\")"
   ]
  },
  {
   "cell_type": "code",
   "execution_count": null,
   "id": "43c5fc24-d0d1-41ec-a0b8-b7aab66c096f",
   "metadata": {},
   "outputs": [],
   "source": []
  }
 ],
 "metadata": {
  "kernelspec": {
   "display_name": "Python 3 (ipykernel)",
   "language": "python",
   "name": "python3"
  },
  "language_info": {
   "codemirror_mode": {
    "name": "ipython",
    "version": 3
   },
   "file_extension": ".py",
   "mimetype": "text/x-python",
   "name": "python",
   "nbconvert_exporter": "python",
   "pygments_lexer": "ipython3",
   "version": "3.11.6"
  }
 },
 "nbformat": 4,
 "nbformat_minor": 5
}
