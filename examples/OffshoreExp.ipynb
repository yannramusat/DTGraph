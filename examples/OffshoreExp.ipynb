{
 "cells": [
  {
   "cell_type": "markdown",
   "id": "27568cf6-a63c-42e7-b591-b034f915ead4",
   "metadata": {},
   "source": [
    "# ICIJ Offshore Leaks Database &mdash; Address nodes"
   ]
  },
  {
   "cell_type": "markdown",
   "id": "5a724452-447a-43b4-8e9a-4ed2caf89ea7",
   "metadata": {},
   "source": [
    "In the following we want to standardize the management of information related to countries stored in `Address` nodes.\n",
    "\n",
    "There are $374 955$ `Address` nodes in the dataset.\n",
    "\n",
    "The following Cypher query outputs the number of different leaks:\n",
    "```\n",
    "MATCH (a:Address)\n",
    "RETURN distinct a.sourceID\n",
    "```\n",
    "We see that there are $10$ different leaks: `[\"Bahamas Leaks\", \"Offshore Leaks\", \"Panama Papers\", \"Paradise Papers - Appleby\", \"Paradise Papers - Aruba corporate registry\", \"Paradise Papers - Bahamas corporate registry\", \"Paradise Papers - Barbados corporate registry\", \"Paradise Papers - Malta corporate registry\", \"Paradise Papers - Nevis corporate registry\", \"Paradise Papers - Samoa corporate registry\"]`"
   ]
  },
  {
   "cell_type": "code",
   "execution_count": 1,
   "id": "2ece2b47-74c8-445a-bf18-957da6b8c4a6",
   "metadata": {},
   "outputs": [],
   "source": [
    "from dtgraph import Neo4jGraph, Rule, Transformation\n",
    "hostname = \"localhost\"\n",
    "uri = f\"bolt://{hostname}:7687\"\n",
    "graph = Neo4jGraph(uri, database=\"neo4j\", username=\"\", password=\"\")"
   ]
  },
  {
   "cell_type": "markdown",
   "id": "1b326e7c-f9fa-4fad-9655-cf166652fa9b",
   "metadata": {
    "jp-MarkdownHeadingCollapsed": true
   },
   "source": [
    "## Experiment 1: Single rule refactoring of Address nodes\n",
    "We start with `Address` nodes with a `sourceID` of `Paradise Papers - Malta corporate registry`.\n",
    "\n",
    "These nodes store country information in both `country_code` and `country` attributes.\n",
    "### Transformation rule\n",
    "We look at the execution time of the following transformation rule:"
   ]
  },
  {
   "cell_type": "code",
   "execution_count": 2,
   "id": "c3639061-69d9-4cf6-8a87-6cfdf2e8595f",
   "metadata": {},
   "outputs": [],
   "source": [
    "panama_malta_address_to_global = Rule('''\n",
    "MATCH (a:Address { sourceID: \"Paradise Papers - Malta corporate registry\" }) \n",
    "WHERE a.country_code IS NOT NULL\n",
    "GENERATE\n",
    "(x = (a):T_Address {\n",
    "    source = a.sourceID\n",
    "})-[():T_LOCATED]->(y = (a.country_code):T_Country {\n",
    "    name = a.country\n",
    "})\n",
    "''')"
   ]
  },
  {
   "cell_type": "code",
   "execution_count": 3,
   "id": "e02cced2-1ec4-4e98-9477-4c29a2fcc8c8",
   "metadata": {},
   "outputs": [],
   "source": [
    "#panama_address_to_global._compile(with_diagnose=False)\n",
    "#print(panama_address_to_global._compiled)"
   ]
  },
  {
   "cell_type": "code",
   "execution_count": 4,
   "id": "2962bd86-d664-4a67-a42f-4ac7b07565ac",
   "metadata": {},
   "outputs": [
    {
     "name": "stdout",
     "output_type": "stream",
     "text": [
      "Iteration i=0:\n",
      "Index: Added 0 index, completed after 1 ms.\n",
      "Rule: Added 246866 labels, created 123433 nodes, set 493153 properties, created 123240 relationships, completed after 3027 ms.\n",
      "Abort: Deleted 123433 nodes, deleted 123240 relationships, completed after 618 ms.\n",
      "Iteration i=1:\n",
      "Index: Added 0 index, completed after 1 ms.\n",
      "Rule: Added 246866 labels, created 123433 nodes, set 493153 properties, created 123240 relationships, completed after 3242 ms.\n",
      "Abort: Deleted 123433 nodes, deleted 123240 relationships, completed after 762 ms.\n",
      "Average execution time: 3134.500 ms.\n"
     ]
    }
   ],
   "source": [
    "my_transform = Transformation([panama_malta_address_to_global], with_diagnose = False) # no need for diagnose's specific functionalities for the VLDB exp.\n",
    "rep, tt = 2, 0\n",
    "for i in range(rep):\n",
    "    print(f\"Iteration {i=}:\")\n",
    "    tt += my_transform.apply_on(graph)\n",
    "    my_transform.abort(keep_index = True) # Strange bug: indexes created with the Neo4j Python driver cannot be used in subsequent query plans\n",
    "avg_time = tt/rep\n",
    "print(f\"Average execution time: {avg_time:.3f} ms.\")"
   ]
  },
  {
   "cell_type": "markdown",
   "id": "3e957d38-55b9-411b-942d-bf7321d7619a",
   "metadata": {},
   "source": [
    "### Input query\n",
    "We now look at the execution time and number of rows of the input query."
   ]
  },
  {
   "cell_type": "code",
   "execution_count": 5,
   "id": "26e0ccf7-72c9-48eb-98a3-0229800dc486",
   "metadata": {},
   "outputs": [
    {
     "name": "stdout",
     "output_type": "stream",
     "text": [
      "Execution time of the input rule: 858 ms.\n",
      "Size of intermediate data: 123240 rows.\n"
     ]
    }
   ],
   "source": [
    "panama_malta_address_to_global_input_rule = '''\n",
    "MATCH (a:Address { sourceID: \"Paradise Papers - Malta corporate registry\" }) \n",
    "WHERE a.country_code IS NOT NULL\n",
    "RETURN a'''\n",
    "nb_rows, exec_time = graph.query(panama_malta_address_to_global_input_rule)\n",
    "print(f\"Execution time of the input rule: {exec_time} ms.\")\n",
    "print(f\"Size of intermediate data: {nb_rows} rows.\")"
   ]
  },
  {
   "cell_type": "markdown",
   "id": "00b45291-bdda-4ad6-86d4-179a6ba00246",
   "metadata": {},
   "source": [
    "### Results\n",
    "\n",
    "Present the statistics and give number of conflicting elements in the output."
   ]
  },
  {
   "cell_type": "code",
   "execution_count": 6,
   "id": "5c4bc0cf-8970-430c-8dcd-4a2ebca8802b",
   "metadata": {},
   "outputs": [
    {
     "name": "stdout",
     "output_type": "stream",
     "text": [
      "Rule: Added 246866 labels, created 123433 nodes, set 493153 properties, created 123240 relationships, completed after 2792 ms.\n",
      "Abort: Deleted 123433 nodes, deleted 123240 relationships, completed after 562 ms.\n"
     ]
    }
   ],
   "source": [
    "_, summary = panama_malta_address_to_global.apply_on(graph)\n",
    "# clear output data \n",
    "my_transform._graph = graph\n",
    "my_transform.abort(keep_index = True)\n",
    "num_nodes = summary.counters.nodes_created\n",
    "num_rels = summary.counters.relationships_created"
   ]
  },
  {
   "cell_type": "code",
   "execution_count": 7,
   "id": "c3aeeed7-6997-4670-a6c4-e4ad01bb8cf3",
   "metadata": {},
   "outputs": [
    {
     "name": "stdout",
     "output_type": "stream",
     "text": [
      "Ratio between intermediate data and size of the output: 2.002\n",
      "Time to compute the intermediary results, per row: 0.007 ms.\n",
      "Time to construct the output, per element: 0.013 ms.\n"
     ]
    }
   ],
   "source": [
    "print(f\"Ratio between intermediate data and size of the output: {(num_nodes + num_rels) / nb_rows:.3f}\")\n",
    "print(f\"Time to compute the intermediary results, per row: {exec_time / nb_rows:.3f} ms.\")\n",
    "print(f\"Time to construct the output, per element: {avg_time / (num_nodes + num_rels):.3f} ms.\")"
   ]
  },
  {
   "cell_type": "markdown",
   "id": "206b077f-cac4-40b0-81bf-42e372de07c0",
   "metadata": {},
   "source": [
    "We now look at the percentage of conflicting elements in the output."
   ]
  },
  {
   "cell_type": "code",
   "execution_count": 8,
   "id": "7cd415d1-c445-4141-b8d2-1612bb379fb8",
   "metadata": {},
   "outputs": [
    {
     "name": "stdout",
     "output_type": "stream",
     "text": [
      "Index: Added 0 index, completed after 1 ms.\n",
      "Rule: Added 246866 labels, created 123433 nodes, set 493153 properties, created 123240 relationships, completed after 3305 ms.\n",
      "NodeConflicts: There are currently 0 nodes in the database which have a conflict.\n",
      "EdgeConflicts: There are currently 0 edges in the database which have a conflict.\n",
      "Abort: Deleted 123433 nodes, deleted 123240 relationships, completed after 739 ms.\n",
      "Percentages of conflicting nodes and edges, respectively: 0.0% and 0.0%.\n"
     ]
    }
   ],
   "source": [
    "panama_malta_address_to_global_with_diagnose = Rule('''\n",
    "MATCH (a:Address { sourceID: \"Paradise Papers - Malta corporate registry\" }) \n",
    "WHERE a.country_code IS NOT NULL\n",
    "GENERATE \n",
    "(x = (a):T_Address {\n",
    "    source = a.sourceID\n",
    "})-[():T_LOCATED]->(y = (a.country_code):T_Country {\n",
    "    name = a.country\n",
    "})\n",
    "''')\n",
    "my_transform = Transformation([panama_malta_address_to_global_with_diagnose], with_diagnose = True) # We want to retrieve conflicting elements\n",
    "my_transform.apply_on(graph)\n",
    "nc, ec = my_transform.diagnose()\n",
    "my_transform.abort(keep_index = True) # Strange bug: indexes created with the Neo4j Python driver cannot be used in subsequent query plans\n",
    "print(f\"Percentages of conflicting nodes and edges, respectively: {(nc * 100) / num_nodes:.1f}% and {(ec * 100) / num_rels:.1f}%.\")"
   ]
  },
  {
   "cell_type": "markdown",
   "id": "048a82ed-7636-4069-95e4-9283754cb892",
   "metadata": {},
   "source": [
    "Indeed, the following openCypher query's output shows that the FD `country_code -> country` holds on `Address` nodes having the attribute `country_code`.\n",
    "\n",
    "```\n",
    "MATCH (a:Address { sourceID: \"Paradise Papers - Malta corporate registry\" }) \n",
    "WHERE a.country_code IS NOT NULL\n",
    "WITH a.country_code AS country_code, COUNT(DISTINCT a.country) AS corresponding_country_names\n",
    "WHERE corresponding_country_names > 1\n",
    "RETURN country_code, corresponding_country_names\n",
    "```"
   ]
  },
  {
   "cell_type": "markdown",
   "id": "3840a653-03c4-45ee-9c0c-44421c7a97a6",
   "metadata": {
    "jp-MarkdownHeadingCollapsed": true
   },
   "source": [
    "## Experiment 2: Whole refactoring of Address nodes\n",
    "We now consider all the cases in a single transformation.\n",
    "\n",
    "Address nodes with a `sourceID` different from `Paradise Papers - Malta corporate registry` store country information in both `country_codes` and `countries` attributes.\n",
    "\n",
    "Actually, the leak `Paradise Papers - Malta corporate registry` were an exception using `country_code` and `country`.\n",
    "\n",
    "### Transformation rule\n",
    "We look at the execution time of the transformation consisting of the following rules:"
   ]
  },
  {
   "cell_type": "code",
   "execution_count": 9,
   "id": "6db66c8a-9f86-4ac0-9b8c-cd1b46b364fc",
   "metadata": {},
   "outputs": [],
   "source": [
    "panama_malta_address_to_global = Rule('''\n",
    "MATCH (a:Address { sourceID: \"Paradise Papers - Malta corporate registry\" }) \n",
    "WHERE a.country_code IS NOT NULL\n",
    "GENERATE\n",
    "(x = (a):T_Address {\n",
    "    source = a.sourceID\n",
    "})-[():T_LOCATED]->(y = (a.country_code):T_Country {\n",
    "    name = a.country\n",
    "})\n",
    "''')\n",
    "# Create the missing nodes\n",
    "panama_malta_address_to_global_undefined_country = Rule('''\n",
    "MATCH (a:Address { sourceID: \"Paradise Papers - Malta corporate registry\" }) \n",
    "WHERE a.country_code IS NULL\n",
    "GENERATE\n",
    "(x = (a):T_Address {\n",
    "    source = a.sourceID\n",
    "})\n",
    "''')\n",
    "# For all other leaks, the attributes are in plural form\n",
    "other_address_to_global = Rule('''\n",
    "MATCH (a:Address)\n",
    "WHERE a.sourceID <> \"Paradise Papers - Malta corporate registry\"\n",
    "  AND a.country_codes IS NOT NULL\n",
    "GENERATE\n",
    "(x = (a):T_Address {\n",
    "    source = a.sourceID\n",
    "})-[():T_LOCATED]->(y = (a.country_codes):T_Country {\n",
    "    name = a.countries\n",
    "})\n",
    "''')\n",
    "other_address_to_global_undefined_countries = Rule('''\n",
    "MATCH (a:Address)\n",
    "WHERE a.sourceID <> \"Paradise Papers - Malta corporate registry\"\n",
    "  AND a.country_codes IS NULL\n",
    "GENERATE\n",
    "(x = (a):T_Address {\n",
    "    source = a.sourceID\n",
    "})\n",
    "''')"
   ]
  },
  {
   "cell_type": "code",
   "execution_count": 10,
   "id": "891c9123-a1c1-4e1c-841b-5191496bf1fb",
   "metadata": {},
   "outputs": [],
   "source": [
    "#other_address_to_global._compile(with_diagnose=False)\n",
    "#print(other_address_to_global._compiled)"
   ]
  },
  {
   "cell_type": "code",
   "execution_count": 11,
   "id": "405aac4f-422f-4230-bd6b-e89c78797db9",
   "metadata": {},
   "outputs": [
    {
     "name": "stdout",
     "output_type": "stream",
     "text": [
      "Iteration i=0:\n",
      "Index: Added 0 index, completed after 1 ms.\n",
      "Rule: Added 246866 labels, created 123433 nodes, set 493153 properties, created 123240 relationships, completed after 3130 ms.\n",
      "Rule: Added 52 labels, created 26 nodes, set 52 properties, created 0 relationships, completed after 123 ms.\n",
      "Rule: Added 500272 labels, created 250136 nodes, set 1000451 properties, created 250105 relationships, completed after 7802 ms.\n",
      "Rule: Added 3168 labels, created 1584 nodes, set 3168 properties, created 0 relationships, completed after 191 ms.\n",
      "Abort: Deleted 375179 nodes, deleted 373345 relationships, completed after 1569 ms.\n",
      "Iteration i=1:\n",
      "Index: Added 0 index, completed after 1 ms.\n",
      "Rule: Added 246866 labels, created 123433 nodes, set 493153 properties, created 123240 relationships, completed after 2826 ms.\n",
      "Rule: Added 52 labels, created 26 nodes, set 52 properties, created 0 relationships, completed after 103 ms.\n",
      "Rule: Added 500272 labels, created 250136 nodes, set 1000451 properties, created 250105 relationships, completed after 8015 ms.\n",
      "Rule: Added 3168 labels, created 1584 nodes, set 3168 properties, created 0 relationships, completed after 194 ms.\n",
      "Abort: Deleted 375179 nodes, deleted 373345 relationships, completed after 1676 ms.\n",
      "Average execution time: 11192.000 ms.\n"
     ]
    }
   ],
   "source": [
    "my_transform = Transformation([\n",
    "    panama_malta_address_to_global, \n",
    "    panama_malta_address_to_global_undefined_country,\n",
    "    other_address_to_global,\n",
    "    other_address_to_global_undefined_countries,\n",
    "], with_diagnose = False) # no need for diagnose's specific functionalities for the VLDB exp.\n",
    "rep, tt = 2, 0\n",
    "for i in range(rep):\n",
    "    print(f\"Iteration {i=}:\")\n",
    "    tt += my_transform.apply_on(graph)\n",
    "    my_transform.abort(keep_index = True) # Strange bug: indexes created with the Neo4j Python driver cannot be used in subsequent query plans\n",
    "avg_time = tt/rep\n",
    "print(f\"Average execution time: {avg_time:.3f} ms.\")"
   ]
  },
  {
   "cell_type": "markdown",
   "id": "7941bbda-3336-49e4-8729-6892e4616463",
   "metadata": {},
   "source": [
    "### Input queries\n",
    "We now look at the total execution time and total number of rows of the input queries."
   ]
  },
  {
   "cell_type": "code",
   "execution_count": 12,
   "id": "89ed487b-2a54-4afe-8641-fd33567b47bc",
   "metadata": {},
   "outputs": [
    {
     "name": "stdout",
     "output_type": "stream",
     "text": [
      "Total execution time of the input rules: 2757 ms.\n",
      "Total size of intermediate data: 374955 rows.\n"
     ]
    }
   ],
   "source": [
    "nb_rows, exec_time = 0, 0\n",
    "panama_malta_address_to_global_input_rule = '''\n",
    "MATCH (a:Address { sourceID: \"Paradise Papers - Malta corporate registry\" }) \n",
    "WHERE a.country_code IS NOT NULL\n",
    "RETURN a'''\n",
    "r, e = graph.query(panama_malta_address_to_global_input_rule)\n",
    "nb_rows += r\n",
    "exec_time += e\n",
    "panama_malta_address_to_global_undefined_country_input_rule = '''\n",
    "MATCH (a:Address { sourceID: \"Paradise Papers - Malta corporate registry\" }) \n",
    "WHERE a.country_code IS NULL\n",
    "RETURN a'''\n",
    "r, e = graph.query(panama_malta_address_to_global_undefined_country_input_rule)\n",
    "nb_rows += r\n",
    "exec_time += e\n",
    "other_address_to_global_input_rule = '''\n",
    "MATCH (a:Address)\n",
    "WHERE a.sourceID <> \"Paradise Papers - Malta corporate registry\"\n",
    "  AND a.country_codes IS NOT NULL\n",
    "RETURN a'''\n",
    "r, e = graph.query(other_address_to_global_input_rule)\n",
    "nb_rows += r\n",
    "exec_time += e\n",
    "other_address_to_global_undefined_countries_input_rule = '''\n",
    "MATCH (a:Address)\n",
    "WHERE a.sourceID <> \"Paradise Papers - Malta corporate registry\"\n",
    "  AND a.country_codes IS NULL\n",
    "RETURN a'''\n",
    "r, e = graph.query(other_address_to_global_undefined_countries_input_rule)\n",
    "nb_rows += r\n",
    "exec_time += e\n",
    "print(f\"Total execution time of the input rules: {exec_time} ms.\")\n",
    "print(f\"Total size of intermediate data: {nb_rows} rows.\")"
   ]
  },
  {
   "cell_type": "markdown",
   "id": "c121cf1e-7621-4c30-a575-bf43f9278a05",
   "metadata": {},
   "source": [
    "### Results\n",
    "\n",
    "Present the statistics and give number of conflicting elements in the output."
   ]
  },
  {
   "cell_type": "code",
   "execution_count": 13,
   "id": "37d8c490-4606-45fd-af63-625767658e2e",
   "metadata": {},
   "outputs": [
    {
     "name": "stdout",
     "output_type": "stream",
     "text": [
      "Rule: Added 246866 labels, created 123433 nodes, set 493153 properties, created 123240 relationships, completed after 2956 ms.\n",
      "Rule: Added 52 labels, created 26 nodes, set 52 properties, created 0 relationships, completed after 106 ms.\n",
      "Rule: Added 500272 labels, created 250136 nodes, set 1000451 properties, created 250105 relationships, completed after 7969 ms.\n",
      "Rule: Added 3168 labels, created 1584 nodes, set 3168 properties, created 0 relationships, completed after 192 ms.\n",
      "Abort: Deleted 375179 nodes, deleted 373345 relationships, completed after 2069 ms.\n"
     ]
    }
   ],
   "source": [
    "num_nodes, num_rels = 0, 0\n",
    "_, summary = panama_malta_address_to_global.apply_on(graph)\n",
    "num_nodes += summary.counters.nodes_created\n",
    "num_rels += summary.counters.relationships_created\n",
    "_, summary = panama_malta_address_to_global_undefined_country.apply_on(graph)\n",
    "num_nodes += summary.counters.nodes_created\n",
    "num_rels += summary.counters.relationships_created\n",
    "_, summary = other_address_to_global.apply_on(graph)\n",
    "num_nodes += summary.counters.nodes_created\n",
    "num_rels += summary.counters.relationships_created\n",
    "_, summary = other_address_to_global_undefined_countries.apply_on(graph)\n",
    "num_nodes += summary.counters.nodes_created\n",
    "num_rels += summary.counters.relationships_created\n",
    "# clear output data \n",
    "my_transform._graph = graph\n",
    "my_transform.abort(keep_index = True)"
   ]
  },
  {
   "cell_type": "code",
   "execution_count": 14,
   "id": "9657be45-f172-4a8a-927b-de445eddd2e9",
   "metadata": {},
   "outputs": [
    {
     "name": "stdout",
     "output_type": "stream",
     "text": [
      "Ratio between intermediate data and size of the output: 1.996\n",
      "Time to compute the intermediary results, per row: 0.007 ms.\n",
      "Time to construct the output, per element: 0.015 ms.\n"
     ]
    }
   ],
   "source": [
    "print(f\"Ratio between intermediate data and size of the output: {(num_nodes + num_rels) / nb_rows:.3f}\")\n",
    "print(f\"Time to compute the intermediary results, per row: {exec_time / nb_rows:.3f} ms.\")\n",
    "print(f\"Time to construct the output, per element: {avg_time / (num_nodes + num_rels):.3f} ms.\")"
   ]
  },
  {
   "cell_type": "code",
   "execution_count": 15,
   "id": "d444c052-c09e-4919-b509-7c5e8d640f2e",
   "metadata": {},
   "outputs": [
    {
     "name": "stdout",
     "output_type": "stream",
     "text": [
      "Index: Added 0 index, completed after 1 ms.\n",
      "Rule: Added 246866 labels, created 123433 nodes, set 493153 properties, created 123240 relationships, completed after 3411 ms.\n",
      "Rule: Added 52 labels, created 26 nodes, set 52 properties, created 0 relationships, completed after 122 ms.\n",
      "Rule: Added 500278 labels, created 250136 nodes, set 1000451 properties, created 250105 relationships, completed after 8017 ms.\n",
      "Rule: Added 3168 labels, created 1584 nodes, set 3168 properties, created 0 relationships, completed after 192 ms.\n",
      "NodeConflicts: There are currently 6 nodes in the database which have a conflict.\n",
      "  (:T_Country {}) has a conflict on attributes ['name'].\n",
      "  (:T_Country {}) has a conflict on attributes ['name'].\n",
      "  (:T_Country {}) has a conflict on attributes ['name'].\n",
      "  (:T_Country {}) has a conflict on attributes ['name'].\n",
      "  (:T_Country {}) has a conflict on attributes ['name'].\n",
      "  (:T_Country {}) has a conflict on attributes ['name'].\n",
      "EdgeConflicts: There are currently 0 edges in the database which have a conflict.\n",
      "Abort: Deleted 375179 nodes, deleted 373345 relationships, completed after 2074 ms.\n",
      "Percentages of conflicting nodes and edges, respectively: 0.002% and 0.000%.\n"
     ]
    }
   ],
   "source": [
    "panama_malta_address_to_global_with_diagnose = Rule('''\n",
    "MATCH (a:Address { sourceID: \"Paradise Papers - Malta corporate registry\" }) \n",
    "WHERE a.country_code IS NOT NULL\n",
    "GENERATE \n",
    "(x = (a):T_Address {\n",
    "    source = a.sourceID\n",
    "})-[():T_LOCATED]->(y = (a.country_code):T_Country {\n",
    "    name = a.country\n",
    "})\n",
    "''')\n",
    "# Create the missing nodes\n",
    "panama_malta_address_to_global_undefined_country_with_diagnose = Rule('''\n",
    "MATCH (a:Address { sourceID: \"Paradise Papers - Malta corporate registry\" }) \n",
    "WHERE a.country_code IS NULL\n",
    "GENERATE\n",
    "(x = (a):T_Address {\n",
    "    source = a.sourceID\n",
    "})\n",
    "''')\n",
    "# For all other leaks, the attributes are in plural form\n",
    "other_address_to_global_with_diagnose = Rule('''\n",
    "MATCH (a:Address)\n",
    "WHERE a.sourceID <> \"Paradise Papers - Malta corporate registry\"\n",
    "  AND a.country_codes IS NOT NULL\n",
    "GENERATE\n",
    "(x = (a):T_Address {\n",
    "    source = a.sourceID\n",
    "})-[():T_LOCATED]->(y = (a.country_codes):T_Country {\n",
    "    name = a.countries\n",
    "})\n",
    "''')\n",
    "other_address_to_global_undefined_countries_with_diagnose = Rule('''\n",
    "MATCH (a:Address)\n",
    "WHERE a.sourceID <> \"Paradise Papers - Malta corporate registry\"\n",
    "  AND a.country_codes IS NULL\n",
    "GENERATE\n",
    "(x = (a):T_Address {\n",
    "    source = a.sourceID\n",
    "})\n",
    "''')\n",
    "my_transform = Transformation([\n",
    "    panama_malta_address_to_global_with_diagnose, \n",
    "    panama_malta_address_to_global_undefined_country_with_diagnose,\n",
    "    other_address_to_global_with_diagnose,\n",
    "    other_address_to_global_undefined_countries_with_diagnose,\n",
    "], with_diagnose = True) # no need for diagnose's specific functionalities for the VLDB exp.\n",
    "my_transform.apply_on(graph)\n",
    "nc, ec = my_transform.diagnose()\n",
    "my_transform.abort(keep_index = True) # Strange bug: indexes created with the Neo4j Python driver cannot be used in subsequent query plans\n",
    "print(f\"Percentages of conflicting nodes and edges, respectively: {(nc * 100) / num_nodes:.3f}% and {(ec * 100) / num_rels:.3f}%.\")"
   ]
  },
  {
   "cell_type": "markdown",
   "id": "775fdba7-b5c6-4eda-a3da-2bbaa4a63ec1",
   "metadata": {},
   "source": [
    "Let us investigate using the following openCypher query what are the `Address` nodes having the attribute `country_codes` on which the FD `country_codes -> countries` does not hold.\n",
    "\n",
    "```\n",
    "MATCH (a:Address) \n",
    "WHERE a.country_codes IS NOT NULL\n",
    "WITH a.country_codes AS country_codes, collect(DISTINCT a.countries) AS corresponding_countries_names\n",
    "WHERE size(corresponding_countries_names) > 1\n",
    "RETURN country_codes, corresponding_countries_names\n",
    "```\n",
    "which returns:\n",
    "\n",
    "```\n",
    "╒═════════════╤═════════════════════════════════════════════════════╕\n",
    "│country_codes│corresponding_countries_names                        │\n",
    "╞═════════════╪═════════════════════════════════════════════════════╡\n",
    "│\"KOR\"        │[\"South Korea\", \"Korea, Republic of\"]                │\n",
    "├─────────────┼─────────────────────────────────────────────────────┤\n",
    "│\"TWN\"        │[\"Taiwan\", \"Taiwan, Province of China\"]              │\n",
    "├─────────────┼─────────────────────────────────────────────────────┤\n",
    "│\"VEN\"        │[\"Venezuela\", \"Venezuela, Bolivarian Republic of\"]   │\n",
    "├─────────────┼─────────────────────────────────────────────────────┤\n",
    "│\"VGB\"        │[\"British Virgin Islands\", \"Virgin Islands, British\"]│\n",
    "├─────────────┼─────────────────────────────────────────────────────┤\n",
    "│\"VIR\"        │[\"U.S. Virgin Islands\", \"Virgin Islands, U.S.\"]      │\n",
    "└─────────────┴─────────────────────────────────────────────────────┘\n",
    "```\n",
    "We see that these entries refer to the same country using similar names.  This might suggest that the FD is meaningful, but data cleaning is probably necessary."
   ]
  },
  {
   "cell_type": "markdown",
   "id": "27655344-b1e5-437e-ad85-c44e821ad17d",
   "metadata": {
    "jp-MarkdownHeadingCollapsed": true
   },
   "source": [
    "## Experiment 3: Uniformizing intermediaries' address information\n",
    "In this dataset, it may be difficult to find information about the addresses of the $25 745$ intermediaries.  \n",
    "Indeed, their addresses can be stored in three different ways:\n",
    "1. `(i:Intermediary)-[:registered_address]->(a:Address)` which concern $10 496$ such intermediaries. In that case, `i.address` is never defined.\n",
    "2. `(i:Intermediary)` where `i.address` is defined and not empty. This concerns $8 643$ such intermediaries.\n",
    "3. `(i:Intermediary)` where `i.address` is defined and empty. This concerns $3 978$ such intermediaries.  \n",
    "  In this case, the following query retrieves the $3 970$ intermediaries where `i.address` is defined and empty and connected to an entity having its address set.  \n",
    "  This is consistent with [the specification of the data](https://offshoreleaks-data.icij.org/offshoreleaks/neo4j/guide/datashape.html) which states that:  \n",
    "  *Each Entity node has the address property only when the address is the same as the one of the intermediary. Otherwise, the registered address information is stored in the address node connected to this Entity node through a REGISTERED_ADDRESS relationship.*\n",
    "  ```\n",
    "  MATCH (i:Intermediary)-[:intermediary_of]->(e:Entity) \n",
    "  WHERE i.address IS NOT NULL AND i.address = \"\" \n",
    "  WITH i, collect(DISTINCT e.address) AS e_addresses \n",
    "  WHERE size(e_addresses) > 0\n",
    "  RETURN i, e_addresses\n",
    "  ```  \n",
    "\n",
    "Hence using rules we can uniformize the presentation of address information for the $10 496 + 8643 + 3 970 = 23 109$  intermediaries for which an address is known (out of $25 745$ intermediaries).\n",
    "\n",
    "### Transformation rule\n",
    "We look at the execution time of the transformation consisting of the following rules:"
   ]
  },
  {
   "cell_type": "code",
   "execution_count": 43,
   "id": "a1ecd0a9-40a1-49c2-8683-3bd2bd5d6820",
   "metadata": {},
   "outputs": [],
   "source": [
    "intermediary_registered_address = Rule('''\n",
    "MATCH (i:Intermediary)-[:registered_address]->(a:Address)\n",
    "GENERATE\n",
    "(x = (i):T_Intermediary)-[():T_REGISTERED_ADDRESS]->(y = (a):T_Address)\n",
    "''')\n",
    "intermediary_not_empty_address = Rule('''\n",
    "MATCH (i:Intermediary)\n",
    "WHERE i.address IS NOT NULL AND i.address <> \"\" AND i.country_codes IS NOT NULL\n",
    "GENERATE\n",
    "(x = (i):T_Intermediary)-[():T_REGISTERED_ADDRESS]->(y = (i.address):T_Address {\n",
    "  source = i.sourceID\n",
    "}),\n",
    "(y)-[():T_LOCATED]->(z = (i.country_codes):T_Country {\n",
    "    name = i.countries\n",
    "})\n",
    "''')\n",
    "intermediary_not_empty_address_undefined_countries = Rule('''\n",
    "MATCH (i:Intermediary)\n",
    "WHERE i.address IS NOT NULL AND i.address <> \"\" AND i.country_codes IS NULL\n",
    "GENERATE\n",
    "(x = (i):T_Intermediary)-[():T_REGISTERED_ADDRESS]->(y = (i.address):T_Address {\n",
    "  source = i.sourceID\n",
    "})\n",
    "''')\n",
    "intermediary_empty_address = Rule('''\n",
    "MATCH (i:Intermediary)-[:intermediary_of]->(e:Entity) \n",
    "WHERE i.address IS NOT NULL AND i.address = \"\" AND e.country_codes IS NOT NULL\n",
    "GENERATE\n",
    "(x = (i):T_Intermediary)-[():T_REGISTERED_ADDRESS]->(y = (e.address):T_Address {\n",
    "  source = e.sourceID\n",
    "}),\n",
    "(y)-[():T_LOCATED]->(z = (e.country_codes):T_Country {\n",
    "    name = e.countries\n",
    "})\n",
    "''')\n",
    "intermediary_empty_address_undefined_countries = Rule('''\n",
    "MATCH (i:Intermediary)-[:intermediary_of]->(e:Entity) \n",
    "WHERE i.address IS NOT NULL AND i.address = \"\" AND e.country_codes IS NULL\n",
    "GENERATE\n",
    "(x = (i):T_Intermediary)-[():T_REGISTERED_ADDRESS]->(y = (e.address):T_Address {\n",
    "  source = e.sourceID\n",
    "})\n",
    "''')"
   ]
  },
  {
   "cell_type": "code",
   "execution_count": 44,
   "id": "fca32433-da43-411c-a68d-6dae8f84097a",
   "metadata": {},
   "outputs": [],
   "source": [
    "#intermediary_not_empty_address._compile()\n",
    "#print(intermediary_not_empty_address._compiled)"
   ]
  },
  {
   "cell_type": "code",
   "execution_count": 45,
   "id": "06827fdd-8f3c-463c-af55-4c72aa43f556",
   "metadata": {},
   "outputs": [
    {
     "name": "stdout",
     "output_type": "stream",
     "text": [
      "Iteration i=0:\n",
      "Index: Added 0 index, completed after 1 ms.\n",
      "Rule: Added 40386 labels, created 20193 nodes, set 30689 properties, created 10496 relationships, completed after 845 ms.\n",
      "Rule: Added 34950 labels, created 17475 nodes, set 51952 properties, created 17237 relationships, completed after 575 ms.\n",
      "Rule: Added 92 labels, created 46 nodes, set 92 properties, created 23 relationships, completed after 673 ms.\n",
      "Rule: Added 16650 labels, created 8325 nodes, set 103031 properties, created 8740 relationships, completed after 2868 ms.\n",
      "Rule: Added 106 labels, created 53 nodes, set 201 properties, created 28 relationships, completed after 1479 ms.\n",
      "Abort: Deleted 46092 nodes, deleted 36524 relationships, completed after 415 ms.\n",
      "Iteration i=1:\n",
      "Index: Added 0 index, completed after 0 ms.\n",
      "Rule: Added 40386 labels, created 20193 nodes, set 30689 properties, created 10496 relationships, completed after 608 ms.\n",
      "Rule: Added 34950 labels, created 17475 nodes, set 51952 properties, created 17237 relationships, completed after 380 ms.\n",
      "Rule: Added 92 labels, created 46 nodes, set 92 properties, created 23 relationships, completed after 582 ms.\n",
      "Rule: Added 16650 labels, created 8325 nodes, set 103031 properties, created 8740 relationships, completed after 2554 ms.\n",
      "Rule: Added 106 labels, created 53 nodes, set 201 properties, created 28 relationships, completed after 1329 ms.\n",
      "Abort: Deleted 46092 nodes, deleted 36524 relationships, completed after 451 ms.\n",
      "Average execution time: 5946.500 ms.\n"
     ]
    }
   ],
   "source": [
    "my_transform = Transformation([\n",
    "    intermediary_registered_address, \n",
    "    intermediary_not_empty_address,\n",
    "    intermediary_not_empty_address_undefined_countries,\n",
    "    intermediary_empty_address,\n",
    "    intermediary_empty_address_undefined_countries\n",
    "], with_diagnose = False) # no need for diagnose's specific functionalities for the VLDB exp.\n",
    "rep, tt = 2, 0\n",
    "for i in range(rep):\n",
    "    print(f\"Iteration {i=}:\")\n",
    "    tt += my_transform.apply_on(graph)\n",
    "    my_transform.abort(keep_index = True) # Strange bug: indexes created with the Neo4j Python driver cannot be used in subsequent query plans\n",
    "avg_time = tt/rep\n",
    "print(f\"Average execution time: {avg_time:.3f} ms.\")"
   ]
  },
  {
   "cell_type": "markdown",
   "id": "c2004887-a04e-42ba-aa37-aa5a9df465bd",
   "metadata": {},
   "source": [
    "### Input queries\n",
    "We now look at the total execution time and total number of rows of the input queries."
   ]
  },
  {
   "cell_type": "code",
   "execution_count": 46,
   "id": "14c9fbdb-4969-428b-945c-f4e3063edd4e",
   "metadata": {},
   "outputs": [
    {
     "name": "stdout",
     "output_type": "stream",
     "text": [
      "Total execution time of the input rules: 3553 ms.\n",
      "Total size of intermediate data: 62242 rows.\n"
     ]
    }
   ],
   "source": [
    "nb_rows, exec_time = 0, 0\n",
    "intermediary_registered_address_input_rule = '''\n",
    "MATCH (i:Intermediary)-[:registered_address]->(a:Address)\n",
    "RETURN i, a'''\n",
    "r, e = graph.query(intermediary_registered_address_input_rule)\n",
    "nb_rows += r\n",
    "exec_time += e\n",
    "intermediary_not_empty_address_input_rule = '''\n",
    "MATCH (i:Intermediary)\n",
    "WHERE i.address IS NOT NULL AND i.address <> \"\" AND i.country_codes IS NOT NULL\n",
    "RETURN i'''\n",
    "r, e = graph.query(intermediary_not_empty_address_input_rule)\n",
    "nb_rows += r\n",
    "exec_time += e\n",
    "intermediary_not_empty_address_undefined_countries_input_rule = '''\n",
    "MATCH (i:Intermediary)\n",
    "WHERE i.address IS NOT NULL AND i.address <> \"\" AND i.country_codes IS NULL\n",
    "RETURN i'''\n",
    "r, e = graph.query(intermediary_not_empty_address_undefined_countries_input_rule)\n",
    "nb_rows += r\n",
    "exec_time += e\n",
    "intermediary_empty_address_input_rule = '''\n",
    "MATCH (i:Intermediary)-[:intermediary_of]->(e:Entity) \n",
    "WHERE i.address IS NOT NULL AND i.address = \"\" AND e.country_codes IS NOT NULL\n",
    "RETURN i, e'''\n",
    "r, e = graph.query(intermediary_empty_address_input_rule)\n",
    "nb_rows += r\n",
    "exec_time += e\n",
    "intermediary_empty_address_undefined_countries_input_rule = '''\n",
    "MATCH (i:Intermediary)-[:intermediary_of]->(e:Entity) \n",
    "WHERE i.address IS NOT NULL AND i.address = \"\" AND e.country_codes IS NULL\n",
    "RETURN i, e'''\n",
    "r, e = graph.query(intermediary_empty_address_undefined_countries_input_rule)\n",
    "nb_rows += r\n",
    "exec_time += e\n",
    "print(f\"Total execution time of the input rules: {exec_time} ms.\")\n",
    "print(f\"Total size of intermediate data: {nb_rows} rows.\")"
   ]
  },
  {
   "cell_type": "markdown",
   "id": "5ca64282-639a-4b76-ae2d-7f63bb267ede",
   "metadata": {},
   "source": [
    "### Results\n",
    "\n",
    "Present the statistics and give number of conflicting elements in the output."
   ]
  },
  {
   "cell_type": "code",
   "execution_count": 47,
   "id": "83d18ab7-c7bb-4f2b-bb57-784c6c67cefb",
   "metadata": {},
   "outputs": [
    {
     "name": "stdout",
     "output_type": "stream",
     "text": [
      "Rule: Added 40386 labels, created 20193 nodes, set 30689 properties, created 10496 relationships, completed after 745 ms.\n",
      "Rule: Added 34950 labels, created 17475 nodes, set 51952 properties, created 17237 relationships, completed after 481 ms.\n",
      "Rule: Added 92 labels, created 46 nodes, set 92 properties, created 23 relationships, completed after 567 ms.\n",
      "Rule: Added 16650 labels, created 8325 nodes, set 103031 properties, created 8740 relationships, completed after 2631 ms.\n",
      "Rule: Added 106 labels, created 53 nodes, set 201 properties, created 28 relationships, completed after 1491 ms.\n",
      "Abort: Deleted 46092 nodes, deleted 36524 relationships, completed after 391 ms.\n"
     ]
    }
   ],
   "source": [
    "num_nodes, num_rels = 0, 0\n",
    "_, summary = intermediary_registered_address.apply_on(graph)\n",
    "num_nodes += summary.counters.nodes_created\n",
    "num_rels += summary.counters.relationships_created\n",
    "_, summary = intermediary_not_empty_address.apply_on(graph)\n",
    "num_nodes += summary.counters.nodes_created\n",
    "num_rels += summary.counters.relationships_created\n",
    "_, summary = intermediary_not_empty_address_undefined_countries.apply_on(graph)\n",
    "num_nodes += summary.counters.nodes_created\n",
    "num_rels += summary.counters.relationships_created\n",
    "_, summary = intermediary_empty_address.apply_on(graph)\n",
    "num_nodes += summary.counters.nodes_created\n",
    "num_rels += summary.counters.relationships_created\n",
    "_, summary = intermediary_empty_address_undefined_countries.apply_on(graph)\n",
    "num_nodes += summary.counters.nodes_created\n",
    "num_rels += summary.counters.relationships_created\n",
    "# clear output data \n",
    "my_transform._graph = graph\n",
    "my_transform.abort(keep_index = True)"
   ]
  },
  {
   "cell_type": "code",
   "execution_count": 48,
   "id": "3b8d3bc5-f3c8-4450-b3e4-db7dff948796",
   "metadata": {},
   "outputs": [
    {
     "name": "stdout",
     "output_type": "stream",
     "text": [
      "Ratio between intermediate data and size of the output: 1.327\n",
      "Time to compute the intermediary results, per row: 0.057 ms.\n",
      "Time to construct the output, per element: 0.072 ms.\n"
     ]
    }
   ],
   "source": [
    "print(f\"Ratio between intermediate data and size of the output: {(num_nodes + num_rels) / nb_rows:.3f}\")\n",
    "print(f\"Time to compute the intermediary results, per row: {exec_time / nb_rows:.3f} ms.\")\n",
    "print(f\"Time to construct the output, per element: {avg_time / (num_nodes + num_rels):.3f} ms.\")"
   ]
  },
  {
   "cell_type": "code",
   "execution_count": 49,
   "id": "5f806657-8872-4bf1-9d3a-419ec7733cee",
   "metadata": {},
   "outputs": [
    {
     "name": "stdout",
     "output_type": "stream",
     "text": [
      "Index: Added 0 index, completed after 0 ms.\n",
      "Rule: Added 40386 labels, created 20193 nodes, set 30689 properties, created 10496 relationships, completed after 633 ms.\n",
      "Rule: Added 34950 labels, created 17475 nodes, set 51952 properties, created 17237 relationships, completed after 709 ms.\n",
      "Rule: Added 92 labels, created 46 nodes, set 92 properties, created 23 relationships, completed after 675 ms.\n",
      "Rule: Added 16650 labels, created 8325 nodes, set 103031 properties, created 8740 relationships, completed after 2805 ms.\n",
      "Rule: Added 106 labels, created 53 nodes, set 201 properties, created 28 relationships, completed after 1448 ms.\n",
      "NodeConflicts: There are currently 0 nodes in the database which have a conflict.\n",
      "EdgeConflicts: There are currently 0 edges in the database which have a conflict.\n",
      "Abort: Deleted 46092 nodes, deleted 36524 relationships, completed after 435 ms.\n",
      "Percentages of conflicting nodes and edges, respectively: 0.000% and 0.000%.\n"
     ]
    }
   ],
   "source": [
    "intermediary_registered_address_with_diagnose = Rule('''\n",
    "MATCH (i:Intermediary)-[:registered_address]->(a:Address)\n",
    "GENERATE\n",
    "(x = (i):T_Intermediary)-[():T_REGISTERED_ADDRESS]->(y = (a):T_Address)\n",
    "''')\n",
    "intermediary_not_empty_address_with_diagnose = Rule('''\n",
    "MATCH (i:Intermediary)\n",
    "WHERE i.address IS NOT NULL AND i.address <> \"\" AND i.country_codes IS NOT NULL\n",
    "GENERATE\n",
    "(x = (i):T_Intermediary)-[():T_REGISTERED_ADDRESS]->(y = (i.address):T_Address {\n",
    "  source = i.sourceID\n",
    "}),\n",
    "(y)-[():T_LOCATED]->(z = (i.country_codes):T_Country {\n",
    "    name = i.countries\n",
    "})\n",
    "''')\n",
    "intermediary_not_empty_address_undefined_countries_with_diagnose = Rule('''\n",
    "MATCH (i:Intermediary)\n",
    "WHERE i.address IS NOT NULL AND i.address <> \"\" AND i.country_codes IS NULL\n",
    "GENERATE\n",
    "(x = (i):T_Intermediary)-[():T_REGISTERED_ADDRESS]->(y = (i.address):T_Address {\n",
    "  source = i.sourceID\n",
    "})\n",
    "''')\n",
    "intermediary_empty_address_with_diagnose = Rule('''\n",
    "MATCH (i:Intermediary)-[:intermediary_of]->(e:Entity) \n",
    "WHERE i.address IS NOT NULL AND i.address = \"\" AND e.country_codes IS NOT NULL\n",
    "GENERATE\n",
    "(x = (i):T_Intermediary)-[():T_REGISTERED_ADDRESS]->(y = (e.address):T_Address {\n",
    "  source = e.sourceID\n",
    "}),\n",
    "(y)-[():T_LOCATED]->(z = (e.country_codes):T_Country {\n",
    "    name = e.countries\n",
    "})\n",
    "''')\n",
    "intermediary_empty_address_undefined_countries_with_diagnose = Rule('''\n",
    "MATCH (i:Intermediary)-[:intermediary_of]->(e:Entity) \n",
    "WHERE i.address IS NOT NULL AND i.address = \"\" AND e.country_codes IS NULL\n",
    "GENERATE\n",
    "(x = (i):T_Intermediary)-[():T_REGISTERED_ADDRESS]->(y = (e.address):T_Address {\n",
    "  source = e.sourceID\n",
    "})\n",
    "''')\n",
    "my_transform = Transformation([\n",
    "    intermediary_registered_address_with_diagnose, \n",
    "    intermediary_not_empty_address_with_diagnose,\n",
    "    intermediary_not_empty_address_undefined_countries_with_diagnose,\n",
    "    intermediary_empty_address_with_diagnose,\n",
    "    intermediary_empty_address_undefined_countries_with_diagnose,\n",
    "], with_diagnose = True) # no need for diagnose's specific functionalities for the VLDB exp.\n",
    "my_transform.apply_on(graph)\n",
    "nc, ec = my_transform.diagnose()\n",
    "my_transform.abort(keep_index = True) # Strange bug: indexes created with the Neo4j Python driver cannot be used in subsequent query plans\n",
    "print(f\"Percentages of conflicting nodes and edges, respectively: {(nc * 100) / num_nodes:.3f}% and {(ec * 100) / num_rels:.3f}%.\")"
   ]
  },
  {
   "cell_type": "code",
   "execution_count": null,
   "id": "dc19b61f-2bd7-4df1-893d-b90741f9fb09",
   "metadata": {},
   "outputs": [],
   "source": []
  }
 ],
 "metadata": {
  "kernelspec": {
   "display_name": "Python 3 (ipykernel)",
   "language": "python",
   "name": "python3"
  },
  "language_info": {
   "codemirror_mode": {
    "name": "ipython",
    "version": 3
   },
   "file_extension": ".py",
   "mimetype": "text/x-python",
   "name": "python",
   "nbconvert_exporter": "python",
   "pygments_lexer": "ipython3",
   "version": "3.11.6"
  }
 },
 "nbformat": 4,
 "nbformat_minor": 5
}
